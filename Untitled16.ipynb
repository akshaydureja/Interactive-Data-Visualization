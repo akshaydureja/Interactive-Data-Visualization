{
 "cells": [
  {
   "cell_type": "code",
   "execution_count": 48,
   "metadata": {},
   "outputs": [],
   "source": [
    "import pandas as pd\n",
    "import numpy as np\n",
    "import seaborn as sns\n",
    "import matplotlib.pyplot as plt"
   ]
  },
  {
   "cell_type": "code",
   "execution_count": 35,
   "metadata": {},
   "outputs": [],
   "source": [
    "ds=pd.read_csv(\"/Users/akshaydureja/Downloads/coursera_data.csv\")"
   ]
  },
  {
   "cell_type": "code",
   "execution_count": 36,
   "metadata": {},
   "outputs": [
    {
     "data": {
      "text/html": [
       "<div>\n",
       "<style scoped>\n",
       "    .dataframe tbody tr th:only-of-type {\n",
       "        vertical-align: middle;\n",
       "    }\n",
       "\n",
       "    .dataframe tbody tr th {\n",
       "        vertical-align: top;\n",
       "    }\n",
       "\n",
       "    .dataframe thead th {\n",
       "        text-align: right;\n",
       "    }\n",
       "</style>\n",
       "<table border=\"1\" class=\"dataframe\">\n",
       "  <thead>\n",
       "    <tr style=\"text-align: right;\">\n",
       "      <th></th>\n",
       "      <th>Unnamed: 0</th>\n",
       "      <th>course_title</th>\n",
       "      <th>course_organization</th>\n",
       "      <th>course_Certificate_type</th>\n",
       "      <th>course_rating</th>\n",
       "      <th>course_difficulty</th>\n",
       "      <th>course_students_enrolled</th>\n",
       "    </tr>\n",
       "  </thead>\n",
       "  <tbody>\n",
       "    <tr>\n",
       "      <th>0</th>\n",
       "      <td>134</td>\n",
       "      <td>(ISC)² Systems Security Certified Practitioner...</td>\n",
       "      <td>(ISC)²</td>\n",
       "      <td>SPECIALIZATION</td>\n",
       "      <td>4.7</td>\n",
       "      <td>Beginner</td>\n",
       "      <td>5.3k</td>\n",
       "    </tr>\n",
       "    <tr>\n",
       "      <th>1</th>\n",
       "      <td>743</td>\n",
       "      <td>A Crash Course in Causality:  Inferring Causal...</td>\n",
       "      <td>University of Pennsylvania</td>\n",
       "      <td>COURSE</td>\n",
       "      <td>4.7</td>\n",
       "      <td>Intermediate</td>\n",
       "      <td>17k</td>\n",
       "    </tr>\n",
       "    <tr>\n",
       "      <th>2</th>\n",
       "      <td>874</td>\n",
       "      <td>A Crash Course in Data Science</td>\n",
       "      <td>Johns Hopkins University</td>\n",
       "      <td>COURSE</td>\n",
       "      <td>4.5</td>\n",
       "      <td>Mixed</td>\n",
       "      <td>130k</td>\n",
       "    </tr>\n",
       "    <tr>\n",
       "      <th>3</th>\n",
       "      <td>413</td>\n",
       "      <td>A Law Student's Toolkit</td>\n",
       "      <td>Yale University</td>\n",
       "      <td>COURSE</td>\n",
       "      <td>4.7</td>\n",
       "      <td>Mixed</td>\n",
       "      <td>91k</td>\n",
       "    </tr>\n",
       "    <tr>\n",
       "      <th>4</th>\n",
       "      <td>635</td>\n",
       "      <td>A Life of Happiness and Fulfillment</td>\n",
       "      <td>Indian School of Business</td>\n",
       "      <td>COURSE</td>\n",
       "      <td>4.8</td>\n",
       "      <td>Mixed</td>\n",
       "      <td>320k</td>\n",
       "    </tr>\n",
       "  </tbody>\n",
       "</table>\n",
       "</div>"
      ],
      "text/plain": [
       "   Unnamed: 0                                       course_title  \\\n",
       "0         134  (ISC)² Systems Security Certified Practitioner...   \n",
       "1         743  A Crash Course in Causality:  Inferring Causal...   \n",
       "2         874                     A Crash Course in Data Science   \n",
       "3         413                            A Law Student's Toolkit   \n",
       "4         635                A Life of Happiness and Fulfillment   \n",
       "\n",
       "          course_organization course_Certificate_type  course_rating  \\\n",
       "0                      (ISC)²          SPECIALIZATION            4.7   \n",
       "1  University of Pennsylvania                  COURSE            4.7   \n",
       "2    Johns Hopkins University                  COURSE            4.5   \n",
       "3             Yale University                  COURSE            4.7   \n",
       "4   Indian School of Business                  COURSE            4.8   \n",
       "\n",
       "  course_difficulty course_students_enrolled  \n",
       "0          Beginner                     5.3k  \n",
       "1      Intermediate                      17k  \n",
       "2             Mixed                     130k  \n",
       "3             Mixed                      91k  \n",
       "4             Mixed                     320k  "
      ]
     },
     "execution_count": 36,
     "metadata": {},
     "output_type": "execute_result"
    }
   ],
   "source": [
    "ds.head()"
   ]
  },
  {
   "cell_type": "code",
   "execution_count": 37,
   "metadata": {},
   "outputs": [
    {
     "data": {
      "text/plain": [
       "(891, 7)"
      ]
     },
     "execution_count": 37,
     "metadata": {},
     "output_type": "execute_result"
    }
   ],
   "source": [
    "ds.shape"
   ]
  },
  {
   "cell_type": "code",
   "execution_count": 38,
   "metadata": {},
   "outputs": [
    {
     "data": {
      "text/plain": [
       "<matplotlib.axes._subplots.AxesSubplot at 0x7f953e913710>"
      ]
     },
     "execution_count": 38,
     "metadata": {},
     "output_type": "execute_result"
    },
    {
     "data": {
      "image/png": "[encoded data removed]",
      "text/plain": [
       "<Figure size 432x288 with 2 Axes>"
      ]
     },
     "metadata": {
      "needs_background": "light"
     },
     "output_type": "display_data"
    }
   ],
   "source": [
    "sns.heatmap(ds.isnull())"
   ]
  },
  {
   "cell_type": "code",
   "execution_count": 39,
   "metadata": {},
   "outputs": [],
   "source": [
    "ds.drop([\"Unnamed: 0\"],axis=1,inplace=True)"
   ]
  },
  {
   "cell_type": "code",
   "execution_count": 46,
   "metadata": {},
   "outputs": [
    {
     "data": {
      "text/html": [
       "<div>\n",
       "<style scoped>\n",
       "    .dataframe tbody tr th:only-of-type {\n",
       "        vertical-align: middle;\n",
       "    }\n",
       "\n",
       "    .dataframe tbody tr th {\n",
       "        vertical-align: top;\n",
       "    }\n",
       "\n",
       "    .dataframe thead th {\n",
       "        text-align: right;\n",
       "    }\n",
       "</style>\n",
       "<table border=\"1\" class=\"dataframe\">\n",
       "  <thead>\n",
       "    <tr style=\"text-align: right;\">\n",
       "      <th></th>\n",
       "      <th>course_title</th>\n",
       "      <th>course_organization</th>\n",
       "      <th>course_Certificate_type</th>\n",
       "      <th>course_rating</th>\n",
       "      <th>course_difficulty</th>\n",
       "      <th>course_students_enrolled</th>\n",
       "    </tr>\n",
       "  </thead>\n",
       "  <tbody>\n",
       "    <tr>\n",
       "      <th>0</th>\n",
       "      <td>(ISC)² Systems Security Certified Practitioner...</td>\n",
       "      <td>(ISC)²</td>\n",
       "      <td>SPECIALIZATION</td>\n",
       "      <td>4.7</td>\n",
       "      <td>Beginner</td>\n",
       "      <td>5300.0</td>\n",
       "    </tr>\n",
       "    <tr>\n",
       "      <th>1</th>\n",
       "      <td>A Crash Course in Causality:  Inferring Causal...</td>\n",
       "      <td>University of Pennsylvania</td>\n",
       "      <td>COURSE</td>\n",
       "      <td>4.7</td>\n",
       "      <td>Intermediate</td>\n",
       "      <td>17000.0</td>\n",
       "    </tr>\n",
       "    <tr>\n",
       "      <th>2</th>\n",
       "      <td>A Crash Course in Data Science</td>\n",
       "      <td>Johns Hopkins University</td>\n",
       "      <td>COURSE</td>\n",
       "      <td>4.5</td>\n",
       "      <td>Mixed</td>\n",
       "      <td>130000.0</td>\n",
       "    </tr>\n",
       "    <tr>\n",
       "      <th>3</th>\n",
       "      <td>A Law Student's Toolkit</td>\n",
       "      <td>Yale University</td>\n",
       "      <td>COURSE</td>\n",
       "      <td>4.7</td>\n",
       "      <td>Mixed</td>\n",
       "      <td>91000.0</td>\n",
       "    </tr>\n",
       "    <tr>\n",
       "      <th>4</th>\n",
       "      <td>A Life of Happiness and Fulfillment</td>\n",
       "      <td>Indian School of Business</td>\n",
       "      <td>COURSE</td>\n",
       "      <td>4.8</td>\n",
       "      <td>Mixed</td>\n",
       "      <td>320000.0</td>\n",
       "    </tr>\n",
       "    <tr>\n",
       "      <th>...</th>\n",
       "      <td>...</td>\n",
       "      <td>...</td>\n",
       "      <td>...</td>\n",
       "      <td>...</td>\n",
       "      <td>...</td>\n",
       "      <td>...</td>\n",
       "    </tr>\n",
       "    <tr>\n",
       "      <th>886</th>\n",
       "      <td>Программирование на Python</td>\n",
       "      <td>Mail.Ru Group</td>\n",
       "      <td>SPECIALIZATION</td>\n",
       "      <td>4.5</td>\n",
       "      <td>Intermediate</td>\n",
       "      <td>52000.0</td>\n",
       "    </tr>\n",
       "    <tr>\n",
       "      <th>887</th>\n",
       "      <td>Психолингвистика (Psycholinguistics)</td>\n",
       "      <td>Saint Petersburg State University</td>\n",
       "      <td>COURSE</td>\n",
       "      <td>4.8</td>\n",
       "      <td>Mixed</td>\n",
       "      <td>21000.0</td>\n",
       "    </tr>\n",
       "    <tr>\n",
       "      <th>888</th>\n",
       "      <td>Разработка интерфейсов: вёрстка и JavaScript</td>\n",
       "      <td>E-Learning Development Fund</td>\n",
       "      <td>SPECIALIZATION</td>\n",
       "      <td>4.5</td>\n",
       "      <td>Intermediate</td>\n",
       "      <td>30000.0</td>\n",
       "    </tr>\n",
       "    <tr>\n",
       "      <th>889</th>\n",
       "      <td>Русский как иностранный</td>\n",
       "      <td>Saint Petersburg State University</td>\n",
       "      <td>SPECIALIZATION</td>\n",
       "      <td>4.6</td>\n",
       "      <td>Intermediate</td>\n",
       "      <td>9800.0</td>\n",
       "    </tr>\n",
       "    <tr>\n",
       "      <th>890</th>\n",
       "      <td>Финансовые инструменты для частного инвестора</td>\n",
       "      <td>National Research University Higher School of ...</td>\n",
       "      <td>SPECIALIZATION</td>\n",
       "      <td>4.7</td>\n",
       "      <td>Beginner</td>\n",
       "      <td>38000.0</td>\n",
       "    </tr>\n",
       "  </tbody>\n",
       "</table>\n",
       "<p>891 rows × 6 columns</p>\n",
       "</div>"
      ],
      "text/plain": [
       "                                          course_title  \\\n",
       "0    (ISC)² Systems Security Certified Practitioner...   \n",
       "1    A Crash Course in Causality:  Inferring Causal...   \n",
       "2                       A Crash Course in Data Science   \n",
       "3                              A Law Student's Toolkit   \n",
       "4                  A Life of Happiness and Fulfillment   \n",
       "..                                                 ...   \n",
       "886                         Программирование на Python   \n",
       "887               Психолингвистика (Psycholinguistics)   \n",
       "888       Разработка интерфейсов: вёрстка и JavaScript   \n",
       "889                            Русский как иностранный   \n",
       "890      Финансовые инструменты для частного инвестора   \n",
       "\n",
       "                                   course_organization  \\\n",
       "0                                               (ISC)²   \n",
       "1                           University of Pennsylvania   \n",
       "2                             Johns Hopkins University   \n",
       "3                                      Yale University   \n",
       "4                            Indian School of Business   \n",
       "..                                                 ...   \n",
       "886                                      Mail.Ru Group   \n",
       "887                  Saint Petersburg State University   \n",
       "888                        E-Learning Development Fund   \n",
       "889                  Saint Petersburg State University   \n",
       "890  National Research University Higher School of ...   \n",
       "\n",
       "    course_Certificate_type  course_rating course_difficulty  \\\n",
       "0            SPECIALIZATION            4.7          Beginner   \n",
       "1                    COURSE            4.7      Intermediate   \n",
       "2                    COURSE            4.5             Mixed   \n",
       "3                    COURSE            4.7             Mixed   \n",
       "4                    COURSE            4.8             Mixed   \n",
       "..                      ...            ...               ...   \n",
       "886          SPECIALIZATION            4.5      Intermediate   \n",
       "887                  COURSE            4.8             Mixed   \n",
       "888          SPECIALIZATION            4.5      Intermediate   \n",
       "889          SPECIALIZATION            4.6      Intermediate   \n",
       "890          SPECIALIZATION            4.7          Beginner   \n",
       "\n",
       "     course_students_enrolled  \n",
       "0                      5300.0  \n",
       "1                     17000.0  \n",
       "2                    130000.0  \n",
       "3                     91000.0  \n",
       "4                    320000.0  \n",
       "..                        ...  \n",
       "886                   52000.0  \n",
       "887                   21000.0  \n",
       "888                   30000.0  \n",
       "889                    9800.0  \n",
       "890                   38000.0  \n",
       "\n",
       "[891 rows x 6 columns]"
      ]
     },
     "execution_count": 46,
     "metadata": {},
     "output_type": "execute_result"
    }
   ],
   "source": [
    "ds"
   ]
  },
  {
   "cell_type": "code",
   "execution_count": 41,
   "metadata": {},
   "outputs": [],
   "source": [
    "ds['course_students_enrolled']= ds['course_students_enrolled'].str.replace('k', '*1000')\n",
    "ds['course_students_enrolled']= ds['course_students_enrolled'].str.replace('m', '*1000000')\n"
   ]
  },
  {
   "cell_type": "code",
   "execution_count": 44,
   "metadata": {},
   "outputs": [],
   "source": [
    "ds['course_students_enrolled'] = ds['course_students_enrolled'].map(lambda x: eval(x))"
   ]
  },
  {
   "cell_type": "code",
   "execution_count": 45,
   "metadata": {},
   "outputs": [
    {
     "data": {
      "text/html": [
       "<div>\n",
       "<style scoped>\n",
       "    .dataframe tbody tr th:only-of-type {\n",
       "        vertical-align: middle;\n",
       "    }\n",
       "\n",
       "    .dataframe tbody tr th {\n",
       "        vertical-align: top;\n",
       "    }\n",
       "\n",
       "    .dataframe thead th {\n",
       "        text-align: right;\n",
       "    }\n",
       "</style>\n",
       "<table border=\"1\" class=\"dataframe\">\n",
       "  <thead>\n",
       "    <tr style=\"text-align: right;\">\n",
       "      <th></th>\n",
       "      <th>course_title</th>\n",
       "      <th>course_organization</th>\n",
       "      <th>course_Certificate_type</th>\n",
       "      <th>course_rating</th>\n",
       "      <th>course_difficulty</th>\n",
       "      <th>course_students_enrolled</th>\n",
       "    </tr>\n",
       "  </thead>\n",
       "  <tbody>\n",
       "    <tr>\n",
       "      <th>0</th>\n",
       "      <td>(ISC)² Systems Security Certified Practitioner...</td>\n",
       "      <td>(ISC)²</td>\n",
       "      <td>SPECIALIZATION</td>\n",
       "      <td>4.7</td>\n",
       "      <td>Beginner</td>\n",
       "      <td>5300.0</td>\n",
       "    </tr>\n",
       "    <tr>\n",
       "      <th>1</th>\n",
       "      <td>A Crash Course in Causality:  Inferring Causal...</td>\n",
       "      <td>University of Pennsylvania</td>\n",
       "      <td>COURSE</td>\n",
       "      <td>4.7</td>\n",
       "      <td>Intermediate</td>\n",
       "      <td>17000.0</td>\n",
       "    </tr>\n",
       "    <tr>\n",
       "      <th>2</th>\n",
       "      <td>A Crash Course in Data Science</td>\n",
       "      <td>Johns Hopkins University</td>\n",
       "      <td>COURSE</td>\n",
       "      <td>4.5</td>\n",
       "      <td>Mixed</td>\n",
       "      <td>130000.0</td>\n",
       "    </tr>\n",
       "    <tr>\n",
       "      <th>3</th>\n",
       "      <td>A Law Student's Toolkit</td>\n",
       "      <td>Yale University</td>\n",
       "      <td>COURSE</td>\n",
       "      <td>4.7</td>\n",
       "      <td>Mixed</td>\n",
       "      <td>91000.0</td>\n",
       "    </tr>\n",
       "    <tr>\n",
       "      <th>4</th>\n",
       "      <td>A Life of Happiness and Fulfillment</td>\n",
       "      <td>Indian School of Business</td>\n",
       "      <td>COURSE</td>\n",
       "      <td>4.8</td>\n",
       "      <td>Mixed</td>\n",
       "      <td>320000.0</td>\n",
       "    </tr>\n",
       "    <tr>\n",
       "      <th>...</th>\n",
       "      <td>...</td>\n",
       "      <td>...</td>\n",
       "      <td>...</td>\n",
       "      <td>...</td>\n",
       "      <td>...</td>\n",
       "      <td>...</td>\n",
       "    </tr>\n",
       "    <tr>\n",
       "      <th>886</th>\n",
       "      <td>Программирование на Python</td>\n",
       "      <td>Mail.Ru Group</td>\n",
       "      <td>SPECIALIZATION</td>\n",
       "      <td>4.5</td>\n",
       "      <td>Intermediate</td>\n",
       "      <td>52000.0</td>\n",
       "    </tr>\n",
       "    <tr>\n",
       "      <th>887</th>\n",
       "      <td>Психолингвистика (Psycholinguistics)</td>\n",
       "      <td>Saint Petersburg State University</td>\n",
       "      <td>COURSE</td>\n",
       "      <td>4.8</td>\n",
       "      <td>Mixed</td>\n",
       "      <td>21000.0</td>\n",
       "    </tr>\n",
       "    <tr>\n",
       "      <th>888</th>\n",
       "      <td>Разработка интерфейсов: вёрстка и JavaScript</td>\n",
       "      <td>E-Learning Development Fund</td>\n",
       "      <td>SPECIALIZATION</td>\n",
       "      <td>4.5</td>\n",
       "      <td>Intermediate</td>\n",
       "      <td>30000.0</td>\n",
       "    </tr>\n",
       "    <tr>\n",
       "      <th>889</th>\n",
       "      <td>Русский как иностранный</td>\n",
       "      <td>Saint Petersburg State University</td>\n",
       "      <td>SPECIALIZATION</td>\n",
       "      <td>4.6</td>\n",
       "      <td>Intermediate</td>\n",
       "      <td>9800.0</td>\n",
       "    </tr>\n",
       "    <tr>\n",
       "      <th>890</th>\n",
       "      <td>Финансовые инструменты для частного инвестора</td>\n",
       "      <td>National Research University Higher School of ...</td>\n",
       "      <td>SPECIALIZATION</td>\n",
       "      <td>4.7</td>\n",
       "      <td>Beginner</td>\n",
       "      <td>38000.0</td>\n",
       "    </tr>\n",
       "  </tbody>\n",
       "</table>\n",
       "<p>891 rows × 6 columns</p>\n",
       "</div>"
      ],
      "text/plain": [
       "                                          course_title  \\\n",
       "0    (ISC)² Systems Security Certified Practitioner...   \n",
       "1    A Crash Course in Causality:  Inferring Causal...   \n",
       "2                       A Crash Course in Data Science   \n",
       "3                              A Law Student's Toolkit   \n",
       "4                  A Life of Happiness and Fulfillment   \n",
       "..                                                 ...   \n",
       "886                         Программирование на Python   \n",
       "887               Психолингвистика (Psycholinguistics)   \n",
       "888       Разработка интерфейсов: вёрстка и JavaScript   \n",
       "889                            Русский как иностранный   \n",
       "890      Финансовые инструменты для частного инвестора   \n",
       "\n",
       "                                   course_organization  \\\n",
       "0                                               (ISC)²   \n",
       "1                           University of Pennsylvania   \n",
       "2                             Johns Hopkins University   \n",
       "3                                      Yale University   \n",
       "4                            Indian School of Business   \n",
       "..                                                 ...   \n",
       "886                                      Mail.Ru Group   \n",
       "887                  Saint Petersburg State University   \n",
       "888                        E-Learning Development Fund   \n",
       "889                  Saint Petersburg State University   \n",
       "890  National Research University Higher School of ...   \n",
       "\n",
       "    course_Certificate_type  course_rating course_difficulty  \\\n",
       "0            SPECIALIZATION            4.7          Beginner   \n",
       "1                    COURSE            4.7      Intermediate   \n",
       "2                    COURSE            4.5             Mixed   \n",
       "3                    COURSE            4.7             Mixed   \n",
       "4                    COURSE            4.8             Mixed   \n",
       "..                      ...            ...               ...   \n",
       "886          SPECIALIZATION            4.5      Intermediate   \n",
       "887                  COURSE            4.8             Mixed   \n",
       "888          SPECIALIZATION            4.5      Intermediate   \n",
       "889          SPECIALIZATION            4.6      Intermediate   \n",
       "890          SPECIALIZATION            4.7          Beginner   \n",
       "\n",
       "     course_students_enrolled  \n",
       "0                      5300.0  \n",
       "1                     17000.0  \n",
       "2                    130000.0  \n",
       "3                     91000.0  \n",
       "4                    320000.0  \n",
       "..                        ...  \n",
       "886                   52000.0  \n",
       "887                   21000.0  \n",
       "888                   30000.0  \n",
       "889                    9800.0  \n",
       "890                   38000.0  \n",
       "\n",
       "[891 rows x 6 columns]"
      ]
     },
     "execution_count": 45,
     "metadata": {},
     "output_type": "execute_result"
    }
   ],
   "source": [
    "ds"
   ]
  },
  {
   "cell_type": "code",
   "execution_count": 52,
   "metadata": {},
   "outputs": [
    {
     "data": {
      "image/png": "[encoded data removed]",
      "text/plain": [
       "<Figure size 864x720 with 1 Axes>"
      ]
     },
     "metadata": {
      "needs_background": "light"
     },
     "output_type": "display_data"
    }
   ],
   "source": [
    "plt.figure(figsize=(12,10))\n",
    "plt.hist(ds['course_Certificate_type'])\n",
    "plt.show()"
   ]
  },
  {
   "cell_type": "code",
   "execution_count": 81,
   "metadata": {},
   "outputs": [
    {
     "data": {
      "text/html": [
       "        <script type=\"text/javascript\">\n",
       "        window.PlotlyConfig = {MathJaxConfig: 'local'};\n",
       "        if (window.MathJax) {MathJax.Hub.Config({SVG: {font: \"STIX-Web\"}});}\n",
       "        if (typeof require !== 'undefined') {\n",
       "        require.undef(\"plotly\");\n",
       "        requirejs.config({\n",
       "            paths: {\n",
       "                'plotly': ['https://cdn.plot.ly/plotly-latest.min']\n",
       "            }\n",
       "        });\n",
       "        require(['plotly'], function(Plotly) {\n",
       "            window._Plotly = Plotly;\n",
       "        });\n",
       "        }\n",
       "        </script>\n",
       "        "
      ]
     },
     "metadata": {},
     "output_type": "display_data"
    },
    {
     "data": {
      "text/html": [
       "        <script type=\"text/javascript\">\n",
       "        window.PlotlyConfig = {MathJaxConfig: 'local'};\n",
       "        if (window.MathJax) {MathJax.Hub.Config({SVG: {font: \"STIX-Web\"}});}\n",
       "        if (typeof require !== 'undefined') {\n",
       "        require.undef(\"plotly\");\n",
       "        requirejs.config({\n",
       "            paths: {\n",
       "                'plotly': ['https://cdn.plot.ly/plotly-latest.min']\n",
       "            }\n",
       "        });\n",
       "        require(['plotly'], function(Plotly) {\n",
       "            window._Plotly = Plotly;\n",
       "        });\n",
       "        }\n",
       "        </script>\n",
       "        "
      ]
     },
     "metadata": {},
     "output_type": "display_data"
    }
   ],
   "source": [
    "import plotly as py\n",
    "from plotly.offline import iplot\n",
    "import plotly.tools as tls\n",
    "\n",
    "import cufflinks as cf\n",
    "\n",
    "import plotly.graph_objs as go\n",
    "\n",
    "\n",
    "py.offline.init_notebook_mode(connected=True)\n",
    "cf.go_offline()"
   ]
  },
  {
   "cell_type": "code",
   "execution_count": 88,
   "metadata": {},
   "outputs": [
    {
     "data": {
      "application/vnd.plotly.v1+json": {
       "config": {
        "linkText": "Export to plot.ly",
        "plotlyServerURL": "https://plot.ly",
        "showLink": true
       },
       "data": [
        {
         "histfunc": "count",
         "histnorm": "",
         "marker": {
          "color": "rgba(0, 128, 240, 1.0)",
          "line": {
           "color": "#505050",
           "width": 1.3
          }
         },
         "name": "course_Certificate_type",
         "opacity": 0.8,
         "orientation": "v",
         "type": "histogram",
         "x": [
          "SPECIALIZATION",
          "COURSE",
          "COURSE",
          "COURSE",
          "COURSE",
          "COURSE",
          "COURSE",
          "COURSE",
          "SPECIALIZATION",
          "COURSE",
          "COURSE",
          "SPECIALIZATION",
          "SPECIALIZATION",
          "COURSE",
          "COURSE",
          "COURSE",
          "COURSE",
          "COURSE",
          "SPECIALIZATION",
          "SPECIALIZATION",
          "COURSE",
          "COURSE",
          "COURSE",
          "SPECIALIZATION",
          "COURSE",
          "COURSE",
          "SPECIALIZATION",
          "SPECIALIZATION",
          "SPECIALIZATION",
          "SPECIALIZATION",
          "COURSE",
          "COURSE",
          "COURSE",
          "SPECIALIZATION",
          "COURSE",
          "COURSE",
          "COURSE",
          "COURSE",
          "SPECIALIZATION",
          "SPECIALIZATION",
          "COURSE",
          "COURSE",
          "COURSE",
          "SPECIALIZATION",
          "SPECIALIZATION",
          "SPECIALIZATION",
          "COURSE",
          "COURSE",
          "COURSE",
          "SPECIALIZATION",
          "COURSE",
          "COURSE",
          "COURSE",
          "COURSE",
          "SPECIALIZATION",
          "COURSE",
          "SPECIALIZATION",
          "COURSE",
          "COURSE",
          "SPECIALIZATION",
          "COURSE",
          "COURSE",
          "SPECIALIZATION",
          "SPECIALIZATION",
          "SPECIALIZATION",
          "PROFESSIONAL CERTIFICATE",
          "COURSE",
          "COURSE",
          "COURSE",
          "COURSE",
          "COURSE",
          "COURSE",
          "COURSE",
          "COURSE",
          "SPECIALIZATION",
          "SPECIALIZATION",
          "COURSE",
          "COURSE",
          "COURSE",
          "COURSE",
          "COURSE",
          "COURSE",
          "COURSE",
          "SPECIALIZATION",
          "SPECIALIZATION",
          "COURSE",
          "COURSE",
          "COURSE",
          "COURSE",
          "SPECIALIZATION",
          "COURSE",
          "COURSE",
          "SPECIALIZATION",
          "COURSE",
          "SPECIALIZATION",
          "SPECIALIZATION",
          "SPECIALIZATION",
          "COURSE",
          "COURSE",
          "COURSE",
          "SPECIALIZATION",
          "COURSE",
          "COURSE",
          "COURSE",
          "COURSE",
          "COURSE",
          "COURSE",
          "COURSE",
          "COURSE",
          "SPECIALIZATION",
          "SPECIALIZATION",
          "SPECIALIZATION",
          "COURSE",
          "SPECIALIZATION",
          "COURSE",
          "SPECIALIZATION",
          "SPECIALIZATION",
          "SPECIALIZATION",
          "SPECIALIZATION",
          "COURSE",
          "COURSE",
          "SPECIALIZATION",
          "COURSE",
          "SPECIALIZATION",
          "COURSE",
          "COURSE",
          "COURSE",
          "COURSE",
          "COURSE",
          "SPECIALIZATION",
          "COURSE",
          "COURSE",
          "COURSE",
          "COURSE",
          "COURSE",
          "SPECIALIZATION",
          "COURSE",
          "SPECIALIZATION",
          "SPECIALIZATION",
          "COURSE",
          "SPECIALIZATION",
          "COURSE",
          "PROFESSIONAL CERTIFICATE",
          "SPECIALIZATION",
          "COURSE",
          "SPECIALIZATION",
          "COURSE",
          "COURSE",
          "COURSE",
          "SPECIALIZATION",
          "SPECIALIZATION",
          "COURSE",
          "SPECIALIZATION",
          "SPECIALIZATION",
          "COURSE",
          "SPECIALIZATION",
          "COURSE",
          "COURSE",
          "COURSE",
          "SPECIALIZATION",
          "COURSE",
          "COURSE",
          "COURSE",
          "COURSE",
          "COURSE",
          "COURSE",
          "COURSE",
          "COURSE",
          "COURSE",
          "COURSE",
          "COURSE",
          "COURSE",
          "COURSE",
          "SPECIALIZATION",
          "COURSE",
          "SPECIALIZATION",
          "COURSE",
          "COURSE",
          "SPECIALIZATION",
          "COURSE",
          "COURSE",
          "SPECIALIZATION",
          "COURSE",
          "SPECIALIZATION",
          "COURSE",
          "COURSE",
          "SPECIALIZATION",
          "SPECIALIZATION",
          "COURSE",
          "COURSE",
          "COURSE",
          "SPECIALIZATION",
          "PROFESSIONAL CERTIFICATE",
          "SPECIALIZATION",
          "COURSE",
          "SPECIALIZATION",
          "SPECIALIZATION",
          "COURSE",
          "COURSE",
          "SPECIALIZATION",
          "SPECIALIZATION",
          "COURSE",
          "COURSE",
          "COURSE",
          "SPECIALIZATION",
          "SPECIALIZATION",
          "COURSE",
          "COURSE",
          "COURSE",
          "COURSE",
          "COURSE",
          "SPECIALIZATION",
          "COURSE",
          "COURSE",
          "COURSE",
          "COURSE",
          "COURSE",
          "COURSE",
          "COURSE",
          "COURSE",
          "SPECIALIZATION",
          "SPECIALIZATION",
          "SPECIALIZATION",
          "SPECIALIZATION",
          "COURSE",
          "SPECIALIZATION",
          "COURSE",
          "SPECIALIZATION",
          "COURSE",
          "SPECIALIZATION",
          "SPECIALIZATION",
          "COURSE",
          "SPECIALIZATION",
          "COURSE",
          "COURSE",
          "COURSE",
          "SPECIALIZATION",
          "COURSE",
          "COURSE",
          "COURSE",
          "COURSE",
          "COURSE",
          "COURSE",
          "SPECIALIZATION",
          "COURSE",
          "COURSE",
          "COURSE",
          "COURSE",
          "COURSE",
          "COURSE",
          "COURSE",
          "COURSE",
          "COURSE",
          "COURSE",
          "SPECIALIZATION",
          "SPECIALIZATION",
          "SPECIALIZATION",
          "COURSE",
          "COURSE",
          "COURSE",
          "COURSE",
          "COURSE",
          "COURSE",
          "SPECIALIZATION",
          "COURSE",
          "COURSE",
          "SPECIALIZATION",
          "SPECIALIZATION",
          "COURSE",
          "COURSE",
          "COURSE",
          "COURSE",
          "SPECIALIZATION",
          "COURSE",
          "COURSE",
          "SPECIALIZATION",
          "SPECIALIZATION",
          "COURSE",
          "COURSE",
          "COURSE",
          "SPECIALIZATION",
          "COURSE",
          "COURSE",
          "COURSE",
          "COURSE",
          "SPECIALIZATION",
          "COURSE",
          "COURSE",
          "SPECIALIZATION",
          "COURSE",
          "COURSE",
          "SPECIALIZATION",
          "COURSE",
          "COURSE",
          "COURSE",
          "COURSE",
          "SPECIALIZATION",
          "SPECIALIZATION",
          "COURSE",
          "SPECIALIZATION",
          "COURSE",
          "COURSE",
          "COURSE",
          "COURSE",
          "SPECIALIZATION",
          "COURSE",
          "SPECIALIZATION",
          "COURSE",
          "COURSE",
          "COURSE",
          "COURSE",
          "COURSE",
          "SPECIALIZATION",
          "COURSE",
          "SPECIALIZATION",
          "SPECIALIZATION",
          "SPECIALIZATION",
          "COURSE",
          "SPECIALIZATION",
          "COURSE",
          "COURSE",
          "SPECIALIZATION",
          "COURSE",
          "COURSE",
          "COURSE",
          "COURSE",
          "SPECIALIZATION",
          "COURSE",
          "COURSE",
          "SPECIALIZATION",
          "SPECIALIZATION",
          "SPECIALIZATION",
          "SPECIALIZATION",
          "SPECIALIZATION",
          "SPECIALIZATION",
          "COURSE",
          "COURSE",
          "COURSE",
          "SPECIALIZATION",
          "SPECIALIZATION",
          "COURSE",
          "SPECIALIZATION",
          "COURSE",
          "SPECIALIZATION",
          "SPECIALIZATION",
          "COURSE",
          "COURSE",
          "COURSE",
          "SPECIALIZATION",
          "COURSE",
          "COURSE",
          "COURSE",
          "COURSE",
          "COURSE",
          "COURSE",
          "SPECIALIZATION",
          "SPECIALIZATION",
          "COURSE",
          "COURSE",
          "COURSE",
          "SPECIALIZATION",
          "SPECIALIZATION",
          "SPECIALIZATION",
          "SPECIALIZATION",
          "SPECIALIZATION",
          "COURSE",
          "COURSE",
          "COURSE",
          "SPECIALIZATION",
          "SPECIALIZATION",
          "COURSE",
          "COURSE",
          "COURSE",
          "COURSE",
          "COURSE",
          "COURSE",
          "COURSE",
          "COURSE",
          "COURSE",
          "COURSE",
          "COURSE",
          "COURSE",
          "COURSE",
          "COURSE",
          "COURSE",
          "COURSE",
          "COURSE",
          "SPECIALIZATION",
          "SPECIALIZATION",
          "COURSE",
          "COURSE",
          "PROFESSIONAL CERTIFICATE",
          "PROFESSIONAL CERTIFICATE",
          "COURSE",
          "SPECIALIZATION",
          "COURSE",
          "COURSE",
          "COURSE",
          "COURSE",
          "COURSE",
          "SPECIALIZATION",
          "COURSE",
          "COURSE",
          "COURSE",
          "SPECIALIZATION",
          "SPECIALIZATION",
          "SPECIALIZATION",
          "SPECIALIZATION",
          "SPECIALIZATION",
          "COURSE",
          "SPECIALIZATION",
          "SPECIALIZATION",
          "COURSE",
          "COURSE",
          "SPECIALIZATION",
          "SPECIALIZATION",
          "PROFESSIONAL CERTIFICATE",
          "SPECIALIZATION",
          "PROFESSIONAL CERTIFICATE",
          "COURSE",
          "PROFESSIONAL CERTIFICATE",
          "SPECIALIZATION",
          "COURSE",
          "COURSE",
          "SPECIALIZATION",
          "SPECIALIZATION",
          "SPECIALIZATION",
          "COURSE",
          "SPECIALIZATION",
          "COURSE",
          "COURSE",
          "COURSE",
          "SPECIALIZATION",
          "COURSE",
          "SPECIALIZATION",
          "COURSE",
          "SPECIALIZATION",
          "SPECIALIZATION",
          "COURSE",
          "COURSE",
          "COURSE",
          "SPECIALIZATION",
          "SPECIALIZATION",
          "SPECIALIZATION",
          "COURSE",
          "COURSE",
          "COURSE",
          "SPECIALIZATION",
          "SPECIALIZATION",
          "SPECIALIZATION",
          "COURSE",
          "SPECIALIZATION",
          "COURSE",
          "COURSE",
          "COURSE",
          "COURSE",
          "COURSE",
          "SPECIALIZATION",
          "COURSE",
          "COURSE",
          "COURSE",
          "COURSE",
          "COURSE",
          "COURSE",
          "SPECIALIZATION",
          "COURSE",
          "COURSE",
          "COURSE",
          "COURSE",
          "COURSE",
          "COURSE",
          "COURSE",
          "COURSE",
          "COURSE",
          "COURSE",
          "COURSE",
          "COURSE",
          "COURSE",
          "COURSE",
          "COURSE",
          "SPECIALIZATION",
          "COURSE",
          "COURSE",
          "SPECIALIZATION",
          "COURSE",
          "COURSE",
          "SPECIALIZATION",
          "COURSE",
          "COURSE",
          "SPECIALIZATION",
          "COURSE",
          "COURSE",
          "COURSE",
          "COURSE",
          "COURSE",
          "COURSE",
          "COURSE",
          "COURSE",
          "COURSE",
          "COURSE",
          "COURSE",
          "COURSE",
          "COURSE",
          "COURSE",
          "COURSE",
          "COURSE",
          "COURSE",
          "COURSE",
          "COURSE",
          "COURSE",
          "SPECIALIZATION",
          "COURSE",
          "COURSE",
          "SPECIALIZATION",
          "COURSE",
          "COURSE",
          "COURSE",
          "COURSE",
          "COURSE",
          "COURSE",
          "COURSE",
          "COURSE",
          "COURSE",
          "COURSE",
          "COURSE",
          "COURSE",
          "COURSE",
          "COURSE",
          "COURSE",
          "SPECIALIZATION",
          "COURSE",
          "SPECIALIZATION",
          "SPECIALIZATION",
          "SPECIALIZATION",
          "COURSE",
          "SPECIALIZATION",
          "COURSE",
          "COURSE",
          "COURSE",
          "COURSE",
          "SPECIALIZATION",
          "SPECIALIZATION",
          "COURSE",
          "COURSE",
          "SPECIALIZATION",
          "COURSE",
          "SPECIALIZATION",
          "SPECIALIZATION",
          "SPECIALIZATION",
          "SPECIALIZATION",
          "SPECIALIZATION",
          "SPECIALIZATION",
          "SPECIALIZATION",
          "SPECIALIZATION",
          "SPECIALIZATION",
          "COURSE",
          "COURSE",
          "COURSE",
          "COURSE",
          "COURSE",
          "SPECIALIZATION",
          "COURSE",
          "COURSE",
          "SPECIALIZATION",
          "COURSE",
          "COURSE",
          "SPECIALIZATION",
          "COURSE",
          "COURSE",
          "SPECIALIZATION",
          "COURSE",
          "SPECIALIZATION",
          "COURSE",
          "COURSE",
          "COURSE",
          "COURSE",
          "SPECIALIZATION",
          "SPECIALIZATION",
          "COURSE",
          "COURSE",
          "COURSE",
          "SPECIALIZATION",
          "COURSE",
          "SPECIALIZATION",
          "COURSE",
          "SPECIALIZATION",
          "SPECIALIZATION",
          "COURSE",
          "SPECIALIZATION",
          "COURSE",
          "COURSE",
          "COURSE",
          "SPECIALIZATION",
          "COURSE",
          "SPECIALIZATION",
          "SPECIALIZATION",
          "COURSE",
          "COURSE",
          "COURSE",
          "SPECIALIZATION",
          "COURSE",
          "SPECIALIZATION",
          "SPECIALIZATION",
          "COURSE",
          "COURSE",
          "COURSE",
          "COURSE",
          "COURSE",
          "COURSE",
          "COURSE",
          "SPECIALIZATION",
          "SPECIALIZATION",
          "COURSE",
          "COURSE",
          "COURSE",
          "COURSE",
          "COURSE",
          "SPECIALIZATION",
          "COURSE",
          "SPECIALIZATION",
          "COURSE",
          "COURSE",
          "COURSE",
          "SPECIALIZATION",
          "COURSE",
          "SPECIALIZATION",
          "COURSE",
          "COURSE",
          "COURSE",
          "SPECIALIZATION",
          "COURSE",
          "COURSE",
          "SPECIALIZATION",
          "SPECIALIZATION",
          "COURSE",
          "COURSE",
          "COURSE",
          "SPECIALIZATION",
          "COURSE",
          "COURSE",
          "SPECIALIZATION",
          "SPECIALIZATION",
          "COURSE",
          "SPECIALIZATION",
          "SPECIALIZATION",
          "SPECIALIZATION",
          "COURSE",
          "SPECIALIZATION",
          "COURSE",
          "COURSE",
          "COURSE",
          "COURSE",
          "SPECIALIZATION",
          "SPECIALIZATION",
          "COURSE",
          "COURSE",
          "COURSE",
          "COURSE",
          "COURSE",
          "COURSE",
          "SPECIALIZATION",
          "SPECIALIZATION",
          "COURSE",
          "COURSE",
          "COURSE",
          "SPECIALIZATION",
          "SPECIALIZATION",
          "COURSE",
          "COURSE",
          "COURSE",
          "COURSE",
          "COURSE",
          "COURSE",
          "COURSE",
          "COURSE",
          "SPECIALIZATION",
          "COURSE",
          "COURSE",
          "SPECIALIZATION",
          "SPECIALIZATION",
          "COURSE",
          "COURSE",
          "COURSE",
          "COURSE",
          "COURSE",
          "COURSE",
          "COURSE",
          "COURSE",
          "SPECIALIZATION",
          "COURSE",
          "COURSE",
          "COURSE",
          "COURSE",
          "SPECIALIZATION",
          "COURSE",
          "SPECIALIZATION",
          "COURSE",
          "COURSE",
          "SPECIALIZATION",
          "COURSE",
          "COURSE",
          "SPECIALIZATION",
          "COURSE",
          "COURSE",
          "SPECIALIZATION",
          "COURSE",
          "COURSE",
          "SPECIALIZATION",
          "COURSE",
          "PROFESSIONAL CERTIFICATE",
          "PROFESSIONAL CERTIFICATE",
          "COURSE",
          "SPECIALIZATION",
          "SPECIALIZATION",
          "COURSE",
          "COURSE",
          "SPECIALIZATION",
          "COURSE",
          "COURSE",
          "SPECIALIZATION",
          "COURSE",
          "SPECIALIZATION",
          "SPECIALIZATION",
          "COURSE",
          "COURSE",
          "COURSE",
          "COURSE",
          "SPECIALIZATION",
          "COURSE",
          "COURSE",
          "COURSE",
          "SPECIALIZATION",
          "SPECIALIZATION",
          "COURSE",
          "SPECIALIZATION",
          "COURSE",
          "COURSE",
          "SPECIALIZATION",
          "SPECIALIZATION",
          "COURSE",
          "SPECIALIZATION",
          "COURSE",
          "COURSE",
          "PROFESSIONAL CERTIFICATE",
          "SPECIALIZATION",
          "COURSE",
          "COURSE",
          "COURSE",
          "COURSE",
          "COURSE",
          "COURSE",
          "SPECIALIZATION",
          "SPECIALIZATION",
          "SPECIALIZATION",
          "COURSE",
          "SPECIALIZATION",
          "COURSE",
          "SPECIALIZATION",
          "COURSE",
          "SPECIALIZATION",
          "SPECIALIZATION",
          "SPECIALIZATION",
          "COURSE",
          "COURSE",
          "COURSE",
          "COURSE",
          "COURSE",
          "COURSE",
          "SPECIALIZATION",
          "COURSE",
          "SPECIALIZATION",
          "COURSE",
          "COURSE",
          "COURSE",
          "SPECIALIZATION",
          "COURSE",
          "SPECIALIZATION",
          "COURSE",
          "SPECIALIZATION",
          "COURSE",
          "SPECIALIZATION",
          "SPECIALIZATION",
          "COURSE",
          "COURSE",
          "COURSE",
          "COURSE",
          "COURSE",
          "SPECIALIZATION",
          "SPECIALIZATION",
          "COURSE",
          "COURSE",
          "COURSE",
          "SPECIALIZATION",
          "COURSE",
          "COURSE",
          "SPECIALIZATION",
          "SPECIALIZATION",
          "COURSE",
          "COURSE",
          "SPECIALIZATION",
          "COURSE",
          "COURSE",
          "COURSE",
          "COURSE",
          "COURSE",
          "COURSE",
          "COURSE",
          "COURSE",
          "COURSE",
          "COURSE",
          "SPECIALIZATION",
          "COURSE",
          "COURSE",
          "COURSE",
          "COURSE",
          "COURSE",
          "SPECIALIZATION",
          "COURSE",
          "COURSE",
          "COURSE",
          "SPECIALIZATION",
          "COURSE",
          "COURSE",
          "COURSE",
          "COURSE",
          "COURSE",
          "SPECIALIZATION",
          "COURSE",
          "COURSE",
          "COURSE",
          "SPECIALIZATION",
          "PROFESSIONAL CERTIFICATE",
          "SPECIALIZATION",
          "COURSE",
          "COURSE",
          "COURSE",
          "COURSE",
          "COURSE",
          "SPECIALIZATION",
          "COURSE",
          "COURSE",
          "COURSE",
          "COURSE",
          "SPECIALIZATION",
          "SPECIALIZATION",
          "COURSE",
          "COURSE",
          "SPECIALIZATION",
          "SPECIALIZATION",
          "COURSE",
          "COURSE",
          "COURSE",
          "SPECIALIZATION",
          "COURSE",
          "COURSE",
          "SPECIALIZATION",
          "SPECIALIZATION",
          "COURSE",
          "SPECIALIZATION",
          "SPECIALIZATION",
          "COURSE",
          "COURSE",
          "COURSE",
          "COURSE",
          "COURSE",
          "COURSE",
          "COURSE",
          "COURSE",
          "COURSE",
          "COURSE",
          "COURSE",
          "COURSE",
          "COURSE",
          "SPECIALIZATION",
          "COURSE",
          "COURSE",
          "SPECIALIZATION",
          "SPECIALIZATION",
          "SPECIALIZATION",
          "SPECIALIZATION",
          "COURSE",
          "SPECIALIZATION",
          "SPECIALIZATION",
          "COURSE",
          "COURSE",
          "COURSE",
          "SPECIALIZATION",
          "COURSE",
          "SPECIALIZATION",
          "SPECIALIZATION",
          "SPECIALIZATION"
         ]
        }
       ],
       "layout": {
        "barmode": "overlay",
        "legend": {
         "bgcolor": "#F2F3F7",
         "font": {
          "color": "#505050"
         }
        },
        "paper_bgcolor": "#F2F3F7",
        "plot_bgcolor": "#F2F3F7",
        "template": {
         "data": {
          "bar": [
           {
            "error_x": {
             "color": "#2a3f5f"
            },
            "error_y": {
             "color": "#2a3f5f"
            },
            "marker": {
             "line": {
              "color": "#E5ECF6",
              "width": 0.5
             }
            },
            "type": "bar"
           }
          ],
          "barpolar": [
           {
            "marker": {
             "line": {
              "color": "#E5ECF6",
              "width": 0.5
             }
            },
            "type": "barpolar"
           }
          ],
          "carpet": [
           {
            "aaxis": {
             "endlinecolor": "#2a3f5f",
             "gridcolor": "white",
             "linecolor": "white",
             "minorgridcolor": "white",
             "startlinecolor": "#2a3f5f"
            },
            "baxis": {
             "endlinecolor": "#2a3f5f",
             "gridcolor": "white",
             "linecolor": "white",
             "minorgridcolor": "white",
             "startlinecolor": "#2a3f5f"
            },
            "type": "carpet"
           }
          ],
          "choropleth": [
           {
            "colorbar": {
             "outlinewidth": 0,
             "ticks": ""
            },
            "type": "choropleth"
           }
          ],
          "contour": [
           {
            "colorbar": {
             "outlinewidth": 0,
             "ticks": ""
            },
            "colorscale": [
             [
              0,
              "#0d0887"
             ],
             [
              0.1111111111111111,
              "#46039f"
             ],
             [
              0.2222222222222222,
              "#7201a8"
             ],
             [
              0.3333333333333333,
              "#9c179e"
             ],
             [
              0.4444444444444444,
              "#bd3786"
             ],
             [
              0.5555555555555556,
              "#d8576b"
             ],
             [
              0.6666666666666666,
              "#ed7953"
             ],
             [
              0.7777777777777778,
              "#fb9f3a"
             ],
             [
              0.8888888888888888,
              "#fdca26"
             ],
             [
              1,
              "#f0f921"
             ]
            ],
            "type": "contour"
           }
          ],
          "contourcarpet": [
           {
            "colorbar": {
             "outlinewidth": 0,
             "ticks": ""
            },
            "type": "contourcarpet"
           }
          ],
          "heatmap": [
           {
            "colorbar": {
             "outlinewidth": 0,
             "ticks": ""
            },
            "colorscale": [
             [
              0,
              "#0d0887"
             ],
             [
              0.1111111111111111,
              "#46039f"
             ],
             [
              0.2222222222222222,
              "#7201a8"
             ],
             [
              0.3333333333333333,
              "#9c179e"
             ],
             [
              0.4444444444444444,
              "#bd3786"
             ],
             [
              0.5555555555555556,
              "#d8576b"
             ],
             [
              0.6666666666666666,
              "#ed7953"
             ],
             [
              0.7777777777777778,
              "#fb9f3a"
             ],
             [
              0.8888888888888888,
              "#fdca26"
             ],
             [
              1,
              "#f0f921"
             ]
            ],
            "type": "heatmap"
           }
          ],
          "heatmapgl": [
           {
            "colorbar": {
             "outlinewidth": 0,
             "ticks": ""
            },
            "colorscale": [
             [
              0,
              "#0d0887"
             ],
             [
              0.1111111111111111,
              "#46039f"
             ],
             [
              0.2222222222222222,
              "#7201a8"
             ],
             [
              0.3333333333333333,
              "#9c179e"
             ],
             [
              0.4444444444444444,
              "#bd3786"
             ],
             [
              0.5555555555555556,
              "#d8576b"
             ],
             [
              0.6666666666666666,
              "#ed7953"
             ],
             [
              0.7777777777777778,
              "#fb9f3a"
             ],
             [
              0.8888888888888888,
              "#fdca26"
             ],
             [
              1,
              "#f0f921"
             ]
            ],
            "type": "heatmapgl"
           }
          ],
          "histogram": [
           {
            "marker": {
             "colorbar": {
              "outlinewidth": 0,
              "ticks": ""
             }
            },
            "type": "histogram"
           }
          ],
          "histogram2d": [
           {
            "colorbar": {
             "outlinewidth": 0,
             "ticks": ""
            },
            "colorscale": [
             [
              0,
              "#0d0887"
             ],
             [
              0.1111111111111111,
              "#46039f"
             ],
             [
              0.2222222222222222,
              "#7201a8"
             ],
             [
              0.3333333333333333,
              "#9c179e"
             ],
             [
              0.4444444444444444,
              "#bd3786"
             ],
             [
              0.5555555555555556,
              "#d8576b"
             ],
             [
              0.6666666666666666,
              "#ed7953"
             ],
             [
              0.7777777777777778,
              "#fb9f3a"
             ],
             [
              0.8888888888888888,
              "#fdca26"
             ],
             [
              1,
              "#f0f921"
             ]
            ],
            "type": "histogram2d"
           }
          ],
          "histogram2dcontour": [
           {
            "colorbar": {
             "outlinewidth": 0,
             "ticks": ""
            },
            "colorscale": [
             [
              0,
              "#0d0887"
             ],
             [
              0.1111111111111111,
              "#46039f"
             ],
             [
              0.2222222222222222,
              "#7201a8"
             ],
             [
              0.3333333333333333,
              "#9c179e"
             ],
             [
              0.4444444444444444,
              "#bd3786"
             ],
             [
              0.5555555555555556,
              "#d8576b"
             ],
             [
              0.6666666666666666,
              "#ed7953"
             ],
             [
              0.7777777777777778,
              "#fb9f3a"
             ],
             [
              0.8888888888888888,
              "#fdca26"
             ],
             [
              1,
              "#f0f921"
             ]
            ],
            "type": "histogram2dcontour"
           }
          ],
          "mesh3d": [
           {
            "colorbar": {
             "outlinewidth": 0,
             "ticks": ""
            },
            "type": "mesh3d"
           }
          ],
          "parcoords": [
           {
            "line": {
             "colorbar": {
              "outlinewidth": 0,
              "ticks": ""
             }
            },
            "type": "parcoords"
           }
          ],
          "pie": [
           {
            "automargin": true,
            "type": "pie"
           }
          ],
          "scatter": [
           {
            "marker": {
             "colorbar": {
              "outlinewidth": 0,
              "ticks": ""
             }
            },
            "type": "scatter"
           }
          ],
          "scatter3d": [
           {
            "line": {
             "colorbar": {
              "outlinewidth": 0,
              "ticks": ""
             }
            },
            "marker": {
             "colorbar": {
              "outlinewidth": 0,
              "ticks": ""
             }
            },
            "type": "scatter3d"
           }
          ],
          "scattercarpet": [
           {
            "marker": {
             "colorbar": {
              "outlinewidth": 0,
              "ticks": ""
             }
            },
            "type": "scattercarpet"
           }
          ],
          "scattergeo": [
           {
            "marker": {
             "colorbar": {
              "outlinewidth": 0,
              "ticks": ""
             }
            },
            "type": "scattergeo"
           }
          ],
          "scattergl": [
           {
            "marker": {
             "colorbar": {
              "outlinewidth": 0,
              "ticks": ""
             }
            },
            "type": "scattergl"
           }
          ],
          "scattermapbox": [
           {
            "marker": {
             "colorbar": {
              "outlinewidth": 0,
              "ticks": ""
             }
            },
            "type": "scattermapbox"
           }
          ],
          "scatterpolar": [
           {
            "marker": {
             "colorbar": {
              "outlinewidth": 0,
              "ticks": ""
             }
            },
            "type": "scatterpolar"
           }
          ],
          "scatterpolargl": [
           {
            "marker": {
             "colorbar": {
              "outlinewidth": 0,
              "ticks": ""
             }
            },
            "type": "scatterpolargl"
           }
          ],
          "scatterternary": [
           {
            "marker": {
             "colorbar": {
              "outlinewidth": 0,
              "ticks": ""
             }
            },
            "type": "scatterternary"
           }
          ],
          "surface": [
           {
            "colorbar": {
             "outlinewidth": 0,
             "ticks": ""
            },
            "colorscale": [
             [
              0,
              "#0d0887"
             ],
             [
              0.1111111111111111,
              "#46039f"
             ],
             [
              0.2222222222222222,
              "#7201a8"
             ],
             [
              0.3333333333333333,
              "#9c179e"
             ],
             [
              0.4444444444444444,
              "#bd3786"
             ],
             [
              0.5555555555555556,
              "#d8576b"
             ],
             [
              0.6666666666666666,
              "#ed7953"
             ],
             [
              0.7777777777777778,
              "#fb9f3a"
             ],
             [
              0.8888888888888888,
              "#fdca26"
             ],
             [
              1,
              "#f0f921"
             ]
            ],
            "type": "surface"
           }
          ],
          "table": [
           {
            "cells": {
             "fill": {
              "color": "#EBF0F8"
             },
             "line": {
              "color": "white"
             }
            },
            "header": {
             "fill": {
              "color": "#C8D4E3"
             },
             "line": {
              "color": "white"
             }
            },
            "type": "table"
           }
          ]
         },
         "layout": {
          "annotationdefaults": {
           "arrowcolor": "#2a3f5f",
           "arrowhead": 0,
           "arrowwidth": 1
          },
          "coloraxis": {
           "colorbar": {
            "outlinewidth": 0,
            "ticks": ""
           }
          },
          "colorscale": {
           "diverging": [
            [
             0,
             "#8e0152"
            ],
            [
             0.1,
             "#c51b7d"
            ],
            [
             0.2,
             "#de77ae"
            ],
            [
             0.3,
             "#f1b6da"
            ],
            [
             0.4,
             "#fde0ef"
            ],
            [
             0.5,
             "#f7f7f7"
            ],
            [
             0.6,
             "#e6f5d0"
            ],
            [
             0.7,
             "#b8e186"
            ],
            [
             0.8,
             "#7fbc41"
            ],
            [
             0.9,
             "#4d9221"
            ],
            [
             1,
             "#276419"
            ]
           ],
           "sequential": [
            [
             0,
             "#0d0887"
            ],
            [
             0.1111111111111111,
             "#46039f"
            ],
            [
             0.2222222222222222,
             "#7201a8"
            ],
            [
             0.3333333333333333,
             "#9c179e"
            ],
            [
             0.4444444444444444,
             "#bd3786"
            ],
            [
             0.5555555555555556,
             "#d8576b"
            ],
            [
             0.6666666666666666,
             "#ed7953"
            ],
            [
             0.7777777777777778,
             "#fb9f3a"
            ],
            [
             0.8888888888888888,
             "#fdca26"
            ],
            [
             1,
             "#f0f921"
            ]
           ],
           "sequentialminus": [
            [
             0,
             "#0d0887"
            ],
            [
             0.1111111111111111,
             "#46039f"
            ],
            [
             0.2222222222222222,
             "#7201a8"
            ],
            [
             0.3333333333333333,
             "#9c179e"
            ],
            [
             0.4444444444444444,
             "#bd3786"
            ],
            [
             0.5555555555555556,
             "#d8576b"
            ],
            [
             0.6666666666666666,
             "#ed7953"
            ],
            [
             0.7777777777777778,
             "#fb9f3a"
            ],
            [
             0.8888888888888888,
             "#fdca26"
            ],
            [
             1,
             "#f0f921"
            ]
           ]
          },
          "colorway": [
           "#636efa",
           "#EF553B",
           "#00cc96",
           "#ab63fa",
           "#FFA15A",
           "#19d3f3",
           "#FF6692",
           "#B6E880",
           "#FF97FF",
           "#FECB52"
          ],
          "font": {
           "color": "#2a3f5f"
          },
          "geo": {
           "bgcolor": "white",
           "lakecolor": "white",
           "landcolor": "#E5ECF6",
           "showlakes": true,
           "showland": true,
           "subunitcolor": "white"
          },
          "hoverlabel": {
           "align": "left"
          },
          "hovermode": "closest",
          "mapbox": {
           "style": "light"
          },
          "paper_bgcolor": "white",
          "plot_bgcolor": "#E5ECF6",
          "polar": {
           "angularaxis": {
            "gridcolor": "white",
            "linecolor": "white",
            "ticks": ""
           },
           "bgcolor": "#E5ECF6",
           "radialaxis": {
            "gridcolor": "white",
            "linecolor": "white",
            "ticks": ""
           }
          },
          "scene": {
           "xaxis": {
            "backgroundcolor": "#E5ECF6",
            "gridcolor": "white",
            "gridwidth": 2,
            "linecolor": "white",
            "showbackground": true,
            "ticks": "",
            "zerolinecolor": "white"
           },
           "yaxis": {
            "backgroundcolor": "#E5ECF6",
            "gridcolor": "white",
            "gridwidth": 2,
            "linecolor": "white",
            "showbackground": true,
            "ticks": "",
            "zerolinecolor": "white"
           },
           "zaxis": {
            "backgroundcolor": "#E5ECF6",
            "gridcolor": "white",
            "gridwidth": 2,
            "linecolor": "white",
            "showbackground": true,
            "ticks": "",
            "zerolinecolor": "white"
           }
          },
          "shapedefaults": {
           "line": {
            "color": "#2a3f5f"
           }
          },
          "ternary": {
           "aaxis": {
            "gridcolor": "white",
            "linecolor": "white",
            "ticks": ""
           },
           "baxis": {
            "gridcolor": "white",
            "linecolor": "white",
            "ticks": ""
           },
           "bgcolor": "#E5ECF6",
           "caxis": {
            "gridcolor": "white",
            "linecolor": "white",
            "ticks": ""
           }
          },
          "title": {
           "x": 0.05
          },
          "xaxis": {
           "automargin": true,
           "gridcolor": "white",
           "linecolor": "white",
           "ticks": "",
           "title": {
            "standoff": 15
           },
           "zerolinecolor": "white",
           "zerolinewidth": 2
          },
          "yaxis": {
           "automargin": true,
           "gridcolor": "white",
           "linecolor": "white",
           "ticks": "",
           "title": {
            "standoff": 15
           },
           "zerolinecolor": "white",
           "zerolinewidth": 2
          }
         }
        },
        "title": {
         "font": {
          "color": "#484848"
         },
         "text": "Course Certificate Type"
        },
        "xaxis": {
         "gridcolor": "#E1E5ED",
         "showgrid": true,
         "tickfont": {
          "color": "#505050"
         },
         "title": {
          "font": {
           "color": "#505050"
          },
          "text": "Course Type"
         },
         "zerolinecolor": "#E1E5ED"
        },
        "yaxis": {
         "gridcolor": "#E1E5ED",
         "showgrid": true,
         "tickfont": {
          "color": "#505050"
         },
         "title": {
          "font": {
           "color": "#505050"
          },
          "text": "Counts"
         },
         "zerolinecolor": "#E1E5ED"
        }
       }
      },
      "text/html": [
       "<div>\n",
       "        \n",
       "        \n",
       "            <div id=\"18ce5e36-1fc9-4b05-ba91-df3db659e872\" class=\"plotly-graph-div\" style=\"height:525px; width:100%;\"></div>\n",
       "            <script type=\"text/javascript\">\n",
       "                require([\"plotly\"], function(Plotly) {\n",
       "                    window.PLOTLYENV=window.PLOTLYENV || {};\n",
       "                    window.PLOTLYENV.BASE_URL='https://plot.ly';\n",
       "                    \n",
       "                if (document.getElementById(\"18ce5e36-1fc9-4b05-ba91-df3db659e872\")) {\n",
       "                    Plotly.newPlot(\n",
       "                        '18ce5e36-1fc9-4b05-ba91-df3db659e872',\n",
       "                        [{\"histfunc\": \"count\", \"histnorm\": \"\", \"marker\": {\"color\": \"rgba(0, 128, 240, 1.0)\", \"line\": {\"color\": \"#505050\", \"width\": 1.3}}, \"name\": \"course_Certificate_type\", \"opacity\": 0.8, \"orientation\": \"v\", \"type\": \"histogram\", \"x\": [\"SPECIALIZATION\", \"COURSE\", \"COURSE\", \"COURSE\", \"COURSE\", \"COURSE\", \"COURSE\", \"COURSE\", \"SPECIALIZATION\", \"COURSE\", \"COURSE\", \"SPECIALIZATION\", \"SPECIALIZATION\", \"COURSE\", \"COURSE\", \"COURSE\", \"COURSE\", \"COURSE\", \"SPECIALIZATION\", \"SPECIALIZATION\", \"COURSE\", \"COURSE\", \"COURSE\", \"SPECIALIZATION\", \"COURSE\", \"COURSE\", \"SPECIALIZATION\", \"SPECIALIZATION\", \"SPECIALIZATION\", \"SPECIALIZATION\", \"COURSE\", \"COURSE\", \"COURSE\", \"SPECIALIZATION\", \"COURSE\", \"COURSE\", \"COURSE\", \"COURSE\", \"SPECIALIZATION\", \"SPECIALIZATION\", \"COURSE\", \"COURSE\", \"COURSE\", \"SPECIALIZATION\", \"SPECIALIZATION\", \"SPECIALIZATION\", \"COURSE\", \"COURSE\", \"COURSE\", \"SPECIALIZATION\", \"COURSE\", \"COURSE\", \"COURSE\", \"COURSE\", \"SPECIALIZATION\", \"COURSE\", \"SPECIALIZATION\", \"COURSE\", \"COURSE\", \"SPECIALIZATION\", \"COURSE\", \"COURSE\", \"SPECIALIZATION\", \"SPECIALIZATION\", \"SPECIALIZATION\", \"PROFESSIONAL CERTIFICATE\", \"COURSE\", \"COURSE\", \"COURSE\", \"COURSE\", \"COURSE\", \"COURSE\", \"COURSE\", \"COURSE\", \"SPECIALIZATION\", \"SPECIALIZATION\", \"COURSE\", \"COURSE\", \"COURSE\", \"COURSE\", \"COURSE\", \"COURSE\", \"COURSE\", \"SPECIALIZATION\", \"SPECIALIZATION\", \"COURSE\", \"COURSE\", \"COURSE\", \"COURSE\", \"SPECIALIZATION\", \"COURSE\", \"COURSE\", \"SPECIALIZATION\", \"COURSE\", \"SPECIALIZATION\", \"SPECIALIZATION\", \"SPECIALIZATION\", \"COURSE\", \"COURSE\", \"COURSE\", \"SPECIALIZATION\", \"COURSE\", \"COURSE\", \"COURSE\", \"COURSE\", \"COURSE\", \"COURSE\", \"COURSE\", \"COURSE\", \"SPECIALIZATION\", \"SPECIALIZATION\", \"SPECIALIZATION\", \"COURSE\", \"SPECIALIZATION\", \"COURSE\", \"SPECIALIZATION\", \"SPECIALIZATION\", \"SPECIALIZATION\", \"SPECIALIZATION\", \"COURSE\", \"COURSE\", \"SPECIALIZATION\", \"COURSE\", \"SPECIALIZATION\", \"COURSE\", \"COURSE\", \"COURSE\", \"COURSE\", \"COURSE\", \"SPECIALIZATION\", \"COURSE\", \"COURSE\", \"COURSE\", \"COURSE\", \"COURSE\", \"SPECIALIZATION\", \"COURSE\", \"SPECIALIZATION\", \"SPECIALIZATION\", \"COURSE\", \"SPECIALIZATION\", \"COURSE\", \"PROFESSIONAL CERTIFICATE\", \"SPECIALIZATION\", \"COURSE\", \"SPECIALIZATION\", \"COURSE\", \"COURSE\", \"COURSE\", \"SPECIALIZATION\", \"SPECIALIZATION\", \"COURSE\", \"SPECIALIZATION\", \"SPECIALIZATION\", \"COURSE\", \"SPECIALIZATION\", \"COURSE\", \"COURSE\", \"COURSE\", \"SPECIALIZATION\", \"COURSE\", \"COURSE\", \"COURSE\", \"COURSE\", \"COURSE\", \"COURSE\", \"COURSE\", \"COURSE\", \"COURSE\", \"COURSE\", \"COURSE\", \"COURSE\", \"COURSE\", \"SPECIALIZATION\", \"COURSE\", \"SPECIALIZATION\", \"COURSE\", \"COURSE\", \"SPECIALIZATION\", \"COURSE\", \"COURSE\", \"SPECIALIZATION\", \"COURSE\", \"SPECIALIZATION\", \"COURSE\", \"COURSE\", \"SPECIALIZATION\", \"SPECIALIZATION\", \"COURSE\", \"COURSE\", \"COURSE\", \"SPECIALIZATION\", \"PROFESSIONAL CERTIFICATE\", \"SPECIALIZATION\", \"COURSE\", \"SPECIALIZATION\", \"SPECIALIZATION\", \"COURSE\", \"COURSE\", \"SPECIALIZATION\", \"SPECIALIZATION\", \"COURSE\", \"COURSE\", \"COURSE\", \"SPECIALIZATION\", \"SPECIALIZATION\", \"COURSE\", \"COURSE\", \"COURSE\", \"COURSE\", \"COURSE\", \"SPECIALIZATION\", \"COURSE\", \"COURSE\", \"COURSE\", \"COURSE\", \"COURSE\", \"COURSE\", \"COURSE\", \"COURSE\", \"SPECIALIZATION\", \"SPECIALIZATION\", \"SPECIALIZATION\", \"SPECIALIZATION\", \"COURSE\", \"SPECIALIZATION\", \"COURSE\", \"SPECIALIZATION\", \"COURSE\", \"SPECIALIZATION\", \"SPECIALIZATION\", \"COURSE\", \"SPECIALIZATION\", \"COURSE\", \"COURSE\", \"COURSE\", \"SPECIALIZATION\", \"COURSE\", \"COURSE\", \"COURSE\", \"COURSE\", \"COURSE\", \"COURSE\", \"SPECIALIZATION\", \"COURSE\", \"COURSE\", \"COURSE\", \"COURSE\", \"COURSE\", \"COURSE\", \"COURSE\", \"COURSE\", \"COURSE\", \"COURSE\", \"SPECIALIZATION\", \"SPECIALIZATION\", \"SPECIALIZATION\", \"COURSE\", \"COURSE\", \"COURSE\", \"COURSE\", \"COURSE\", \"COURSE\", \"SPECIALIZATION\", \"COURSE\", \"COURSE\", \"SPECIALIZATION\", \"SPECIALIZATION\", \"COURSE\", \"COURSE\", \"COURSE\", \"COURSE\", \"SPECIALIZATION\", \"COURSE\", \"COURSE\", \"SPECIALIZATION\", \"SPECIALIZATION\", \"COURSE\", \"COURSE\", \"COURSE\", \"SPECIALIZATION\", \"COURSE\", \"COURSE\", \"COURSE\", \"COURSE\", \"SPECIALIZATION\", \"COURSE\", \"COURSE\", \"SPECIALIZATION\", \"COURSE\", \"COURSE\", \"SPECIALIZATION\", \"COURSE\", \"COURSE\", \"COURSE\", \"COURSE\", \"SPECIALIZATION\", \"SPECIALIZATION\", \"COURSE\", \"SPECIALIZATION\", \"COURSE\", \"COURSE\", \"COURSE\", \"COURSE\", \"SPECIALIZATION\", \"COURSE\", \"SPECIALIZATION\", \"COURSE\", \"COURSE\", \"COURSE\", \"COURSE\", \"COURSE\", \"SPECIALIZATION\", \"COURSE\", \"SPECIALIZATION\", \"SPECIALIZATION\", \"SPECIALIZATION\", \"COURSE\", \"SPECIALIZATION\", \"COURSE\", \"COURSE\", \"SPECIALIZATION\", \"COURSE\", \"COURSE\", \"COURSE\", \"COURSE\", \"SPECIALIZATION\", \"COURSE\", \"COURSE\", \"SPECIALIZATION\", \"SPECIALIZATION\", \"SPECIALIZATION\", \"SPECIALIZATION\", \"SPECIALIZATION\", \"SPECIALIZATION\", \"COURSE\", \"COURSE\", \"COURSE\", \"SPECIALIZATION\", \"SPECIALIZATION\", \"COURSE\", \"SPECIALIZATION\", \"COURSE\", \"SPECIALIZATION\", \"SPECIALIZATION\", \"COURSE\", \"COURSE\", \"COURSE\", \"SPECIALIZATION\", \"COURSE\", \"COURSE\", \"COURSE\", \"COURSE\", \"COURSE\", \"COURSE\", \"SPECIALIZATION\", \"SPECIALIZATION\", \"COURSE\", \"COURSE\", \"COURSE\", \"SPECIALIZATION\", \"SPECIALIZATION\", \"SPECIALIZATION\", \"SPECIALIZATION\", \"SPECIALIZATION\", \"COURSE\", \"COURSE\", \"COURSE\", \"SPECIALIZATION\", \"SPECIALIZATION\", \"COURSE\", \"COURSE\", \"COURSE\", \"COURSE\", \"COURSE\", \"COURSE\", \"COURSE\", \"COURSE\", \"COURSE\", \"COURSE\", \"COURSE\", \"COURSE\", \"COURSE\", \"COURSE\", \"COURSE\", \"COURSE\", \"COURSE\", \"SPECIALIZATION\", \"SPECIALIZATION\", \"COURSE\", \"COURSE\", \"PROFESSIONAL CERTIFICATE\", \"PROFESSIONAL CERTIFICATE\", \"COURSE\", \"SPECIALIZATION\", \"COURSE\", \"COURSE\", \"COURSE\", \"COURSE\", \"COURSE\", \"SPECIALIZATION\", \"COURSE\", \"COURSE\", \"COURSE\", \"SPECIALIZATION\", \"SPECIALIZATION\", \"SPECIALIZATION\", \"SPECIALIZATION\", \"SPECIALIZATION\", \"COURSE\", \"SPECIALIZATION\", \"SPECIALIZATION\", \"COURSE\", \"COURSE\", \"SPECIALIZATION\", \"SPECIALIZATION\", \"PROFESSIONAL CERTIFICATE\", \"SPECIALIZATION\", \"PROFESSIONAL CERTIFICATE\", \"COURSE\", \"PROFESSIONAL CERTIFICATE\", \"SPECIALIZATION\", \"COURSE\", \"COURSE\", \"SPECIALIZATION\", \"SPECIALIZATION\", \"SPECIALIZATION\", \"COURSE\", \"SPECIALIZATION\", \"COURSE\", \"COURSE\", \"COURSE\", \"SPECIALIZATION\", \"COURSE\", \"SPECIALIZATION\", \"COURSE\", \"SPECIALIZATION\", \"SPECIALIZATION\", \"COURSE\", \"COURSE\", \"COURSE\", \"SPECIALIZATION\", \"SPECIALIZATION\", \"SPECIALIZATION\", \"COURSE\", \"COURSE\", \"COURSE\", \"SPECIALIZATION\", \"SPECIALIZATION\", \"SPECIALIZATION\", \"COURSE\", \"SPECIALIZATION\", \"COURSE\", \"COURSE\", \"COURSE\", \"COURSE\", \"COURSE\", \"SPECIALIZATION\", \"COURSE\", \"COURSE\", \"COURSE\", \"COURSE\", \"COURSE\", \"COURSE\", \"SPECIALIZATION\", \"COURSE\", \"COURSE\", \"COURSE\", \"COURSE\", \"COURSE\", \"COURSE\", \"COURSE\", \"COURSE\", \"COURSE\", \"COURSE\", \"COURSE\", \"COURSE\", \"COURSE\", \"COURSE\", \"COURSE\", \"SPECIALIZATION\", \"COURSE\", \"COURSE\", \"SPECIALIZATION\", \"COURSE\", \"COURSE\", \"SPECIALIZATION\", \"COURSE\", \"COURSE\", \"SPECIALIZATION\", \"COURSE\", \"COURSE\", \"COURSE\", \"COURSE\", \"COURSE\", \"COURSE\", \"COURSE\", \"COURSE\", \"COURSE\", \"COURSE\", \"COURSE\", \"COURSE\", \"COURSE\", \"COURSE\", \"COURSE\", \"COURSE\", \"COURSE\", \"COURSE\", \"COURSE\", \"COURSE\", \"SPECIALIZATION\", \"COURSE\", \"COURSE\", \"SPECIALIZATION\", \"COURSE\", \"COURSE\", \"COURSE\", \"COURSE\", \"COURSE\", \"COURSE\", \"COURSE\", \"COURSE\", \"COURSE\", \"COURSE\", \"COURSE\", \"COURSE\", \"COURSE\", \"COURSE\", \"COURSE\", \"SPECIALIZATION\", \"COURSE\", \"SPECIALIZATION\", \"SPECIALIZATION\", \"SPECIALIZATION\", \"COURSE\", \"SPECIALIZATION\", \"COURSE\", \"COURSE\", \"COURSE\", \"COURSE\", \"SPECIALIZATION\", \"SPECIALIZATION\", \"COURSE\", \"COURSE\", \"SPECIALIZATION\", \"COURSE\", \"SPECIALIZATION\", \"SPECIALIZATION\", \"SPECIALIZATION\", \"SPECIALIZATION\", \"SPECIALIZATION\", \"SPECIALIZATION\", \"SPECIALIZATION\", \"SPECIALIZATION\", \"SPECIALIZATION\", \"COURSE\", \"COURSE\", \"COURSE\", \"COURSE\", \"COURSE\", \"SPECIALIZATION\", \"COURSE\", \"COURSE\", \"SPECIALIZATION\", \"COURSE\", \"COURSE\", \"SPECIALIZATION\", \"COURSE\", \"COURSE\", \"SPECIALIZATION\", \"COURSE\", \"SPECIALIZATION\", \"COURSE\", \"COURSE\", \"COURSE\", \"COURSE\", \"SPECIALIZATION\", \"SPECIALIZATION\", \"COURSE\", \"COURSE\", \"COURSE\", \"SPECIALIZATION\", \"COURSE\", \"SPECIALIZATION\", \"COURSE\", \"SPECIALIZATION\", \"SPECIALIZATION\", \"COURSE\", \"SPECIALIZATION\", \"COURSE\", \"COURSE\", \"COURSE\", \"SPECIALIZATION\", \"COURSE\", \"SPECIALIZATION\", \"SPECIALIZATION\", \"COURSE\", \"COURSE\", \"COURSE\", \"SPECIALIZATION\", \"COURSE\", \"SPECIALIZATION\", \"SPECIALIZATION\", \"COURSE\", \"COURSE\", \"COURSE\", \"COURSE\", \"COURSE\", \"COURSE\", \"COURSE\", \"SPECIALIZATION\", \"SPECIALIZATION\", \"COURSE\", \"COURSE\", \"COURSE\", \"COURSE\", \"COURSE\", \"SPECIALIZATION\", \"COURSE\", \"SPECIALIZATION\", \"COURSE\", \"COURSE\", \"COURSE\", \"SPECIALIZATION\", \"COURSE\", \"SPECIALIZATION\", \"COURSE\", \"COURSE\", \"COURSE\", \"SPECIALIZATION\", \"COURSE\", \"COURSE\", \"SPECIALIZATION\", \"SPECIALIZATION\", \"COURSE\", \"COURSE\", \"COURSE\", \"SPECIALIZATION\", \"COURSE\", \"COURSE\", \"SPECIALIZATION\", \"SPECIALIZATION\", \"COURSE\", \"SPECIALIZATION\", \"SPECIALIZATION\", \"SPECIALIZATION\", \"COURSE\", \"SPECIALIZATION\", \"COURSE\", \"COURSE\", \"COURSE\", \"COURSE\", \"SPECIALIZATION\", \"SPECIALIZATION\", \"COURSE\", \"COURSE\", \"COURSE\", \"COURSE\", \"COURSE\", \"COURSE\", \"SPECIALIZATION\", \"SPECIALIZATION\", \"COURSE\", \"COURSE\", \"COURSE\", \"SPECIALIZATION\", \"SPECIALIZATION\", \"COURSE\", \"COURSE\", \"COURSE\", \"COURSE\", \"COURSE\", \"COURSE\", \"COURSE\", \"COURSE\", \"SPECIALIZATION\", \"COURSE\", \"COURSE\", \"SPECIALIZATION\", \"SPECIALIZATION\", \"COURSE\", \"COURSE\", \"COURSE\", \"COURSE\", \"COURSE\", \"COURSE\", \"COURSE\", \"COURSE\", \"SPECIALIZATION\", \"COURSE\", \"COURSE\", \"COURSE\", \"COURSE\", \"SPECIALIZATION\", \"COURSE\", \"SPECIALIZATION\", \"COURSE\", \"COURSE\", \"SPECIALIZATION\", \"COURSE\", \"COURSE\", \"SPECIALIZATION\", \"COURSE\", \"COURSE\", \"SPECIALIZATION\", \"COURSE\", \"COURSE\", \"SPECIALIZATION\", \"COURSE\", \"PROFESSIONAL CERTIFICATE\", \"PROFESSIONAL CERTIFICATE\", \"COURSE\", \"SPECIALIZATION\", \"SPECIALIZATION\", \"COURSE\", \"COURSE\", \"SPECIALIZATION\", \"COURSE\", \"COURSE\", \"SPECIALIZATION\", \"COURSE\", \"SPECIALIZATION\", \"SPECIALIZATION\", \"COURSE\", \"COURSE\", \"COURSE\", \"COURSE\", \"SPECIALIZATION\", \"COURSE\", \"COURSE\", \"COURSE\", \"SPECIALIZATION\", \"SPECIALIZATION\", \"COURSE\", \"SPECIALIZATION\", \"COURSE\", \"COURSE\", \"SPECIALIZATION\", \"SPECIALIZATION\", \"COURSE\", \"SPECIALIZATION\", \"COURSE\", \"COURSE\", \"PROFESSIONAL CERTIFICATE\", \"SPECIALIZATION\", \"COURSE\", \"COURSE\", \"COURSE\", \"COURSE\", \"COURSE\", \"COURSE\", \"SPECIALIZATION\", \"SPECIALIZATION\", \"SPECIALIZATION\", \"COURSE\", \"SPECIALIZATION\", \"COURSE\", \"SPECIALIZATION\", \"COURSE\", \"SPECIALIZATION\", \"SPECIALIZATION\", \"SPECIALIZATION\", \"COURSE\", \"COURSE\", \"COURSE\", \"COURSE\", \"COURSE\", \"COURSE\", \"SPECIALIZATION\", \"COURSE\", \"SPECIALIZATION\", \"COURSE\", \"COURSE\", \"COURSE\", \"SPECIALIZATION\", \"COURSE\", \"SPECIALIZATION\", \"COURSE\", \"SPECIALIZATION\", \"COURSE\", \"SPECIALIZATION\", \"SPECIALIZATION\", \"COURSE\", \"COURSE\", \"COURSE\", \"COURSE\", \"COURSE\", \"SPECIALIZATION\", \"SPECIALIZATION\", \"COURSE\", \"COURSE\", \"COURSE\", \"SPECIALIZATION\", \"COURSE\", \"COURSE\", \"SPECIALIZATION\", \"SPECIALIZATION\", \"COURSE\", \"COURSE\", \"SPECIALIZATION\", \"COURSE\", \"COURSE\", \"COURSE\", \"COURSE\", \"COURSE\", \"COURSE\", \"COURSE\", \"COURSE\", \"COURSE\", \"COURSE\", \"SPECIALIZATION\", \"COURSE\", \"COURSE\", \"COURSE\", \"COURSE\", \"COURSE\", \"SPECIALIZATION\", \"COURSE\", \"COURSE\", \"COURSE\", \"SPECIALIZATION\", \"COURSE\", \"COURSE\", \"COURSE\", \"COURSE\", \"COURSE\", \"SPECIALIZATION\", \"COURSE\", \"COURSE\", \"COURSE\", \"SPECIALIZATION\", \"PROFESSIONAL CERTIFICATE\", \"SPECIALIZATION\", \"COURSE\", \"COURSE\", \"COURSE\", \"COURSE\", \"COURSE\", \"SPECIALIZATION\", \"COURSE\", \"COURSE\", \"COURSE\", \"COURSE\", \"SPECIALIZATION\", \"SPECIALIZATION\", \"COURSE\", \"COURSE\", \"SPECIALIZATION\", \"SPECIALIZATION\", \"COURSE\", \"COURSE\", \"COURSE\", \"SPECIALIZATION\", \"COURSE\", \"COURSE\", \"SPECIALIZATION\", \"SPECIALIZATION\", \"COURSE\", \"SPECIALIZATION\", \"SPECIALIZATION\", \"COURSE\", \"COURSE\", \"COURSE\", \"COURSE\", \"COURSE\", \"COURSE\", \"COURSE\", \"COURSE\", \"COURSE\", \"COURSE\", \"COURSE\", \"COURSE\", \"COURSE\", \"SPECIALIZATION\", \"COURSE\", \"COURSE\", \"SPECIALIZATION\", \"SPECIALIZATION\", \"SPECIALIZATION\", \"SPECIALIZATION\", \"COURSE\", \"SPECIALIZATION\", \"SPECIALIZATION\", \"COURSE\", \"COURSE\", \"COURSE\", \"SPECIALIZATION\", \"COURSE\", \"SPECIALIZATION\", \"SPECIALIZATION\", \"SPECIALIZATION\"]}],\n",
       "                        {\"barmode\": \"overlay\", \"legend\": {\"bgcolor\": \"#F2F3F7\", \"font\": {\"color\": \"#505050\"}}, \"paper_bgcolor\": \"#F2F3F7\", \"plot_bgcolor\": \"#F2F3F7\", \"template\": {\"data\": {\"bar\": [{\"error_x\": {\"color\": \"#2a3f5f\"}, \"error_y\": {\"color\": \"#2a3f5f\"}, \"marker\": {\"line\": {\"color\": \"#E5ECF6\", \"width\": 0.5}}, \"type\": \"bar\"}], \"barpolar\": [{\"marker\": {\"line\": {\"color\": \"#E5ECF6\", \"width\": 0.5}}, \"type\": \"barpolar\"}], \"carpet\": [{\"aaxis\": {\"endlinecolor\": \"#2a3f5f\", \"gridcolor\": \"white\", \"linecolor\": \"white\", \"minorgridcolor\": \"white\", \"startlinecolor\": \"#2a3f5f\"}, \"baxis\": {\"endlinecolor\": \"#2a3f5f\", \"gridcolor\": \"white\", \"linecolor\": \"white\", \"minorgridcolor\": \"white\", \"startlinecolor\": \"#2a3f5f\"}, \"type\": \"carpet\"}], \"choropleth\": [{\"colorbar\": {\"outlinewidth\": 0, \"ticks\": \"\"}, \"type\": \"choropleth\"}], \"contour\": [{\"colorbar\": {\"outlinewidth\": 0, \"ticks\": \"\"}, \"colorscale\": [[0.0, \"#0d0887\"], [0.1111111111111111, \"#46039f\"], [0.2222222222222222, \"#7201a8\"], [0.3333333333333333, \"#9c179e\"], [0.4444444444444444, \"#bd3786\"], [0.5555555555555556, \"#d8576b\"], [0.6666666666666666, \"#ed7953\"], [0.7777777777777778, \"#fb9f3a\"], [0.8888888888888888, \"#fdca26\"], [1.0, \"#f0f921\"]], \"type\": \"contour\"}], \"contourcarpet\": [{\"colorbar\": {\"outlinewidth\": 0, \"ticks\": \"\"}, \"type\": \"contourcarpet\"}], \"heatmap\": [{\"colorbar\": {\"outlinewidth\": 0, \"ticks\": \"\"}, \"colorscale\": [[0.0, \"#0d0887\"], [0.1111111111111111, \"#46039f\"], [0.2222222222222222, \"#7201a8\"], [0.3333333333333333, \"#9c179e\"], [0.4444444444444444, \"#bd3786\"], [0.5555555555555556, \"#d8576b\"], [0.6666666666666666, \"#ed7953\"], [0.7777777777777778, \"#fb9f3a\"], [0.8888888888888888, \"#fdca26\"], [1.0, \"#f0f921\"]], \"type\": \"heatmap\"}], \"heatmapgl\": [{\"colorbar\": {\"outlinewidth\": 0, \"ticks\": \"\"}, \"colorscale\": [[0.0, \"#0d0887\"], [0.1111111111111111, \"#46039f\"], [0.2222222222222222, \"#7201a8\"], [0.3333333333333333, \"#9c179e\"], [0.4444444444444444, \"#bd3786\"], [0.5555555555555556, \"#d8576b\"], [0.6666666666666666, \"#ed7953\"], [0.7777777777777778, \"#fb9f3a\"], [0.8888888888888888, \"#fdca26\"], [1.0, \"#f0f921\"]], \"type\": \"heatmapgl\"}], \"histogram\": [{\"marker\": {\"colorbar\": {\"outlinewidth\": 0, \"ticks\": \"\"}}, \"type\": \"histogram\"}], \"histogram2d\": [{\"colorbar\": {\"outlinewidth\": 0, \"ticks\": \"\"}, \"colorscale\": [[0.0, \"#0d0887\"], [0.1111111111111111, \"#46039f\"], [0.2222222222222222, \"#7201a8\"], [0.3333333333333333, \"#9c179e\"], [0.4444444444444444, \"#bd3786\"], [0.5555555555555556, \"#d8576b\"], [0.6666666666666666, \"#ed7953\"], [0.7777777777777778, \"#fb9f3a\"], [0.8888888888888888, \"#fdca26\"], [1.0, \"#f0f921\"]], \"type\": \"histogram2d\"}], \"histogram2dcontour\": [{\"colorbar\": {\"outlinewidth\": 0, \"ticks\": \"\"}, \"colorscale\": [[0.0, \"#0d0887\"], [0.1111111111111111, \"#46039f\"], [0.2222222222222222, \"#7201a8\"], [0.3333333333333333, \"#9c179e\"], [0.4444444444444444, \"#bd3786\"], [0.5555555555555556, \"#d8576b\"], [0.6666666666666666, \"#ed7953\"], [0.7777777777777778, \"#fb9f3a\"], [0.8888888888888888, \"#fdca26\"], [1.0, \"#f0f921\"]], \"type\": \"histogram2dcontour\"}], \"mesh3d\": [{\"colorbar\": {\"outlinewidth\": 0, \"ticks\": \"\"}, \"type\": \"mesh3d\"}], \"parcoords\": [{\"line\": {\"colorbar\": {\"outlinewidth\": 0, \"ticks\": \"\"}}, \"type\": \"parcoords\"}], \"pie\": [{\"automargin\": true, \"type\": \"pie\"}], \"scatter\": [{\"marker\": {\"colorbar\": {\"outlinewidth\": 0, \"ticks\": \"\"}}, \"type\": \"scatter\"}], \"scatter3d\": [{\"line\": {\"colorbar\": {\"outlinewidth\": 0, \"ticks\": \"\"}}, \"marker\": {\"colorbar\": {\"outlinewidth\": 0, \"ticks\": \"\"}}, \"type\": \"scatter3d\"}], \"scattercarpet\": [{\"marker\": {\"colorbar\": {\"outlinewidth\": 0, \"ticks\": \"\"}}, \"type\": \"scattercarpet\"}], \"scattergeo\": [{\"marker\": {\"colorbar\": {\"outlinewidth\": 0, \"ticks\": \"\"}}, \"type\": \"scattergeo\"}], \"scattergl\": [{\"marker\": {\"colorbar\": {\"outlinewidth\": 0, \"ticks\": \"\"}}, \"type\": \"scattergl\"}], \"scattermapbox\": [{\"marker\": {\"colorbar\": {\"outlinewidth\": 0, \"ticks\": \"\"}}, \"type\": \"scattermapbox\"}], \"scatterpolar\": [{\"marker\": {\"colorbar\": {\"outlinewidth\": 0, \"ticks\": \"\"}}, \"type\": \"scatterpolar\"}], \"scatterpolargl\": [{\"marker\": {\"colorbar\": {\"outlinewidth\": 0, \"ticks\": \"\"}}, \"type\": \"scatterpolargl\"}], \"scatterternary\": [{\"marker\": {\"colorbar\": {\"outlinewidth\": 0, \"ticks\": \"\"}}, \"type\": \"scatterternary\"}], \"surface\": [{\"colorbar\": {\"outlinewidth\": 0, \"ticks\": \"\"}, \"colorscale\": [[0.0, \"#0d0887\"], [0.1111111111111111, \"#46039f\"], [0.2222222222222222, \"#7201a8\"], [0.3333333333333333, \"#9c179e\"], [0.4444444444444444, \"#bd3786\"], [0.5555555555555556, \"#d8576b\"], [0.6666666666666666, \"#ed7953\"], [0.7777777777777778, \"#fb9f3a\"], [0.8888888888888888, \"#fdca26\"], [1.0, \"#f0f921\"]], \"type\": \"surface\"}], \"table\": [{\"cells\": {\"fill\": {\"color\": \"#EBF0F8\"}, \"line\": {\"color\": \"white\"}}, \"header\": {\"fill\": {\"color\": \"#C8D4E3\"}, \"line\": {\"color\": \"white\"}}, \"type\": \"table\"}]}, \"layout\": {\"annotationdefaults\": {\"arrowcolor\": \"#2a3f5f\", \"arrowhead\": 0, \"arrowwidth\": 1}, \"coloraxis\": {\"colorbar\": {\"outlinewidth\": 0, \"ticks\": \"\"}}, \"colorscale\": {\"diverging\": [[0, \"#8e0152\"], [0.1, \"#c51b7d\"], [0.2, \"#de77ae\"], [0.3, \"#f1b6da\"], [0.4, \"#fde0ef\"], [0.5, \"#f7f7f7\"], [0.6, \"#e6f5d0\"], [0.7, \"#b8e186\"], [0.8, \"#7fbc41\"], [0.9, \"#4d9221\"], [1, \"#276419\"]], \"sequential\": [[0.0, \"#0d0887\"], [0.1111111111111111, \"#46039f\"], [0.2222222222222222, \"#7201a8\"], [0.3333333333333333, \"#9c179e\"], [0.4444444444444444, \"#bd3786\"], [0.5555555555555556, \"#d8576b\"], [0.6666666666666666, \"#ed7953\"], [0.7777777777777778, \"#fb9f3a\"], [0.8888888888888888, \"#fdca26\"], [1.0, \"#f0f921\"]], \"sequentialminus\": [[0.0, \"#0d0887\"], [0.1111111111111111, \"#46039f\"], [0.2222222222222222, \"#7201a8\"], [0.3333333333333333, \"#9c179e\"], [0.4444444444444444, \"#bd3786\"], [0.5555555555555556, \"#d8576b\"], [0.6666666666666666, \"#ed7953\"], [0.7777777777777778, \"#fb9f3a\"], [0.8888888888888888, \"#fdca26\"], [1.0, \"#f0f921\"]]}, \"colorway\": [\"#636efa\", \"#EF553B\", \"#00cc96\", \"#ab63fa\", \"#FFA15A\", \"#19d3f3\", \"#FF6692\", \"#B6E880\", \"#FF97FF\", \"#FECB52\"], \"font\": {\"color\": \"#2a3f5f\"}, \"geo\": {\"bgcolor\": \"white\", \"lakecolor\": \"white\", \"landcolor\": \"#E5ECF6\", \"showlakes\": true, \"showland\": true, \"subunitcolor\": \"white\"}, \"hoverlabel\": {\"align\": \"left\"}, \"hovermode\": \"closest\", \"mapbox\": {\"style\": \"light\"}, \"paper_bgcolor\": \"white\", \"plot_bgcolor\": \"#E5ECF6\", \"polar\": {\"angularaxis\": {\"gridcolor\": \"white\", \"linecolor\": \"white\", \"ticks\": \"\"}, \"bgcolor\": \"#E5ECF6\", \"radialaxis\": {\"gridcolor\": \"white\", \"linecolor\": \"white\", \"ticks\": \"\"}}, \"scene\": {\"xaxis\": {\"backgroundcolor\": \"#E5ECF6\", \"gridcolor\": \"white\", \"gridwidth\": 2, \"linecolor\": \"white\", \"showbackground\": true, \"ticks\": \"\", \"zerolinecolor\": \"white\"}, \"yaxis\": {\"backgroundcolor\": \"#E5ECF6\", \"gridcolor\": \"white\", \"gridwidth\": 2, \"linecolor\": \"white\", \"showbackground\": true, \"ticks\": \"\", \"zerolinecolor\": \"white\"}, \"zaxis\": {\"backgroundcolor\": \"#E5ECF6\", \"gridcolor\": \"white\", \"gridwidth\": 2, \"linecolor\": \"white\", \"showbackground\": true, \"ticks\": \"\", \"zerolinecolor\": \"white\"}}, \"shapedefaults\": {\"line\": {\"color\": \"#2a3f5f\"}}, \"ternary\": {\"aaxis\": {\"gridcolor\": \"white\", \"linecolor\": \"white\", \"ticks\": \"\"}, \"baxis\": {\"gridcolor\": \"white\", \"linecolor\": \"white\", \"ticks\": \"\"}, \"bgcolor\": \"#E5ECF6\", \"caxis\": {\"gridcolor\": \"white\", \"linecolor\": \"white\", \"ticks\": \"\"}}, \"title\": {\"x\": 0.05}, \"xaxis\": {\"automargin\": true, \"gridcolor\": \"white\", \"linecolor\": \"white\", \"ticks\": \"\", \"title\": {\"standoff\": 15}, \"zerolinecolor\": \"white\", \"zerolinewidth\": 2}, \"yaxis\": {\"automargin\": true, \"gridcolor\": \"white\", \"linecolor\": \"white\", \"ticks\": \"\", \"title\": {\"standoff\": 15}, \"zerolinecolor\": \"white\", \"zerolinewidth\": 2}}}, \"title\": {\"font\": {\"color\": \"#484848\"}, \"text\": \"Course Certificate Type\"}, \"xaxis\": {\"gridcolor\": \"#E1E5ED\", \"showgrid\": true, \"tickfont\": {\"color\": \"#505050\"}, \"title\": {\"font\": {\"color\": \"#505050\"}, \"text\": \"Course Type\"}, \"zerolinecolor\": \"#E1E5ED\"}, \"yaxis\": {\"gridcolor\": \"#E1E5ED\", \"showgrid\": true, \"tickfont\": {\"color\": \"#505050\"}, \"title\": {\"font\": {\"color\": \"#505050\"}, \"text\": \"Counts\"}, \"zerolinecolor\": \"#E1E5ED\"}},\n",
       "                        {\"showLink\": true, \"linkText\": \"Export to plot.ly\", \"plotlyServerURL\": \"https://plot.ly\", \"responsive\": true}\n",
       "                    ).then(function(){\n",
       "                            \n",
       "var gd = document.getElementById('18ce5e36-1fc9-4b05-ba91-df3db659e872');\n",
       "var x = new MutationObserver(function (mutations, observer) {{\n",
       "        var display = window.getComputedStyle(gd).display;\n",
       "        if (!display || display === 'none') {{\n",
       "            console.log([gd, 'removed!']);\n",
       "            Plotly.purge(gd);\n",
       "            observer.disconnect();\n",
       "        }}\n",
       "}});\n",
       "\n",
       "// Listen for the removal of the full notebook cells\n",
       "var notebookContainer = gd.closest('#notebook-container');\n",
       "if (notebookContainer) {{\n",
       "    x.observe(notebookContainer, {childList: true});\n",
       "}}\n",
       "\n",
       "// Listen for the clearing of the current output cell\n",
       "var outputEl = gd.closest('.output');\n",
       "if (outputEl) {{\n",
       "    x.observe(outputEl, {childList: true});\n",
       "}}\n",
       "\n",
       "                        })\n",
       "                };\n",
       "                });\n",
       "            </script>\n",
       "        </div>"
      ]
     },
     "metadata": {},
     "output_type": "display_data"
    }
   ],
   "source": [
    "cf.set_config_file(theme='polar')\n",
    "ds['course_Certificate_type'].iplot(kind='hist',title='Course Certificate Type',\n",
    "                                   xTitle='Course Type', yTitle='Counts')"
   ]
  },
  {
   "cell_type": "code",
   "execution_count": 87,
   "metadata": {},
   "outputs": [
    {
     "data": {
      "application/vnd.plotly.v1+json": {
       "config": {
        "linkText": "Export to plot.ly",
        "plotlyServerURL": "https://plot.ly",
        "showLink": true
       },
       "data": [
        {
         "histfunc": "count",
         "histnorm": "",
         "marker": {
          "color": "rgba(226, 74, 51, 1.0)",
          "line": {
           "color": "#D9D9D9",
           "width": 1.3
          }
         },
         "name": "course_rating",
         "opacity": 0.8,
         "orientation": "v",
         "type": "histogram",
         "x": [
          4.7,
          4.7,
          4.5,
          4.7,
          4.8,
          4.7,
          4.8,
          4.8,
          4.7,
          4.7,
          4.6,
          4.7,
          4.6,
          4.3,
          4.7,
          4.7,
          4.5,
          4.7,
          4.7,
          4.7,
          4.6,
          4.5,
          4.8,
          4.7,
          4.8,
          4.8,
          4.5,
          4.4,
          4.5,
          4.5,
          4.7,
          4.8,
          4.7,
          4.7,
          4.7,
          4.7,
          4.9,
          4.7,
          4.8,
          4.8,
          4.9,
          4.8,
          4.7,
          4.6,
          4.6,
          4.8,
          4.8,
          4.8,
          4.8,
          4.5,
          4.8,
          4.5,
          4.8,
          4.6,
          4.6,
          4.7,
          4.5,
          4.6,
          4.6,
          4.2,
          4.8,
          4.9,
          4.5,
          4.7,
          4.5,
          4.9,
          4.8,
          4.8,
          4.6,
          4.8,
          4.9,
          4.7,
          4.8,
          4.6,
          4.8,
          4.8,
          4.7,
          4.7,
          4.6,
          4.6,
          4.8,
          4.8,
          4.9,
          4.7,
          4.7,
          4.7,
          4.8,
          4.4,
          4.6,
          4.5,
          4.6,
          4.4,
          4.8,
          4.8,
          4.6,
          4.7,
          4.6,
          4.7,
          4.9,
          4.9,
          4.6,
          4.7,
          4.9,
          4.9,
          4.5,
          4.5,
          4.6,
          4.3,
          4.5,
          4.6,
          4.7,
          4.7,
          4.7,
          4.7,
          4.7,
          4.7,
          4.7,
          4.7,
          4.5,
          4.7,
          4.8,
          4.5,
          4.5,
          4.7,
          4.9,
          4.8,
          4.7,
          4.7,
          4.6,
          4.4,
          4.8,
          4.7,
          4.7,
          4.7,
          4.8,
          4.7,
          4.8,
          4.8,
          4.6,
          4.8,
          4.4,
          4.5,
          4.7,
          4.7,
          4.7,
          4.7,
          4.8,
          4.9,
          4.7,
          4.7,
          4.6,
          4.8,
          4.6,
          4.3,
          4.7,
          4.7,
          4.8,
          4.8,
          4.7,
          4.5,
          4.6,
          4.8,
          4.9,
          4.7,
          4.8,
          4.8,
          4.8,
          4.6,
          4.6,
          4.8,
          4.8,
          4.8,
          4.3,
          4.6,
          4.7,
          4.7,
          4.8,
          4.8,
          4.6,
          4.6,
          4.7,
          4.5,
          4.2,
          4.6,
          4.8,
          4.8,
          4.4,
          4.6,
          4.7,
          4.8,
          4.7,
          4.4,
          4.6,
          4.6,
          4.7,
          4.4,
          4.5,
          4.5,
          4.6,
          4.6,
          4.4,
          4.7,
          4.8,
          4.6,
          4.5,
          4.5,
          4.7,
          4.6,
          4.7,
          4.8,
          4.6,
          4.8,
          4.8,
          4.7,
          4.4,
          4.6,
          4.6,
          4.7,
          4.7,
          4.6,
          4.6,
          4.7,
          4.8,
          4.6,
          4.8,
          4.8,
          4.7,
          4.4,
          4.5,
          4.6,
          4.6,
          4.4,
          4.7,
          4.7,
          4.5,
          4.9,
          4.6,
          4.9,
          4.8,
          4.6,
          4.8,
          4.7,
          4.6,
          4.7,
          4.8,
          4.8,
          4.7,
          4.9,
          4.7,
          4.9,
          4.9,
          5,
          4.7,
          4.8,
          4.8,
          4.6,
          4.7,
          4.8,
          4.7,
          4.6,
          4.8,
          4.8,
          4.8,
          4.6,
          4.8,
          4.4,
          4.5,
          4.8,
          4.8,
          4.8,
          4.7,
          4.8,
          4.6,
          4.8,
          4.7,
          4.7,
          4.7,
          4.6,
          4.8,
          4.8,
          4.5,
          4.7,
          4.7,
          4.7,
          4.8,
          4.6,
          4.8,
          4.7,
          4.8,
          4.8,
          4.9,
          4.9,
          4.7,
          4.9,
          4.9,
          4.8,
          4.6,
          4.8,
          4.8,
          4.5,
          4.8,
          4.8,
          4.8,
          4.8,
          4.6,
          4.7,
          4.5,
          4.8,
          4.4,
          4.8,
          4.5,
          4.6,
          4.7,
          4.8,
          4.5,
          4.8,
          4.7,
          4.8,
          4.6,
          4.8,
          4.7,
          4.6,
          4.9,
          4.8,
          4.7,
          4.9,
          4.8,
          4.8,
          4.8,
          4.7,
          4.8,
          4.2,
          4.8,
          4.8,
          4.6,
          4.8,
          4.7,
          4.8,
          4.7,
          4.7,
          4.8,
          4.7,
          4.6,
          4.6,
          4.8,
          4.7,
          4.8,
          4.8,
          4.7,
          4.7,
          4.6,
          4.7,
          4.6,
          4.8,
          4.5,
          4.6,
          4.6,
          4.7,
          4.8,
          4.6,
          4.6,
          4.8,
          4.7,
          4.8,
          4.7,
          4.6,
          4.8,
          4.7,
          4.4,
          4.8,
          4.3,
          4.8,
          4.7,
          4.7,
          4.5,
          4.5,
          4.6,
          4.5,
          4.6,
          4.9,
          4.6,
          4.7,
          4.5,
          4.6,
          4.6,
          4.6,
          4.8,
          4.8,
          4.6,
          4.6,
          4.7,
          4.7,
          4.8,
          4.7,
          4.7,
          4.8,
          4.6,
          4.8,
          4.7,
          4.8,
          4.7,
          4.8,
          4.2,
          4.6,
          4.5,
          4.5,
          4.7,
          4.4,
          4.6,
          4.8,
          4.7,
          4.6,
          4.8,
          3.3,
          4.1,
          4.7,
          4.6,
          4.4,
          4.6,
          4.8,
          4.6,
          4.5,
          4.8,
          4.9,
          4.7,
          4.6,
          4.7,
          4.9,
          4.4,
          4.9,
          4.8,
          4.5,
          5,
          4.4,
          4.8,
          4.6,
          4.6,
          4.7,
          4.7,
          4.6,
          4.8,
          4.8,
          4.5,
          4.7,
          4.8,
          4.2,
          4.6,
          4.8,
          4.8,
          4.5,
          4.6,
          4.5,
          4.4,
          4.8,
          4.8,
          4.8,
          4.8,
          4.6,
          4.8,
          4.5,
          4.9,
          4.6,
          4.7,
          4.8,
          4.6,
          4.7,
          4.4,
          4.8,
          4.8,
          4.7,
          4.6,
          4.7,
          4.9,
          4.7,
          4.8,
          4.8,
          4.8,
          4.9,
          4.6,
          4.3,
          4.3,
          4.6,
          4.7,
          4.7,
          4.5,
          4.7,
          4.6,
          4.5,
          4.8,
          4.4,
          4.7,
          4.5,
          4.7,
          4.8,
          4.7,
          4.9,
          4.8,
          4.8,
          4.6,
          4.7,
          4.5,
          4.8,
          4.8,
          4.8,
          4.8,
          4.5,
          4.4,
          4.6,
          4.8,
          4.7,
          4.7,
          4.8,
          4.9,
          4.7,
          4.8,
          4.2,
          4.7,
          4.8,
          4.8,
          4.7,
          4.7,
          4.8,
          4,
          4.8,
          4.5,
          4.8,
          4.7,
          4.8,
          4.7,
          4.9,
          4.9,
          4.7,
          4.6,
          4.5,
          4.6,
          4.6,
          4.6,
          4.5,
          4.7,
          4.7,
          4.6,
          4.7,
          4.7,
          4.8,
          4.7,
          4.7,
          4.8,
          4.8,
          4.3,
          4.5,
          4.8,
          4.7,
          4.8,
          4.6,
          4.6,
          4.8,
          4.9,
          4.7,
          4.5,
          4.7,
          4.8,
          4.6,
          4.7,
          4.6,
          4.9,
          4.6,
          3.7,
          4.6,
          4.6,
          3.9,
          4.7,
          4.5,
          4.6,
          4.7,
          4.7,
          4.9,
          4.7,
          4.7,
          4.7,
          4.5,
          4.6,
          4.5,
          4.8,
          4.7,
          4.7,
          4.6,
          4.4,
          4.8,
          4.4,
          4.7,
          4.2,
          4.6,
          4.3,
          4.7,
          4.5,
          4.6,
          4.7,
          4.7,
          4,
          4.8,
          4.9,
          4.3,
          4.6,
          4.9,
          4.7,
          4.8,
          4.7,
          4.8,
          4.6,
          4.7,
          4.8,
          4.7,
          4.7,
          4.8,
          4.9,
          4.9,
          4.8,
          4.8,
          4.9,
          4.8,
          4.8,
          4.6,
          4.8,
          4.7,
          4.8,
          4.7,
          4.9,
          4.7,
          4.7,
          4.8,
          4.8,
          4.8,
          4.7,
          4.6,
          4.7,
          4.7,
          4.8,
          4.4,
          4.6,
          4.7,
          4.2,
          4.7,
          4.7,
          4.8,
          4.6,
          4.5,
          4.5,
          4.8,
          4.6,
          4.5,
          4.7,
          4.9,
          4.7,
          4.7,
          4.7,
          4.8,
          4.7,
          4.8,
          4.8,
          4.6,
          4.8,
          4.7,
          4.6,
          4.7,
          4.8,
          4.6,
          4.8,
          4.8,
          4.8,
          4.7,
          4.6,
          4.8,
          4.6,
          4.7,
          4.8,
          4.6,
          4.2,
          4.7,
          4.6,
          4.7,
          4.8,
          4.6,
          4.8,
          4.7,
          4.9,
          4.8,
          4.4,
          4.6,
          4.8,
          4.7,
          4.9,
          4.6,
          4.8,
          4.3,
          4.7,
          4.7,
          4.7,
          4.7,
          4.6,
          4.6,
          4.8,
          4.5,
          4.9,
          4.9,
          4.4,
          4.9,
          4.7,
          4.7,
          4.5,
          4.8,
          4.6,
          4.6,
          4.4,
          4.7,
          4.8,
          4.5,
          4.8,
          4.8,
          4.7,
          4.4,
          4.7,
          4.7,
          4.7,
          4.8,
          4.8,
          4.7,
          4.5,
          4.7,
          4.7,
          4.8,
          4.6,
          4.6,
          4.6,
          4.6,
          4.8,
          4.7,
          4.8,
          4.6,
          4.6,
          4.7,
          4.6,
          4.8,
          4.8,
          4.9,
          4.8,
          4.6,
          4.6,
          4.7,
          4.8,
          4.7,
          4.7,
          4.7,
          4.6,
          4.7,
          4.9,
          4.3,
          4.7,
          4.7,
          4.7,
          4.7,
          4.5,
          4.8,
          4.6,
          4.8,
          4.8,
          4.8,
          4.8,
          4.7,
          4.6,
          4.7,
          4.7,
          4.8,
          4.6,
          4.8,
          4.3,
          4.6,
          4.5,
          4.7,
          4.4,
          4.9,
          4.9,
          4.9,
          4.9,
          4.4,
          4.8,
          4.8,
          4.8,
          4.7,
          4.5,
          4.8,
          4.6,
          4.8,
          4.7,
          4.5,
          4.7,
          4.6,
          4.8,
          4.7,
          4.8,
          4.8,
          4.6,
          4.8,
          4.8,
          4.9,
          4.6,
          4.8,
          4.8,
          4.9,
          4.6,
          4.7,
          4.6,
          4.6,
          4.7,
          4.8,
          4.9,
          4.9,
          4.8,
          4.6,
          4.5,
          4.8,
          4.7,
          4.8,
          4.7,
          4.7,
          4.6,
          4.6,
          4.3,
          4.8,
          4.7,
          4.9,
          4.8,
          4.6,
          4.7,
          4.8,
          4.8,
          4.8,
          4.9,
          4.8,
          4.4,
          4.8,
          4.5,
          4.7,
          4.9,
          4.5,
          4.2,
          4.8,
          4.9,
          4.8,
          4.6,
          4.8,
          4.8,
          4.7,
          4.7,
          4.8,
          4.7,
          4.7,
          4.3,
          4.8,
          4.8,
          4.7,
          4.7,
          4.7,
          4.7,
          4.8,
          4.7,
          4.6,
          4.7,
          4.8,
          4.9,
          4.7,
          4.4,
          4.9,
          4.5,
          3.9,
          4.7,
          4.8,
          4.5,
          4.6,
          4.9,
          4.5,
          4.8,
          4.7,
          4.5,
          4.6,
          4.9,
          4.7,
          4.5,
          4.8,
          4.5,
          4.6,
          4.7
         ]
        }
       ],
       "layout": {
        "bargap": 0.2,
        "barmode": "overlay",
        "legend": {
         "bgcolor": "#FFFFFF",
         "font": {
          "color": "#666666"
         }
        },
        "paper_bgcolor": "#FFFFFF",
        "plot_bgcolor": "#E5E5E5",
        "template": {
         "data": {
          "bar": [
           {
            "error_x": {
             "color": "#2a3f5f"
            },
            "error_y": {
             "color": "#2a3f5f"
            },
            "marker": {
             "line": {
              "color": "#E5ECF6",
              "width": 0.5
             }
            },
            "type": "bar"
           }
          ],
          "barpolar": [
           {
            "marker": {
             "line": {
              "color": "#E5ECF6",
              "width": 0.5
             }
            },
            "type": "barpolar"
           }
          ],
          "carpet": [
           {
            "aaxis": {
             "endlinecolor": "#2a3f5f",
             "gridcolor": "white",
             "linecolor": "white",
             "minorgridcolor": "white",
             "startlinecolor": "#2a3f5f"
            },
            "baxis": {
             "endlinecolor": "#2a3f5f",
             "gridcolor": "white",
             "linecolor": "white",
             "minorgridcolor": "white",
             "startlinecolor": "#2a3f5f"
            },
            "type": "carpet"
           }
          ],
          "choropleth": [
           {
            "colorbar": {
             "outlinewidth": 0,
             "ticks": ""
            },
            "type": "choropleth"
           }
          ],
          "contour": [
           {
            "colorbar": {
             "outlinewidth": 0,
             "ticks": ""
            },
            "colorscale": [
             [
              0,
              "#0d0887"
             ],
             [
              0.1111111111111111,
              "#46039f"
             ],
             [
              0.2222222222222222,
              "#7201a8"
             ],
             [
              0.3333333333333333,
              "#9c179e"
             ],
             [
              0.4444444444444444,
              "#bd3786"
             ],
             [
              0.5555555555555556,
              "#d8576b"
             ],
             [
              0.6666666666666666,
              "#ed7953"
             ],
             [
              0.7777777777777778,
              "#fb9f3a"
             ],
             [
              0.8888888888888888,
              "#fdca26"
             ],
             [
              1,
              "#f0f921"
             ]
            ],
            "type": "contour"
           }
          ],
          "contourcarpet": [
           {
            "colorbar": {
             "outlinewidth": 0,
             "ticks": ""
            },
            "type": "contourcarpet"
           }
          ],
          "heatmap": [
           {
            "colorbar": {
             "outlinewidth": 0,
             "ticks": ""
            },
            "colorscale": [
             [
              0,
              "#0d0887"
             ],
             [
              0.1111111111111111,
              "#46039f"
             ],
             [
              0.2222222222222222,
              "#7201a8"
             ],
             [
              0.3333333333333333,
              "#9c179e"
             ],
             [
              0.4444444444444444,
              "#bd3786"
             ],
             [
              0.5555555555555556,
              "#d8576b"
             ],
             [
              0.6666666666666666,
              "#ed7953"
             ],
             [
              0.7777777777777778,
              "#fb9f3a"
             ],
             [
              0.8888888888888888,
              "#fdca26"
             ],
             [
              1,
              "#f0f921"
             ]
            ],
            "type": "heatmap"
           }
          ],
          "heatmapgl": [
           {
            "colorbar": {
             "outlinewidth": 0,
             "ticks": ""
            },
            "colorscale": [
             [
              0,
              "#0d0887"
             ],
             [
              0.1111111111111111,
              "#46039f"
             ],
             [
              0.2222222222222222,
              "#7201a8"
             ],
             [
              0.3333333333333333,
              "#9c179e"
             ],
             [
              0.4444444444444444,
              "#bd3786"
             ],
             [
              0.5555555555555556,
              "#d8576b"
             ],
             [
              0.6666666666666666,
              "#ed7953"
             ],
             [
              0.7777777777777778,
              "#fb9f3a"
             ],
             [
              0.8888888888888888,
              "#fdca26"
             ],
             [
              1,
              "#f0f921"
             ]
            ],
            "type": "heatmapgl"
           }
          ],
          "histogram": [
           {
            "marker": {
             "colorbar": {
              "outlinewidth": 0,
              "ticks": ""
             }
            },
            "type": "histogram"
           }
          ],
          "histogram2d": [
           {
            "colorbar": {
             "outlinewidth": 0,
             "ticks": ""
            },
            "colorscale": [
             [
              0,
              "#0d0887"
             ],
             [
              0.1111111111111111,
              "#46039f"
             ],
             [
              0.2222222222222222,
              "#7201a8"
             ],
             [
              0.3333333333333333,
              "#9c179e"
             ],
             [
              0.4444444444444444,
              "#bd3786"
             ],
             [
              0.5555555555555556,
              "#d8576b"
             ],
             [
              0.6666666666666666,
              "#ed7953"
             ],
             [
              0.7777777777777778,
              "#fb9f3a"
             ],
             [
              0.8888888888888888,
              "#fdca26"
             ],
             [
              1,
              "#f0f921"
             ]
            ],
            "type": "histogram2d"
           }
          ],
          "histogram2dcontour": [
           {
            "colorbar": {
             "outlinewidth": 0,
             "ticks": ""
            },
            "colorscale": [
             [
              0,
              "#0d0887"
             ],
             [
              0.1111111111111111,
              "#46039f"
             ],
             [
              0.2222222222222222,
              "#7201a8"
             ],
             [
              0.3333333333333333,
              "#9c179e"
             ],
             [
              0.4444444444444444,
              "#bd3786"
             ],
             [
              0.5555555555555556,
              "#d8576b"
             ],
             [
              0.6666666666666666,
              "#ed7953"
             ],
             [
              0.7777777777777778,
              "#fb9f3a"
             ],
             [
              0.8888888888888888,
              "#fdca26"
             ],
             [
              1,
              "#f0f921"
             ]
            ],
            "type": "histogram2dcontour"
           }
          ],
          "mesh3d": [
           {
            "colorbar": {
             "outlinewidth": 0,
             "ticks": ""
            },
            "type": "mesh3d"
           }
          ],
          "parcoords": [
           {
            "line": {
             "colorbar": {
              "outlinewidth": 0,
              "ticks": ""
             }
            },
            "type": "parcoords"
           }
          ],
          "pie": [
           {
            "automargin": true,
            "type": "pie"
           }
          ],
          "scatter": [
           {
            "marker": {
             "colorbar": {
              "outlinewidth": 0,
              "ticks": ""
             }
            },
            "type": "scatter"
           }
          ],
          "scatter3d": [
           {
            "line": {
             "colorbar": {
              "outlinewidth": 0,
              "ticks": ""
             }
            },
            "marker": {
             "colorbar": {
              "outlinewidth": 0,
              "ticks": ""
             }
            },
            "type": "scatter3d"
           }
          ],
          "scattercarpet": [
           {
            "marker": {
             "colorbar": {
              "outlinewidth": 0,
              "ticks": ""
             }
            },
            "type": "scattercarpet"
           }
          ],
          "scattergeo": [
           {
            "marker": {
             "colorbar": {
              "outlinewidth": 0,
              "ticks": ""
             }
            },
            "type": "scattergeo"
           }
          ],
          "scattergl": [
           {
            "marker": {
             "colorbar": {
              "outlinewidth": 0,
              "ticks": ""
             }
            },
            "type": "scattergl"
           }
          ],
          "scattermapbox": [
           {
            "marker": {
             "colorbar": {
              "outlinewidth": 0,
              "ticks": ""
             }
            },
            "type": "scattermapbox"
           }
          ],
          "scatterpolar": [
           {
            "marker": {
             "colorbar": {
              "outlinewidth": 0,
              "ticks": ""
             }
            },
            "type": "scatterpolar"
           }
          ],
          "scatterpolargl": [
           {
            "marker": {
             "colorbar": {
              "outlinewidth": 0,
              "ticks": ""
             }
            },
            "type": "scatterpolargl"
           }
          ],
          "scatterternary": [
           {
            "marker": {
             "colorbar": {
              "outlinewidth": 0,
              "ticks": ""
             }
            },
            "type": "scatterternary"
           }
          ],
          "surface": [
           {
            "colorbar": {
             "outlinewidth": 0,
             "ticks": ""
            },
            "colorscale": [
             [
              0,
              "#0d0887"
             ],
             [
              0.1111111111111111,
              "#46039f"
             ],
             [
              0.2222222222222222,
              "#7201a8"
             ],
             [
              0.3333333333333333,
              "#9c179e"
             ],
             [
              0.4444444444444444,
              "#bd3786"
             ],
             [
              0.5555555555555556,
              "#d8576b"
             ],
             [
              0.6666666666666666,
              "#ed7953"
             ],
             [
              0.7777777777777778,
              "#fb9f3a"
             ],
             [
              0.8888888888888888,
              "#fdca26"
             ],
             [
              1,
              "#f0f921"
             ]
            ],
            "type": "surface"
           }
          ],
          "table": [
           {
            "cells": {
             "fill": {
              "color": "#EBF0F8"
             },
             "line": {
              "color": "white"
             }
            },
            "header": {
             "fill": {
              "color": "#C8D4E3"
             },
             "line": {
              "color": "white"
             }
            },
            "type": "table"
           }
          ]
         },
         "layout": {
          "annotationdefaults": {
           "arrowcolor": "#2a3f5f",
           "arrowhead": 0,
           "arrowwidth": 1
          },
          "coloraxis": {
           "colorbar": {
            "outlinewidth": 0,
            "ticks": ""
           }
          },
          "colorscale": {
           "diverging": [
            [
             0,
             "#8e0152"
            ],
            [
             0.1,
             "#c51b7d"
            ],
            [
             0.2,
             "#de77ae"
            ],
            [
             0.3,
             "#f1b6da"
            ],
            [
             0.4,
             "#fde0ef"
            ],
            [
             0.5,
             "#f7f7f7"
            ],
            [
             0.6,
             "#e6f5d0"
            ],
            [
             0.7,
             "#b8e186"
            ],
            [
             0.8,
             "#7fbc41"
            ],
            [
             0.9,
             "#4d9221"
            ],
            [
             1,
             "#276419"
            ]
           ],
           "sequential": [
            [
             0,
             "#0d0887"
            ],
            [
             0.1111111111111111,
             "#46039f"
            ],
            [
             0.2222222222222222,
             "#7201a8"
            ],
            [
             0.3333333333333333,
             "#9c179e"
            ],
            [
             0.4444444444444444,
             "#bd3786"
            ],
            [
             0.5555555555555556,
             "#d8576b"
            ],
            [
             0.6666666666666666,
             "#ed7953"
            ],
            [
             0.7777777777777778,
             "#fb9f3a"
            ],
            [
             0.8888888888888888,
             "#fdca26"
            ],
            [
             1,
             "#f0f921"
            ]
           ],
           "sequentialminus": [
            [
             0,
             "#0d0887"
            ],
            [
             0.1111111111111111,
             "#46039f"
            ],
            [
             0.2222222222222222,
             "#7201a8"
            ],
            [
             0.3333333333333333,
             "#9c179e"
            ],
            [
             0.4444444444444444,
             "#bd3786"
            ],
            [
             0.5555555555555556,
             "#d8576b"
            ],
            [
             0.6666666666666666,
             "#ed7953"
            ],
            [
             0.7777777777777778,
             "#fb9f3a"
            ],
            [
             0.8888888888888888,
             "#fdca26"
            ],
            [
             1,
             "#f0f921"
            ]
           ]
          },
          "colorway": [
           "#636efa",
           "#EF553B",
           "#00cc96",
           "#ab63fa",
           "#FFA15A",
           "#19d3f3",
           "#FF6692",
           "#B6E880",
           "#FF97FF",
           "#FECB52"
          ],
          "font": {
           "color": "#2a3f5f"
          },
          "geo": {
           "bgcolor": "white",
           "lakecolor": "white",
           "landcolor": "#E5ECF6",
           "showlakes": true,
           "showland": true,
           "subunitcolor": "white"
          },
          "hoverlabel": {
           "align": "left"
          },
          "hovermode": "closest",
          "mapbox": {
           "style": "light"
          },
          "paper_bgcolor": "white",
          "plot_bgcolor": "#E5ECF6",
          "polar": {
           "angularaxis": {
            "gridcolor": "white",
            "linecolor": "white",
            "ticks": ""
           },
           "bgcolor": "#E5ECF6",
           "radialaxis": {
            "gridcolor": "white",
            "linecolor": "white",
            "ticks": ""
           }
          },
          "scene": {
           "xaxis": {
            "backgroundcolor": "#E5ECF6",
            "gridcolor": "white",
            "gridwidth": 2,
            "linecolor": "white",
            "showbackground": true,
            "ticks": "",
            "zerolinecolor": "white"
           },
           "yaxis": {
            "backgroundcolor": "#E5ECF6",
            "gridcolor": "white",
            "gridwidth": 2,
            "linecolor": "white",
            "showbackground": true,
            "ticks": "",
            "zerolinecolor": "white"
           },
           "zaxis": {
            "backgroundcolor": "#E5ECF6",
            "gridcolor": "white",
            "gridwidth": 2,
            "linecolor": "white",
            "showbackground": true,
            "ticks": "",
            "zerolinecolor": "white"
           }
          },
          "shapedefaults": {
           "line": {
            "color": "#2a3f5f"
           }
          },
          "ternary": {
           "aaxis": {
            "gridcolor": "white",
            "linecolor": "white",
            "ticks": ""
           },
           "baxis": {
            "gridcolor": "white",
            "linecolor": "white",
            "ticks": ""
           },
           "bgcolor": "#E5ECF6",
           "caxis": {
            "gridcolor": "white",
            "linecolor": "white",
            "ticks": ""
           }
          },
          "title": {
           "x": 0.05
          },
          "xaxis": {
           "automargin": true,
           "gridcolor": "white",
           "linecolor": "white",
           "ticks": "",
           "title": {
            "standoff": 15
           },
           "zerolinecolor": "white",
           "zerolinewidth": 2
          },
          "yaxis": {
           "automargin": true,
           "gridcolor": "white",
           "linecolor": "white",
           "ticks": "",
           "title": {
            "standoff": 15
           },
           "zerolinecolor": "white",
           "zerolinewidth": 2
          }
         }
        },
        "title": {
         "font": {
          "color": "#151516"
         },
         "text": "Course Rating "
        },
        "xaxis": {
         "gridcolor": "#F6F6F6",
         "showgrid": true,
         "tickfont": {
          "color": "#666666"
         },
         "title": {
          "font": {
           "color": "#666666"
          },
          "text": "Rating"
         },
         "zerolinecolor": "#F6F6F6"
        },
        "yaxis": {
         "gridcolor": "#F6F6F6",
         "showgrid": true,
         "tickfont": {
          "color": "#666666"
         },
         "title": {
          "font": {
           "color": "#666666"
          },
          "text": "Counts"
         },
         "zerolinecolor": "#F6F6F6"
        }
       }
      },
      "text/html": [
       "<div>\n",
       "        \n",
       "        \n",
       "            <div id=\"571f729a-8073-40a7-b0fd-a0f697faa966\" class=\"plotly-graph-div\" style=\"height:525px; width:100%;\"></div>\n",
       "            <script type=\"text/javascript\">\n",
       "                require([\"plotly\"], function(Plotly) {\n",
       "                    window.PLOTLYENV=window.PLOTLYENV || {};\n",
       "                    window.PLOTLYENV.BASE_URL='https://plot.ly';\n",
       "                    \n",
       "                if (document.getElementById(\"571f729a-8073-40a7-b0fd-a0f697faa966\")) {\n",
       "                    Plotly.newPlot(\n",
       "                        '571f729a-8073-40a7-b0fd-a0f697faa966',\n",
       "                        [{\"histfunc\": \"count\", \"histnorm\": \"\", \"marker\": {\"color\": \"rgba(226, 74, 51, 1.0)\", \"line\": {\"color\": \"#D9D9D9\", \"width\": 1.3}}, \"name\": \"course_rating\", \"opacity\": 0.8, \"orientation\": \"v\", \"type\": \"histogram\", \"x\": [4.7, 4.7, 4.5, 4.7, 4.8, 4.7, 4.8, 4.8, 4.7, 4.7, 4.6, 4.7, 4.6, 4.3, 4.7, 4.7, 4.5, 4.7, 4.7, 4.7, 4.6, 4.5, 4.8, 4.7, 4.8, 4.8, 4.5, 4.4, 4.5, 4.5, 4.7, 4.8, 4.7, 4.7, 4.7, 4.7, 4.9, 4.7, 4.8, 4.8, 4.9, 4.8, 4.7, 4.6, 4.6, 4.8, 4.8, 4.8, 4.8, 4.5, 4.8, 4.5, 4.8, 4.6, 4.6, 4.7, 4.5, 4.6, 4.6, 4.2, 4.8, 4.9, 4.5, 4.7, 4.5, 4.9, 4.8, 4.8, 4.6, 4.8, 4.9, 4.7, 4.8, 4.6, 4.8, 4.8, 4.7, 4.7, 4.6, 4.6, 4.8, 4.8, 4.9, 4.7, 4.7, 4.7, 4.8, 4.4, 4.6, 4.5, 4.6, 4.4, 4.8, 4.8, 4.6, 4.7, 4.6, 4.7, 4.9, 4.9, 4.6, 4.7, 4.9, 4.9, 4.5, 4.5, 4.6, 4.3, 4.5, 4.6, 4.7, 4.7, 4.7, 4.7, 4.7, 4.7, 4.7, 4.7, 4.5, 4.7, 4.8, 4.5, 4.5, 4.7, 4.9, 4.8, 4.7, 4.7, 4.6, 4.4, 4.8, 4.7, 4.7, 4.7, 4.8, 4.7, 4.8, 4.8, 4.6, 4.8, 4.4, 4.5, 4.7, 4.7, 4.7, 4.7, 4.8, 4.9, 4.7, 4.7, 4.6, 4.8, 4.6, 4.3, 4.7, 4.7, 4.8, 4.8, 4.7, 4.5, 4.6, 4.8, 4.9, 4.7, 4.8, 4.8, 4.8, 4.6, 4.6, 4.8, 4.8, 4.8, 4.3, 4.6, 4.7, 4.7, 4.8, 4.8, 4.6, 4.6, 4.7, 4.5, 4.2, 4.6, 4.8, 4.8, 4.4, 4.6, 4.7, 4.8, 4.7, 4.4, 4.6, 4.6, 4.7, 4.4, 4.5, 4.5, 4.6, 4.6, 4.4, 4.7, 4.8, 4.6, 4.5, 4.5, 4.7, 4.6, 4.7, 4.8, 4.6, 4.8, 4.8, 4.7, 4.4, 4.6, 4.6, 4.7, 4.7, 4.6, 4.6, 4.7, 4.8, 4.6, 4.8, 4.8, 4.7, 4.4, 4.5, 4.6, 4.6, 4.4, 4.7, 4.7, 4.5, 4.9, 4.6, 4.9, 4.8, 4.6, 4.8, 4.7, 4.6, 4.7, 4.8, 4.8, 4.7, 4.9, 4.7, 4.9, 4.9, 5.0, 4.7, 4.8, 4.8, 4.6, 4.7, 4.8, 4.7, 4.6, 4.8, 4.8, 4.8, 4.6, 4.8, 4.4, 4.5, 4.8, 4.8, 4.8, 4.7, 4.8, 4.6, 4.8, 4.7, 4.7, 4.7, 4.6, 4.8, 4.8, 4.5, 4.7, 4.7, 4.7, 4.8, 4.6, 4.8, 4.7, 4.8, 4.8, 4.9, 4.9, 4.7, 4.9, 4.9, 4.8, 4.6, 4.8, 4.8, 4.5, 4.8, 4.8, 4.8, 4.8, 4.6, 4.7, 4.5, 4.8, 4.4, 4.8, 4.5, 4.6, 4.7, 4.8, 4.5, 4.8, 4.7, 4.8, 4.6, 4.8, 4.7, 4.6, 4.9, 4.8, 4.7, 4.9, 4.8, 4.8, 4.8, 4.7, 4.8, 4.2, 4.8, 4.8, 4.6, 4.8, 4.7, 4.8, 4.7, 4.7, 4.8, 4.7, 4.6, 4.6, 4.8, 4.7, 4.8, 4.8, 4.7, 4.7, 4.6, 4.7, 4.6, 4.8, 4.5, 4.6, 4.6, 4.7, 4.8, 4.6, 4.6, 4.8, 4.7, 4.8, 4.7, 4.6, 4.8, 4.7, 4.4, 4.8, 4.3, 4.8, 4.7, 4.7, 4.5, 4.5, 4.6, 4.5, 4.6, 4.9, 4.6, 4.7, 4.5, 4.6, 4.6, 4.6, 4.8, 4.8, 4.6, 4.6, 4.7, 4.7, 4.8, 4.7, 4.7, 4.8, 4.6, 4.8, 4.7, 4.8, 4.7, 4.8, 4.2, 4.6, 4.5, 4.5, 4.7, 4.4, 4.6, 4.8, 4.7, 4.6, 4.8, 3.3, 4.1, 4.7, 4.6, 4.4, 4.6, 4.8, 4.6, 4.5, 4.8, 4.9, 4.7, 4.6, 4.7, 4.9, 4.4, 4.9, 4.8, 4.5, 5.0, 4.4, 4.8, 4.6, 4.6, 4.7, 4.7, 4.6, 4.8, 4.8, 4.5, 4.7, 4.8, 4.2, 4.6, 4.8, 4.8, 4.5, 4.6, 4.5, 4.4, 4.8, 4.8, 4.8, 4.8, 4.6, 4.8, 4.5, 4.9, 4.6, 4.7, 4.8, 4.6, 4.7, 4.4, 4.8, 4.8, 4.7, 4.6, 4.7, 4.9, 4.7, 4.8, 4.8, 4.8, 4.9, 4.6, 4.3, 4.3, 4.6, 4.7, 4.7, 4.5, 4.7, 4.6, 4.5, 4.8, 4.4, 4.7, 4.5, 4.7, 4.8, 4.7, 4.9, 4.8, 4.8, 4.6, 4.7, 4.5, 4.8, 4.8, 4.8, 4.8, 4.5, 4.4, 4.6, 4.8, 4.7, 4.7, 4.8, 4.9, 4.7, 4.8, 4.2, 4.7, 4.8, 4.8, 4.7, 4.7, 4.8, 4.0, 4.8, 4.5, 4.8, 4.7, 4.8, 4.7, 4.9, 4.9, 4.7, 4.6, 4.5, 4.6, 4.6, 4.6, 4.5, 4.7, 4.7, 4.6, 4.7, 4.7, 4.8, 4.7, 4.7, 4.8, 4.8, 4.3, 4.5, 4.8, 4.7, 4.8, 4.6, 4.6, 4.8, 4.9, 4.7, 4.5, 4.7, 4.8, 4.6, 4.7, 4.6, 4.9, 4.6, 3.7, 4.6, 4.6, 3.9, 4.7, 4.5, 4.6, 4.7, 4.7, 4.9, 4.7, 4.7, 4.7, 4.5, 4.6, 4.5, 4.8, 4.7, 4.7, 4.6, 4.4, 4.8, 4.4, 4.7, 4.2, 4.6, 4.3, 4.7, 4.5, 4.6, 4.7, 4.7, 4.0, 4.8, 4.9, 4.3, 4.6, 4.9, 4.7, 4.8, 4.7, 4.8, 4.6, 4.7, 4.8, 4.7, 4.7, 4.8, 4.9, 4.9, 4.8, 4.8, 4.9, 4.8, 4.8, 4.6, 4.8, 4.7, 4.8, 4.7, 4.9, 4.7, 4.7, 4.8, 4.8, 4.8, 4.7, 4.6, 4.7, 4.7, 4.8, 4.4, 4.6, 4.7, 4.2, 4.7, 4.7, 4.8, 4.6, 4.5, 4.5, 4.8, 4.6, 4.5, 4.7, 4.9, 4.7, 4.7, 4.7, 4.8, 4.7, 4.8, 4.8, 4.6, 4.8, 4.7, 4.6, 4.7, 4.8, 4.6, 4.8, 4.8, 4.8, 4.7, 4.6, 4.8, 4.6, 4.7, 4.8, 4.6, 4.2, 4.7, 4.6, 4.7, 4.8, 4.6, 4.8, 4.7, 4.9, 4.8, 4.4, 4.6, 4.8, 4.7, 4.9, 4.6, 4.8, 4.3, 4.7, 4.7, 4.7, 4.7, 4.6, 4.6, 4.8, 4.5, 4.9, 4.9, 4.4, 4.9, 4.7, 4.7, 4.5, 4.8, 4.6, 4.6, 4.4, 4.7, 4.8, 4.5, 4.8, 4.8, 4.7, 4.4, 4.7, 4.7, 4.7, 4.8, 4.8, 4.7, 4.5, 4.7, 4.7, 4.8, 4.6, 4.6, 4.6, 4.6, 4.8, 4.7, 4.8, 4.6, 4.6, 4.7, 4.6, 4.8, 4.8, 4.9, 4.8, 4.6, 4.6, 4.7, 4.8, 4.7, 4.7, 4.7, 4.6, 4.7, 4.9, 4.3, 4.7, 4.7, 4.7, 4.7, 4.5, 4.8, 4.6, 4.8, 4.8, 4.8, 4.8, 4.7, 4.6, 4.7, 4.7, 4.8, 4.6, 4.8, 4.3, 4.6, 4.5, 4.7, 4.4, 4.9, 4.9, 4.9, 4.9, 4.4, 4.8, 4.8, 4.8, 4.7, 4.5, 4.8, 4.6, 4.8, 4.7, 4.5, 4.7, 4.6, 4.8, 4.7, 4.8, 4.8, 4.6, 4.8, 4.8, 4.9, 4.6, 4.8, 4.8, 4.9, 4.6, 4.7, 4.6, 4.6, 4.7, 4.8, 4.9, 4.9, 4.8, 4.6, 4.5, 4.8, 4.7, 4.8, 4.7, 4.7, 4.6, 4.6, 4.3, 4.8, 4.7, 4.9, 4.8, 4.6, 4.7, 4.8, 4.8, 4.8, 4.9, 4.8, 4.4, 4.8, 4.5, 4.7, 4.9, 4.5, 4.2, 4.8, 4.9, 4.8, 4.6, 4.8, 4.8, 4.7, 4.7, 4.8, 4.7, 4.7, 4.3, 4.8, 4.8, 4.7, 4.7, 4.7, 4.7, 4.8, 4.7, 4.6, 4.7, 4.8, 4.9, 4.7, 4.4, 4.9, 4.5, 3.9, 4.7, 4.8, 4.5, 4.6, 4.9, 4.5, 4.8, 4.7, 4.5, 4.6, 4.9, 4.7, 4.5, 4.8, 4.5, 4.6, 4.7]}],\n",
       "                        {\"bargap\": 0.2, \"barmode\": \"overlay\", \"legend\": {\"bgcolor\": \"#FFFFFF\", \"font\": {\"color\": \"#666666\"}}, \"paper_bgcolor\": \"#FFFFFF\", \"plot_bgcolor\": \"#E5E5E5\", \"template\": {\"data\": {\"bar\": [{\"error_x\": {\"color\": \"#2a3f5f\"}, \"error_y\": {\"color\": \"#2a3f5f\"}, \"marker\": {\"line\": {\"color\": \"#E5ECF6\", \"width\": 0.5}}, \"type\": \"bar\"}], \"barpolar\": [{\"marker\": {\"line\": {\"color\": \"#E5ECF6\", \"width\": 0.5}}, \"type\": \"barpolar\"}], \"carpet\": [{\"aaxis\": {\"endlinecolor\": \"#2a3f5f\", \"gridcolor\": \"white\", \"linecolor\": \"white\", \"minorgridcolor\": \"white\", \"startlinecolor\": \"#2a3f5f\"}, \"baxis\": {\"endlinecolor\": \"#2a3f5f\", \"gridcolor\": \"white\", \"linecolor\": \"white\", \"minorgridcolor\": \"white\", \"startlinecolor\": \"#2a3f5f\"}, \"type\": \"carpet\"}], \"choropleth\": [{\"colorbar\": {\"outlinewidth\": 0, \"ticks\": \"\"}, \"type\": \"choropleth\"}], \"contour\": [{\"colorbar\": {\"outlinewidth\": 0, \"ticks\": \"\"}, \"colorscale\": [[0.0, \"#0d0887\"], [0.1111111111111111, \"#46039f\"], [0.2222222222222222, \"#7201a8\"], [0.3333333333333333, \"#9c179e\"], [0.4444444444444444, \"#bd3786\"], [0.5555555555555556, \"#d8576b\"], [0.6666666666666666, \"#ed7953\"], [0.7777777777777778, \"#fb9f3a\"], [0.8888888888888888, \"#fdca26\"], [1.0, \"#f0f921\"]], \"type\": \"contour\"}], \"contourcarpet\": [{\"colorbar\": {\"outlinewidth\": 0, \"ticks\": \"\"}, \"type\": \"contourcarpet\"}], \"heatmap\": [{\"colorbar\": {\"outlinewidth\": 0, \"ticks\": \"\"}, \"colorscale\": [[0.0, \"#0d0887\"], [0.1111111111111111, \"#46039f\"], [0.2222222222222222, \"#7201a8\"], [0.3333333333333333, \"#9c179e\"], [0.4444444444444444, \"#bd3786\"], [0.5555555555555556, \"#d8576b\"], [0.6666666666666666, \"#ed7953\"], [0.7777777777777778, \"#fb9f3a\"], [0.8888888888888888, \"#fdca26\"], [1.0, \"#f0f921\"]], \"type\": \"heatmap\"}], \"heatmapgl\": [{\"colorbar\": {\"outlinewidth\": 0, \"ticks\": \"\"}, \"colorscale\": [[0.0, \"#0d0887\"], [0.1111111111111111, \"#46039f\"], [0.2222222222222222, \"#7201a8\"], [0.3333333333333333, \"#9c179e\"], [0.4444444444444444, \"#bd3786\"], [0.5555555555555556, \"#d8576b\"], [0.6666666666666666, \"#ed7953\"], [0.7777777777777778, \"#fb9f3a\"], [0.8888888888888888, \"#fdca26\"], [1.0, \"#f0f921\"]], \"type\": \"heatmapgl\"}], \"histogram\": [{\"marker\": {\"colorbar\": {\"outlinewidth\": 0, \"ticks\": \"\"}}, \"type\": \"histogram\"}], \"histogram2d\": [{\"colorbar\": {\"outlinewidth\": 0, \"ticks\": \"\"}, \"colorscale\": [[0.0, \"#0d0887\"], [0.1111111111111111, \"#46039f\"], [0.2222222222222222, \"#7201a8\"], [0.3333333333333333, \"#9c179e\"], [0.4444444444444444, \"#bd3786\"], [0.5555555555555556, \"#d8576b\"], [0.6666666666666666, \"#ed7953\"], [0.7777777777777778, \"#fb9f3a\"], [0.8888888888888888, \"#fdca26\"], [1.0, \"#f0f921\"]], \"type\": \"histogram2d\"}], \"histogram2dcontour\": [{\"colorbar\": {\"outlinewidth\": 0, \"ticks\": \"\"}, \"colorscale\": [[0.0, \"#0d0887\"], [0.1111111111111111, \"#46039f\"], [0.2222222222222222, \"#7201a8\"], [0.3333333333333333, \"#9c179e\"], [0.4444444444444444, \"#bd3786\"], [0.5555555555555556, \"#d8576b\"], [0.6666666666666666, \"#ed7953\"], [0.7777777777777778, \"#fb9f3a\"], [0.8888888888888888, \"#fdca26\"], [1.0, \"#f0f921\"]], \"type\": \"histogram2dcontour\"}], \"mesh3d\": [{\"colorbar\": {\"outlinewidth\": 0, \"ticks\": \"\"}, \"type\": \"mesh3d\"}], \"parcoords\": [{\"line\": {\"colorbar\": {\"outlinewidth\": 0, \"ticks\": \"\"}}, \"type\": \"parcoords\"}], \"pie\": [{\"automargin\": true, \"type\": \"pie\"}], \"scatter\": [{\"marker\": {\"colorbar\": {\"outlinewidth\": 0, \"ticks\": \"\"}}, \"type\": \"scatter\"}], \"scatter3d\": [{\"line\": {\"colorbar\": {\"outlinewidth\": 0, \"ticks\": \"\"}}, \"marker\": {\"colorbar\": {\"outlinewidth\": 0, \"ticks\": \"\"}}, \"type\": \"scatter3d\"}], \"scattercarpet\": [{\"marker\": {\"colorbar\": {\"outlinewidth\": 0, \"ticks\": \"\"}}, \"type\": \"scattercarpet\"}], \"scattergeo\": [{\"marker\": {\"colorbar\": {\"outlinewidth\": 0, \"ticks\": \"\"}}, \"type\": \"scattergeo\"}], \"scattergl\": [{\"marker\": {\"colorbar\": {\"outlinewidth\": 0, \"ticks\": \"\"}}, \"type\": \"scattergl\"}], \"scattermapbox\": [{\"marker\": {\"colorbar\": {\"outlinewidth\": 0, \"ticks\": \"\"}}, \"type\": \"scattermapbox\"}], \"scatterpolar\": [{\"marker\": {\"colorbar\": {\"outlinewidth\": 0, \"ticks\": \"\"}}, \"type\": \"scatterpolar\"}], \"scatterpolargl\": [{\"marker\": {\"colorbar\": {\"outlinewidth\": 0, \"ticks\": \"\"}}, \"type\": \"scatterpolargl\"}], \"scatterternary\": [{\"marker\": {\"colorbar\": {\"outlinewidth\": 0, \"ticks\": \"\"}}, \"type\": \"scatterternary\"}], \"surface\": [{\"colorbar\": {\"outlinewidth\": 0, \"ticks\": \"\"}, \"colorscale\": [[0.0, \"#0d0887\"], [0.1111111111111111, \"#46039f\"], [0.2222222222222222, \"#7201a8\"], [0.3333333333333333, \"#9c179e\"], [0.4444444444444444, \"#bd3786\"], [0.5555555555555556, \"#d8576b\"], [0.6666666666666666, \"#ed7953\"], [0.7777777777777778, \"#fb9f3a\"], [0.8888888888888888, \"#fdca26\"], [1.0, \"#f0f921\"]], \"type\": \"surface\"}], \"table\": [{\"cells\": {\"fill\": {\"color\": \"#EBF0F8\"}, \"line\": {\"color\": \"white\"}}, \"header\": {\"fill\": {\"color\": \"#C8D4E3\"}, \"line\": {\"color\": \"white\"}}, \"type\": \"table\"}]}, \"layout\": {\"annotationdefaults\": {\"arrowcolor\": \"#2a3f5f\", \"arrowhead\": 0, \"arrowwidth\": 1}, \"coloraxis\": {\"colorbar\": {\"outlinewidth\": 0, \"ticks\": \"\"}}, \"colorscale\": {\"diverging\": [[0, \"#8e0152\"], [0.1, \"#c51b7d\"], [0.2, \"#de77ae\"], [0.3, \"#f1b6da\"], [0.4, \"#fde0ef\"], [0.5, \"#f7f7f7\"], [0.6, \"#e6f5d0\"], [0.7, \"#b8e186\"], [0.8, \"#7fbc41\"], [0.9, \"#4d9221\"], [1, \"#276419\"]], \"sequential\": [[0.0, \"#0d0887\"], [0.1111111111111111, \"#46039f\"], [0.2222222222222222, \"#7201a8\"], [0.3333333333333333, \"#9c179e\"], [0.4444444444444444, \"#bd3786\"], [0.5555555555555556, \"#d8576b\"], [0.6666666666666666, \"#ed7953\"], [0.7777777777777778, \"#fb9f3a\"], [0.8888888888888888, \"#fdca26\"], [1.0, \"#f0f921\"]], \"sequentialminus\": [[0.0, \"#0d0887\"], [0.1111111111111111, \"#46039f\"], [0.2222222222222222, \"#7201a8\"], [0.3333333333333333, \"#9c179e\"], [0.4444444444444444, \"#bd3786\"], [0.5555555555555556, \"#d8576b\"], [0.6666666666666666, \"#ed7953\"], [0.7777777777777778, \"#fb9f3a\"], [0.8888888888888888, \"#fdca26\"], [1.0, \"#f0f921\"]]}, \"colorway\": [\"#636efa\", \"#EF553B\", \"#00cc96\", \"#ab63fa\", \"#FFA15A\", \"#19d3f3\", \"#FF6692\", \"#B6E880\", \"#FF97FF\", \"#FECB52\"], \"font\": {\"color\": \"#2a3f5f\"}, \"geo\": {\"bgcolor\": \"white\", \"lakecolor\": \"white\", \"landcolor\": \"#E5ECF6\", \"showlakes\": true, \"showland\": true, \"subunitcolor\": \"white\"}, \"hoverlabel\": {\"align\": \"left\"}, \"hovermode\": \"closest\", \"mapbox\": {\"style\": \"light\"}, \"paper_bgcolor\": \"white\", \"plot_bgcolor\": \"#E5ECF6\", \"polar\": {\"angularaxis\": {\"gridcolor\": \"white\", \"linecolor\": \"white\", \"ticks\": \"\"}, \"bgcolor\": \"#E5ECF6\", \"radialaxis\": {\"gridcolor\": \"white\", \"linecolor\": \"white\", \"ticks\": \"\"}}, \"scene\": {\"xaxis\": {\"backgroundcolor\": \"#E5ECF6\", \"gridcolor\": \"white\", \"gridwidth\": 2, \"linecolor\": \"white\", \"showbackground\": true, \"ticks\": \"\", \"zerolinecolor\": \"white\"}, \"yaxis\": {\"backgroundcolor\": \"#E5ECF6\", \"gridcolor\": \"white\", \"gridwidth\": 2, \"linecolor\": \"white\", \"showbackground\": true, \"ticks\": \"\", \"zerolinecolor\": \"white\"}, \"zaxis\": {\"backgroundcolor\": \"#E5ECF6\", \"gridcolor\": \"white\", \"gridwidth\": 2, \"linecolor\": \"white\", \"showbackground\": true, \"ticks\": \"\", \"zerolinecolor\": \"white\"}}, \"shapedefaults\": {\"line\": {\"color\": \"#2a3f5f\"}}, \"ternary\": {\"aaxis\": {\"gridcolor\": \"white\", \"linecolor\": \"white\", \"ticks\": \"\"}, \"baxis\": {\"gridcolor\": \"white\", \"linecolor\": \"white\", \"ticks\": \"\"}, \"bgcolor\": \"#E5ECF6\", \"caxis\": {\"gridcolor\": \"white\", \"linecolor\": \"white\", \"ticks\": \"\"}}, \"title\": {\"x\": 0.05}, \"xaxis\": {\"automargin\": true, \"gridcolor\": \"white\", \"linecolor\": \"white\", \"ticks\": \"\", \"title\": {\"standoff\": 15}, \"zerolinecolor\": \"white\", \"zerolinewidth\": 2}, \"yaxis\": {\"automargin\": true, \"gridcolor\": \"white\", \"linecolor\": \"white\", \"ticks\": \"\", \"title\": {\"standoff\": 15}, \"zerolinecolor\": \"white\", \"zerolinewidth\": 2}}}, \"title\": {\"font\": {\"color\": \"#151516\"}, \"text\": \"Course Rating \"}, \"xaxis\": {\"gridcolor\": \"#F6F6F6\", \"showgrid\": true, \"tickfont\": {\"color\": \"#666666\"}, \"title\": {\"font\": {\"color\": \"#666666\"}, \"text\": \"Rating\"}, \"zerolinecolor\": \"#F6F6F6\"}, \"yaxis\": {\"gridcolor\": \"#F6F6F6\", \"showgrid\": true, \"tickfont\": {\"color\": \"#666666\"}, \"title\": {\"font\": {\"color\": \"#666666\"}, \"text\": \"Counts\"}, \"zerolinecolor\": \"#F6F6F6\"}},\n",
       "                        {\"showLink\": true, \"linkText\": \"Export to plot.ly\", \"plotlyServerURL\": \"https://plot.ly\", \"responsive\": true}\n",
       "                    ).then(function(){\n",
       "                            \n",
       "var gd = document.getElementById('571f729a-8073-40a7-b0fd-a0f697faa966');\n",
       "var x = new MutationObserver(function (mutations, observer) {{\n",
       "        var display = window.getComputedStyle(gd).display;\n",
       "        if (!display || display === 'none') {{\n",
       "            console.log([gd, 'removed!']);\n",
       "            Plotly.purge(gd);\n",
       "            observer.disconnect();\n",
       "        }}\n",
       "}});\n",
       "\n",
       "// Listen for the removal of the full notebook cells\n",
       "var notebookContainer = gd.closest('#notebook-container');\n",
       "if (notebookContainer) {{\n",
       "    x.observe(notebookContainer, {childList: true});\n",
       "}}\n",
       "\n",
       "// Listen for the clearing of the current output cell\n",
       "var outputEl = gd.closest('.output');\n",
       "if (outputEl) {{\n",
       "    x.observe(outputEl, {childList: true});\n",
       "}}\n",
       "\n",
       "                        })\n",
       "                };\n",
       "                });\n",
       "            </script>\n",
       "        </div>"
      ]
     },
     "metadata": {},
     "output_type": "display_data"
    }
   ],
   "source": [
    "cf.set_config_file(theme='ggplot')\n",
    "\n",
    "ds['course_rating'].iplot(kind='hist',title='Course Rating ',bargap=0.2,\n",
    "                                   xTitle='Rating', yTitle='Counts')"
   ]
  },
  {
   "cell_type": "code",
   "execution_count": 90,
   "metadata": {},
   "outputs": [
    {
     "data": {
      "application/vnd.plotly.v1+json": {
       "config": {
        "linkText": "Export to plot.ly",
        "plotlyServerURL": "https://plot.ly",
        "showLink": true
       },
       "data": [
        {
         "histfunc": "count",
         "histnorm": "",
         "marker": {
          "color": "rgba(255, 153, 51, 1.0)",
          "line": {
           "color": "#4D5663",
           "width": 1.3
          }
         },
         "name": "course_difficulty",
         "opacity": 0.8,
         "orientation": "v",
         "type": "histogram",
         "x": [
          "Beginner",
          "Intermediate",
          "Mixed",
          "Mixed",
          "Mixed",
          "Beginner",
          "Beginner",
          "Intermediate",
          "Beginner",
          "Intermediate",
          "Intermediate",
          "Intermediate",
          "Beginner",
          "Beginner",
          "Beginner",
          "Beginner",
          "Intermediate",
          "Mixed",
          "Beginner",
          "Intermediate",
          "Beginner",
          "Mixed",
          "Intermediate",
          "Beginner",
          "Mixed",
          "Beginner",
          "Intermediate",
          "Advanced",
          "Advanced",
          "Advanced",
          "Advanced",
          "Mixed",
          "Beginner",
          "Beginner",
          "Beginner",
          "Beginner",
          "Beginner",
          "Intermediate",
          "Intermediate",
          "Intermediate",
          "Beginner",
          "Beginner",
          "Beginner",
          "Beginner",
          "Beginner",
          "Beginner",
          "Intermediate",
          "Beginner",
          "Mixed",
          "Beginner",
          "Mixed",
          "Advanced",
          "Beginner",
          "Intermediate",
          "Beginner",
          "Intermediate",
          "Intermediate",
          "Intermediate",
          "Intermediate",
          "Beginner",
          "Mixed",
          "Beginner",
          "Intermediate",
          "Intermediate",
          "Beginner",
          "Beginner",
          "Mixed",
          "Mixed",
          "Mixed",
          "Mixed",
          "Beginner",
          "Mixed",
          "Intermediate",
          "Mixed",
          "Intermediate",
          "Intermediate",
          "Advanced",
          "Advanced",
          "Beginner",
          "Beginner",
          "Intermediate",
          "Intermediate",
          "Mixed",
          "Beginner",
          "Intermediate",
          "Beginner",
          "Beginner",
          "Mixed",
          "Mixed",
          "Beginner",
          "Beginner",
          "Beginner",
          "Beginner",
          "Intermediate",
          "Intermediate",
          "Beginner",
          "Beginner",
          "Beginner",
          "Beginner",
          "Beginner",
          "Beginner",
          "Mixed",
          "Beginner",
          "Mixed",
          "Intermediate",
          "Beginner",
          "Intermediate",
          "Intermediate",
          "Mixed",
          "Beginner",
          "Intermediate",
          "Intermediate",
          "Intermediate",
          "Beginner",
          "Mixed",
          "Beginner",
          "Beginner",
          "Beginner",
          "Beginner",
          "Beginner",
          "Beginner",
          "Beginner",
          "Beginner",
          "Beginner",
          "Beginner",
          "Beginner",
          "Mixed",
          "Beginner",
          "Mixed",
          "Beginner",
          "Beginner",
          "Beginner",
          "Mixed",
          "Beginner",
          "Beginner",
          "Beginner",
          "Mixed",
          "Beginner",
          "Beginner",
          "Beginner",
          "Intermediate",
          "Beginner",
          "Intermediate",
          "Intermediate",
          "Beginner",
          "Beginner",
          "Beginner",
          "Beginner",
          "Beginner",
          "Intermediate",
          "Beginner",
          "Beginner",
          "Beginner",
          "Beginner",
          "Beginner",
          "Beginner",
          "Beginner",
          "Beginner",
          "Beginner",
          "Beginner",
          "Beginner",
          "Mixed",
          "Intermediate",
          "Intermediate",
          "Intermediate",
          "Mixed",
          "Beginner",
          "Mixed",
          "Beginner",
          "Beginner",
          "Intermediate",
          "Beginner",
          "Mixed",
          "Beginner",
          "Mixed",
          "Beginner",
          "Intermediate",
          "Intermediate",
          "Beginner",
          "Beginner",
          "Beginner",
          "Intermediate",
          "Beginner",
          "Beginner",
          "Beginner",
          "Mixed",
          "Beginner",
          "Beginner",
          "Beginner",
          "Beginner",
          "Intermediate",
          "Intermediate",
          "Intermediate",
          "Intermediate",
          "Beginner",
          "Intermediate",
          "Beginner",
          "Beginner",
          "Beginner",
          "Beginner",
          "Intermediate",
          "Mixed",
          "Beginner",
          "Intermediate",
          "Beginner",
          "Advanced",
          "Beginner",
          "Beginner",
          "Beginner",
          "Beginner",
          "Mixed",
          "Intermediate",
          "Beginner",
          "Beginner",
          "Beginner",
          "Beginner",
          "Beginner",
          "Mixed",
          "Mixed",
          "Intermediate",
          "Intermediate",
          "Intermediate",
          "Intermediate",
          "Intermediate",
          "Mixed",
          "Beginner",
          "Mixed",
          "Beginner",
          "Beginner",
          "Beginner",
          "Beginner",
          "Mixed",
          "Beginner",
          "Beginner",
          "Beginner",
          "Intermediate",
          "Beginner",
          "Beginner",
          "Intermediate",
          "Mixed",
          "Beginner",
          "Beginner",
          "Beginner",
          "Beginner",
          "Beginner",
          "Intermediate",
          "Mixed",
          "Mixed",
          "Intermediate",
          "Mixed",
          "Beginner",
          "Beginner",
          "Intermediate",
          "Beginner",
          "Intermediate",
          "Beginner",
          "Beginner",
          "Beginner",
          "Beginner",
          "Beginner",
          "Beginner",
          "Mixed",
          "Mixed",
          "Intermediate",
          "Beginner",
          "Beginner",
          "Intermediate",
          "Beginner",
          "Mixed",
          "Mixed",
          "Beginner",
          "Beginner",
          "Beginner",
          "Mixed",
          "Mixed",
          "Beginner",
          "Beginner",
          "Mixed",
          "Mixed",
          "Beginner",
          "Beginner",
          "Beginner",
          "Intermediate",
          "Intermediate",
          "Intermediate",
          "Intermediate",
          "Mixed",
          "Beginner",
          "Beginner",
          "Beginner",
          "Beginner",
          "Beginner",
          "Intermediate",
          "Beginner",
          "Intermediate",
          "Intermediate",
          "Beginner",
          "Beginner",
          "Beginner",
          "Beginner",
          "Beginner",
          "Beginner",
          "Beginner",
          "Beginner",
          "Beginner",
          "Beginner",
          "Beginner",
          "Beginner",
          "Intermediate",
          "Beginner",
          "Beginner",
          "Mixed",
          "Intermediate",
          "Beginner",
          "Beginner",
          "Intermediate",
          "Beginner",
          "Mixed",
          "Intermediate",
          "Mixed",
          "Beginner",
          "Beginner",
          "Beginner",
          "Mixed",
          "Mixed",
          "Intermediate",
          "Beginner",
          "Beginner",
          "Mixed",
          "Beginner",
          "Beginner",
          "Intermediate",
          "Beginner",
          "Beginner",
          "Beginner",
          "Beginner",
          "Intermediate",
          "Intermediate",
          "Intermediate",
          "Intermediate",
          "Intermediate",
          "Intermediate",
          "Beginner",
          "Beginner",
          "Beginner",
          "Mixed",
          "Beginner",
          "Beginner",
          "Intermediate",
          "Intermediate",
          "Beginner",
          "Beginner",
          "Mixed",
          "Intermediate",
          "Beginner",
          "Beginner",
          "Beginner",
          "Beginner",
          "Beginner",
          "Beginner",
          "Beginner",
          "Beginner",
          "Beginner",
          "Beginner",
          "Intermediate",
          "Beginner",
          "Mixed",
          "Beginner",
          "Intermediate",
          "Beginner",
          "Mixed",
          "Mixed",
          "Mixed",
          "Beginner",
          "Beginner",
          "Intermediate",
          "Intermediate",
          "Intermediate",
          "Beginner",
          "Beginner",
          "Mixed",
          "Beginner",
          "Beginner",
          "Intermediate",
          "Mixed",
          "Intermediate",
          "Mixed",
          "Intermediate",
          "Beginner",
          "Intermediate",
          "Intermediate",
          "Beginner",
          "Beginner",
          "Mixed",
          "Beginner",
          "Mixed",
          "Beginner",
          "Mixed",
          "Mixed",
          "Mixed",
          "Beginner",
          "Mixed",
          "Intermediate",
          "Mixed",
          "Beginner",
          "Intermediate",
          "Intermediate",
          "Beginner",
          "Beginner",
          "Mixed",
          "Beginner",
          "Beginner",
          "Intermediate",
          "Mixed",
          "Beginner",
          "Beginner",
          "Intermediate",
          "Advanced",
          "Beginner",
          "Beginner",
          "Beginner",
          "Beginner",
          "Beginner",
          "Beginner",
          "Beginner",
          "Beginner",
          "Beginner",
          "Beginner",
          "Beginner",
          "Beginner",
          "Mixed",
          "Beginner",
          "Intermediate",
          "Intermediate",
          "Beginner",
          "Beginner",
          "Beginner",
          "Beginner",
          "Mixed",
          "Beginner",
          "Beginner",
          "Beginner",
          "Beginner",
          "Intermediate",
          "Mixed",
          "Mixed",
          "Intermediate",
          "Beginner",
          "Intermediate",
          "Intermediate",
          "Beginner",
          "Intermediate",
          "Mixed",
          "Beginner",
          "Mixed",
          "Mixed",
          "Mixed",
          "Beginner",
          "Beginner",
          "Beginner",
          "Beginner",
          "Beginner",
          "Beginner",
          "Mixed",
          "Intermediate",
          "Beginner",
          "Beginner",
          "Mixed",
          "Mixed",
          "Beginner",
          "Mixed",
          "Beginner",
          "Mixed",
          "Intermediate",
          "Mixed",
          "Intermediate",
          "Beginner",
          "Mixed",
          "Beginner",
          "Beginner",
          "Beginner",
          "Mixed",
          "Beginner",
          "Beginner",
          "Beginner",
          "Mixed",
          "Beginner",
          "Intermediate",
          "Beginner",
          "Beginner",
          "Mixed",
          "Intermediate",
          "Mixed",
          "Mixed",
          "Mixed",
          "Mixed",
          "Mixed",
          "Mixed",
          "Mixed",
          "Mixed",
          "Beginner",
          "Beginner",
          "Mixed",
          "Mixed",
          "Intermediate",
          "Mixed",
          "Beginner",
          "Mixed",
          "Mixed",
          "Beginner",
          "Beginner",
          "Beginner",
          "Beginner",
          "Beginner",
          "Advanced",
          "Mixed",
          "Beginner",
          "Mixed",
          "Mixed",
          "Mixed",
          "Intermediate",
          "Beginner",
          "Intermediate",
          "Beginner",
          "Beginner",
          "Beginner",
          "Beginner",
          "Beginner",
          "Mixed",
          "Beginner",
          "Beginner",
          "Beginner",
          "Beginner",
          "Beginner",
          "Beginner",
          "Beginner",
          "Beginner",
          "Beginner",
          "Intermediate",
          "Beginner",
          "Beginner",
          "Beginner",
          "Mixed",
          "Beginner",
          "Beginner",
          "Intermediate",
          "Intermediate",
          "Beginner",
          "Beginner",
          "Intermediate",
          "Advanced",
          "Intermediate",
          "Beginner",
          "Beginner",
          "Beginner",
          "Beginner",
          "Beginner",
          "Beginner",
          "Intermediate",
          "Beginner",
          "Intermediate",
          "Mixed",
          "Beginner",
          "Intermediate",
          "Mixed",
          "Mixed",
          "Intermediate",
          "Beginner",
          "Intermediate",
          "Intermediate",
          "Intermediate",
          "Intermediate",
          "Beginner",
          "Beginner",
          "Mixed",
          "Beginner",
          "Beginner",
          "Beginner",
          "Mixed",
          "Beginner",
          "Beginner",
          "Beginner",
          "Beginner",
          "Beginner",
          "Intermediate",
          "Beginner",
          "Beginner",
          "Mixed",
          "Intermediate",
          "Beginner",
          "Mixed",
          "Beginner",
          "Beginner",
          "Mixed",
          "Beginner",
          "Beginner",
          "Beginner",
          "Beginner",
          "Intermediate",
          "Beginner",
          "Advanced",
          "Beginner",
          "Beginner",
          "Beginner",
          "Mixed",
          "Beginner",
          "Beginner",
          "Mixed",
          "Mixed",
          "Beginner",
          "Beginner",
          "Intermediate",
          "Intermediate",
          "Mixed",
          "Mixed",
          "Mixed",
          "Intermediate",
          "Beginner",
          "Mixed",
          "Beginner",
          "Mixed",
          "Intermediate",
          "Mixed",
          "Beginner",
          "Intermediate",
          "Intermediate",
          "Intermediate",
          "Mixed",
          "Beginner",
          "Beginner",
          "Beginner",
          "Intermediate",
          "Intermediate",
          "Beginner",
          "Intermediate",
          "Intermediate",
          "Mixed",
          "Beginner",
          "Beginner",
          "Mixed",
          "Advanced",
          "Intermediate",
          "Beginner",
          "Beginner",
          "Beginner",
          "Intermediate",
          "Mixed",
          "Beginner",
          "Beginner",
          "Mixed",
          "Intermediate",
          "Beginner",
          "Beginner",
          "Beginner",
          "Beginner",
          "Mixed",
          "Mixed",
          "Beginner",
          "Beginner",
          "Beginner",
          "Intermediate",
          "Beginner",
          "Intermediate",
          "Beginner",
          "Mixed",
          "Beginner",
          "Beginner",
          "Mixed",
          "Mixed",
          "Advanced",
          "Beginner",
          "Intermediate",
          "Beginner",
          "Beginner",
          "Mixed",
          "Intermediate",
          "Beginner",
          "Beginner",
          "Beginner",
          "Beginner",
          "Mixed",
          "Beginner",
          "Beginner",
          "Intermediate",
          "Mixed",
          "Beginner",
          "Intermediate",
          "Beginner",
          "Beginner",
          "Mixed",
          "Beginner",
          "Intermediate",
          "Beginner",
          "Intermediate",
          "Mixed",
          "Intermediate",
          "Beginner",
          "Beginner",
          "Beginner",
          "Mixed",
          "Mixed",
          "Beginner",
          "Mixed",
          "Intermediate",
          "Beginner",
          "Beginner",
          "Beginner",
          "Beginner",
          "Mixed",
          "Beginner",
          "Beginner",
          "Beginner",
          "Beginner",
          "Beginner",
          "Intermediate",
          "Mixed",
          "Beginner",
          "Beginner",
          "Mixed",
          "Intermediate",
          "Beginner",
          "Intermediate",
          "Advanced",
          "Intermediate",
          "Beginner",
          "Beginner",
          "Advanced",
          "Intermediate",
          "Intermediate",
          "Beginner",
          "Beginner",
          "Beginner",
          "Beginner",
          "Beginner",
          "Beginner",
          "Beginner",
          "Advanced",
          "Beginner",
          "Intermediate",
          "Mixed",
          "Beginner",
          "Beginner",
          "Beginner",
          "Beginner",
          "Advanced",
          "Beginner",
          "Mixed",
          "Intermediate",
          "Mixed",
          "Beginner",
          "Beginner",
          "Beginner",
          "Beginner",
          "Beginner",
          "Intermediate",
          "Advanced",
          "Beginner",
          "Beginner",
          "Mixed",
          "Beginner",
          "Intermediate",
          "Intermediate",
          "Beginner",
          "Beginner",
          "Beginner",
          "Mixed",
          "Beginner",
          "Beginner",
          "Intermediate",
          "Beginner",
          "Beginner",
          "Beginner",
          "Mixed",
          "Mixed",
          "Beginner",
          "Beginner",
          "Beginner",
          "Beginner",
          "Intermediate",
          "Mixed",
          "Beginner",
          "Beginner",
          "Mixed",
          "Intermediate",
          "Mixed",
          "Beginner",
          "Beginner",
          "Intermediate",
          "Intermediate",
          "Beginner",
          "Beginner",
          "Intermediate",
          "Beginner",
          "Beginner",
          "Beginner",
          "Beginner",
          "Beginner",
          "Intermediate",
          "Beginner",
          "Beginner",
          "Mixed",
          "Mixed",
          "Mixed",
          "Mixed",
          "Mixed",
          "Beginner",
          "Beginner",
          "Intermediate",
          "Mixed",
          "Mixed",
          "Beginner",
          "Mixed",
          "Intermediate",
          "Beginner",
          "Beginner",
          "Mixed",
          "Beginner",
          "Mixed",
          "Intermediate",
          "Beginner",
          "Beginner",
          "Beginner",
          "Mixed",
          "Beginner",
          "Beginner",
          "Beginner",
          "Beginner",
          "Mixed",
          "Beginner",
          "Intermediate",
          "Intermediate",
          "Beginner",
          "Beginner",
          "Beginner",
          "Beginner",
          "Mixed",
          "Beginner",
          "Beginner",
          "Intermediate",
          "Beginner",
          "Mixed",
          "Beginner",
          "Beginner",
          "Intermediate",
          "Beginner",
          "Beginner",
          "Intermediate",
          "Beginner",
          "Intermediate",
          "Mixed",
          "Mixed",
          "Beginner",
          "Intermediate",
          "Mixed",
          "Mixed",
          "Beginner",
          "Beginner",
          "Mixed",
          "Intermediate",
          "Beginner",
          "Beginner",
          "Beginner",
          "Mixed",
          "Mixed",
          "Beginner",
          "Mixed",
          "Beginner",
          "Intermediate",
          "Beginner",
          "Mixed",
          "Beginner",
          "Beginner",
          "Mixed",
          "Intermediate",
          "Beginner",
          "Intermediate",
          "Beginner",
          "Beginner",
          "Intermediate",
          "Beginner",
          "Beginner",
          "Intermediate",
          "Intermediate",
          "Beginner",
          "Intermediate",
          "Intermediate",
          "Intermediate",
          "Mixed",
          "Intermediate",
          "Intermediate",
          "Beginner"
         ]
        }
       ],
       "layout": {
        "barmode": "overlay",
        "legend": {
         "bgcolor": "#F5F6F9",
         "font": {
          "color": "#4D5663"
         }
        },
        "paper_bgcolor": "#F5F6F9",
        "plot_bgcolor": "#F5F6F9",
        "template": {
         "data": {
          "bar": [
           {
            "error_x": {
             "color": "#2a3f5f"
            },
            "error_y": {
             "color": "#2a3f5f"
            },
            "marker": {
             "line": {
              "color": "#E5ECF6",
              "width": 0.5
             }
            },
            "type": "bar"
           }
          ],
          "barpolar": [
           {
            "marker": {
             "line": {
              "color": "#E5ECF6",
              "width": 0.5
             }
            },
            "type": "barpolar"
           }
          ],
          "carpet": [
           {
            "aaxis": {
             "endlinecolor": "#2a3f5f",
             "gridcolor": "white",
             "linecolor": "white",
             "minorgridcolor": "white",
             "startlinecolor": "#2a3f5f"
            },
            "baxis": {
             "endlinecolor": "#2a3f5f",
             "gridcolor": "white",
             "linecolor": "white",
             "minorgridcolor": "white",
             "startlinecolor": "#2a3f5f"
            },
            "type": "carpet"
           }
          ],
          "choropleth": [
           {
            "colorbar": {
             "outlinewidth": 0,
             "ticks": ""
            },
            "type": "choropleth"
           }
          ],
          "contour": [
           {
            "colorbar": {
             "outlinewidth": 0,
             "ticks": ""
            },
            "colorscale": [
             [
              0,
              "#0d0887"
             ],
             [
              0.1111111111111111,
              "#46039f"
             ],
             [
              0.2222222222222222,
              "#7201a8"
             ],
             [
              0.3333333333333333,
              "#9c179e"
             ],
             [
              0.4444444444444444,
              "#bd3786"
             ],
             [
              0.5555555555555556,
              "#d8576b"
             ],
             [
              0.6666666666666666,
              "#ed7953"
             ],
             [
              0.7777777777777778,
              "#fb9f3a"
             ],
             [
              0.8888888888888888,
              "#fdca26"
             ],
             [
              1,
              "#f0f921"
             ]
            ],
            "type": "contour"
           }
          ],
          "contourcarpet": [
           {
            "colorbar": {
             "outlinewidth": 0,
             "ticks": ""
            },
            "type": "contourcarpet"
           }
          ],
          "heatmap": [
           {
            "colorbar": {
             "outlinewidth": 0,
             "ticks": ""
            },
            "colorscale": [
             [
              0,
              "#0d0887"
             ],
             [
              0.1111111111111111,
              "#46039f"
             ],
             [
              0.2222222222222222,
              "#7201a8"
             ],
             [
              0.3333333333333333,
              "#9c179e"
             ],
             [
              0.4444444444444444,
              "#bd3786"
             ],
             [
              0.5555555555555556,
              "#d8576b"
             ],
             [
              0.6666666666666666,
              "#ed7953"
             ],
             [
              0.7777777777777778,
              "#fb9f3a"
             ],
             [
              0.8888888888888888,
              "#fdca26"
             ],
             [
              1,
              "#f0f921"
             ]
            ],
            "type": "heatmap"
           }
          ],
          "heatmapgl": [
           {
            "colorbar": {
             "outlinewidth": 0,
             "ticks": ""
            },
            "colorscale": [
             [
              0,
              "#0d0887"
             ],
             [
              0.1111111111111111,
              "#46039f"
             ],
             [
              0.2222222222222222,
              "#7201a8"
             ],
             [
              0.3333333333333333,
              "#9c179e"
             ],
             [
              0.4444444444444444,
              "#bd3786"
             ],
             [
              0.5555555555555556,
              "#d8576b"
             ],
             [
              0.6666666666666666,
              "#ed7953"
             ],
             [
              0.7777777777777778,
              "#fb9f3a"
             ],
             [
              0.8888888888888888,
              "#fdca26"
             ],
             [
              1,
              "#f0f921"
             ]
            ],
            "type": "heatmapgl"
           }
          ],
          "histogram": [
           {
            "marker": {
             "colorbar": {
              "outlinewidth": 0,
              "ticks": ""
             }
            },
            "type": "histogram"
           }
          ],
          "histogram2d": [
           {
            "colorbar": {
             "outlinewidth": 0,
             "ticks": ""
            },
            "colorscale": [
             [
              0,
              "#0d0887"
             ],
             [
              0.1111111111111111,
              "#46039f"
             ],
             [
              0.2222222222222222,
              "#7201a8"
             ],
             [
              0.3333333333333333,
              "#9c179e"
             ],
             [
              0.4444444444444444,
              "#bd3786"
             ],
             [
              0.5555555555555556,
              "#d8576b"
             ],
             [
              0.6666666666666666,
              "#ed7953"
             ],
             [
              0.7777777777777778,
              "#fb9f3a"
             ],
             [
              0.8888888888888888,
              "#fdca26"
             ],
             [
              1,
              "#f0f921"
             ]
            ],
            "type": "histogram2d"
           }
          ],
          "histogram2dcontour": [
           {
            "colorbar": {
             "outlinewidth": 0,
             "ticks": ""
            },
            "colorscale": [
             [
              0,
              "#0d0887"
             ],
             [
              0.1111111111111111,
              "#46039f"
             ],
             [
              0.2222222222222222,
              "#7201a8"
             ],
             [
              0.3333333333333333,
              "#9c179e"
             ],
             [
              0.4444444444444444,
              "#bd3786"
             ],
             [
              0.5555555555555556,
              "#d8576b"
             ],
             [
              0.6666666666666666,
              "#ed7953"
             ],
             [
              0.7777777777777778,
              "#fb9f3a"
             ],
             [
              0.8888888888888888,
              "#fdca26"
             ],
             [
              1,
              "#f0f921"
             ]
            ],
            "type": "histogram2dcontour"
           }
          ],
          "mesh3d": [
           {
            "colorbar": {
             "outlinewidth": 0,
             "ticks": ""
            },
            "type": "mesh3d"
           }
          ],
          "parcoords": [
           {
            "line": {
             "colorbar": {
              "outlinewidth": 0,
              "ticks": ""
             }
            },
            "type": "parcoords"
           }
          ],
          "pie": [
           {
            "automargin": true,
            "type": "pie"
           }
          ],
          "scatter": [
           {
            "marker": {
             "colorbar": {
              "outlinewidth": 0,
              "ticks": ""
             }
            },
            "type": "scatter"
           }
          ],
          "scatter3d": [
           {
            "line": {
             "colorbar": {
              "outlinewidth": 0,
              "ticks": ""
             }
            },
            "marker": {
             "colorbar": {
              "outlinewidth": 0,
              "ticks": ""
             }
            },
            "type": "scatter3d"
           }
          ],
          "scattercarpet": [
           {
            "marker": {
             "colorbar": {
              "outlinewidth": 0,
              "ticks": ""
             }
            },
            "type": "scattercarpet"
           }
          ],
          "scattergeo": [
           {
            "marker": {
             "colorbar": {
              "outlinewidth": 0,
              "ticks": ""
             }
            },
            "type": "scattergeo"
           }
          ],
          "scattergl": [
           {
            "marker": {
             "colorbar": {
              "outlinewidth": 0,
              "ticks": ""
             }
            },
            "type": "scattergl"
           }
          ],
          "scattermapbox": [
           {
            "marker": {
             "colorbar": {
              "outlinewidth": 0,
              "ticks": ""
             }
            },
            "type": "scattermapbox"
           }
          ],
          "scatterpolar": [
           {
            "marker": {
             "colorbar": {
              "outlinewidth": 0,
              "ticks": ""
             }
            },
            "type": "scatterpolar"
           }
          ],
          "scatterpolargl": [
           {
            "marker": {
             "colorbar": {
              "outlinewidth": 0,
              "ticks": ""
             }
            },
            "type": "scatterpolargl"
           }
          ],
          "scatterternary": [
           {
            "marker": {
             "colorbar": {
              "outlinewidth": 0,
              "ticks": ""
             }
            },
            "type": "scatterternary"
           }
          ],
          "surface": [
           {
            "colorbar": {
             "outlinewidth": 0,
             "ticks": ""
            },
            "colorscale": [
             [
              0,
              "#0d0887"
             ],
             [
              0.1111111111111111,
              "#46039f"
             ],
             [
              0.2222222222222222,
              "#7201a8"
             ],
             [
              0.3333333333333333,
              "#9c179e"
             ],
             [
              0.4444444444444444,
              "#bd3786"
             ],
             [
              0.5555555555555556,
              "#d8576b"
             ],
             [
              0.6666666666666666,
              "#ed7953"
             ],
             [
              0.7777777777777778,
              "#fb9f3a"
             ],
             [
              0.8888888888888888,
              "#fdca26"
             ],
             [
              1,
              "#f0f921"
             ]
            ],
            "type": "surface"
           }
          ],
          "table": [
           {
            "cells": {
             "fill": {
              "color": "#EBF0F8"
             },
             "line": {
              "color": "white"
             }
            },
            "header": {
             "fill": {
              "color": "#C8D4E3"
             },
             "line": {
              "color": "white"
             }
            },
            "type": "table"
           }
          ]
         },
         "layout": {
          "annotationdefaults": {
           "arrowcolor": "#2a3f5f",
           "arrowhead": 0,
           "arrowwidth": 1
          },
          "coloraxis": {
           "colorbar": {
            "outlinewidth": 0,
            "ticks": ""
           }
          },
          "colorscale": {
           "diverging": [
            [
             0,
             "#8e0152"
            ],
            [
             0.1,
             "#c51b7d"
            ],
            [
             0.2,
             "#de77ae"
            ],
            [
             0.3,
             "#f1b6da"
            ],
            [
             0.4,
             "#fde0ef"
            ],
            [
             0.5,
             "#f7f7f7"
            ],
            [
             0.6,
             "#e6f5d0"
            ],
            [
             0.7,
             "#b8e186"
            ],
            [
             0.8,
             "#7fbc41"
            ],
            [
             0.9,
             "#4d9221"
            ],
            [
             1,
             "#276419"
            ]
           ],
           "sequential": [
            [
             0,
             "#0d0887"
            ],
            [
             0.1111111111111111,
             "#46039f"
            ],
            [
             0.2222222222222222,
             "#7201a8"
            ],
            [
             0.3333333333333333,
             "#9c179e"
            ],
            [
             0.4444444444444444,
             "#bd3786"
            ],
            [
             0.5555555555555556,
             "#d8576b"
            ],
            [
             0.6666666666666666,
             "#ed7953"
            ],
            [
             0.7777777777777778,
             "#fb9f3a"
            ],
            [
             0.8888888888888888,
             "#fdca26"
            ],
            [
             1,
             "#f0f921"
            ]
           ],
           "sequentialminus": [
            [
             0,
             "#0d0887"
            ],
            [
             0.1111111111111111,
             "#46039f"
            ],
            [
             0.2222222222222222,
             "#7201a8"
            ],
            [
             0.3333333333333333,
             "#9c179e"
            ],
            [
             0.4444444444444444,
             "#bd3786"
            ],
            [
             0.5555555555555556,
             "#d8576b"
            ],
            [
             0.6666666666666666,
             "#ed7953"
            ],
            [
             0.7777777777777778,
             "#fb9f3a"
            ],
            [
             0.8888888888888888,
             "#fdca26"
            ],
            [
             1,
             "#f0f921"
            ]
           ]
          },
          "colorway": [
           "#636efa",
           "#EF553B",
           "#00cc96",
           "#ab63fa",
           "#FFA15A",
           "#19d3f3",
           "#FF6692",
           "#B6E880",
           "#FF97FF",
           "#FECB52"
          ],
          "font": {
           "color": "#2a3f5f"
          },
          "geo": {
           "bgcolor": "white",
           "lakecolor": "white",
           "landcolor": "#E5ECF6",
           "showlakes": true,
           "showland": true,
           "subunitcolor": "white"
          },
          "hoverlabel": {
           "align": "left"
          },
          "hovermode": "closest",
          "mapbox": {
           "style": "light"
          },
          "paper_bgcolor": "white",
          "plot_bgcolor": "#E5ECF6",
          "polar": {
           "angularaxis": {
            "gridcolor": "white",
            "linecolor": "white",
            "ticks": ""
           },
           "bgcolor": "#E5ECF6",
           "radialaxis": {
            "gridcolor": "white",
            "linecolor": "white",
            "ticks": ""
           }
          },
          "scene": {
           "xaxis": {
            "backgroundcolor": "#E5ECF6",
            "gridcolor": "white",
            "gridwidth": 2,
            "linecolor": "white",
            "showbackground": true,
            "ticks": "",
            "zerolinecolor": "white"
           },
           "yaxis": {
            "backgroundcolor": "#E5ECF6",
            "gridcolor": "white",
            "gridwidth": 2,
            "linecolor": "white",
            "showbackground": true,
            "ticks": "",
            "zerolinecolor": "white"
           },
           "zaxis": {
            "backgroundcolor": "#E5ECF6",
            "gridcolor": "white",
            "gridwidth": 2,
            "linecolor": "white",
            "showbackground": true,
            "ticks": "",
            "zerolinecolor": "white"
           }
          },
          "shapedefaults": {
           "line": {
            "color": "#2a3f5f"
           }
          },
          "ternary": {
           "aaxis": {
            "gridcolor": "white",
            "linecolor": "white",
            "ticks": ""
           },
           "baxis": {
            "gridcolor": "white",
            "linecolor": "white",
            "ticks": ""
           },
           "bgcolor": "#E5ECF6",
           "caxis": {
            "gridcolor": "white",
            "linecolor": "white",
            "ticks": ""
           }
          },
          "title": {
           "x": 0.05
          },
          "xaxis": {
           "automargin": true,
           "gridcolor": "white",
           "linecolor": "white",
           "ticks": "",
           "title": {
            "standoff": 15
           },
           "zerolinecolor": "white",
           "zerolinewidth": 2
          },
          "yaxis": {
           "automargin": true,
           "gridcolor": "white",
           "linecolor": "white",
           "ticks": "",
           "title": {
            "standoff": 15
           },
           "zerolinecolor": "white",
           "zerolinewidth": 2
          }
         }
        },
        "title": {
         "font": {
          "color": "#4D5663"
         },
         "text": "Course Difficulty"
        },
        "xaxis": {
         "gridcolor": "#E1E5ED",
         "showgrid": true,
         "tickfont": {
          "color": "#4D5663"
         },
         "title": {
          "font": {
           "color": "#4D5663"
          },
          "text": "Course Type"
         },
         "zerolinecolor": "#E1E5ED"
        },
        "yaxis": {
         "gridcolor": "#E1E5ED",
         "showgrid": true,
         "tickfont": {
          "color": "#4D5663"
         },
         "title": {
          "font": {
           "color": "#4D5663"
          },
          "text": "Count"
         },
         "zerolinecolor": "#E1E5ED"
        }
       }
      },
      "text/html": [
       "<div>\n",
       "        \n",
       "        \n",
       "            <div id=\"1754f2d3-0705-4dd3-ab20-9ec8e86a2a41\" class=\"plotly-graph-div\" style=\"height:525px; width:100%;\"></div>\n",
       "            <script type=\"text/javascript\">\n",
       "                require([\"plotly\"], function(Plotly) {\n",
       "                    window.PLOTLYENV=window.PLOTLYENV || {};\n",
       "                    window.PLOTLYENV.BASE_URL='https://plot.ly';\n",
       "                    \n",
       "                if (document.getElementById(\"1754f2d3-0705-4dd3-ab20-9ec8e86a2a41\")) {\n",
       "                    Plotly.newPlot(\n",
       "                        '1754f2d3-0705-4dd3-ab20-9ec8e86a2a41',\n",
       "                        [{\"histfunc\": \"count\", \"histnorm\": \"\", \"marker\": {\"color\": \"rgba(255, 153, 51, 1.0)\", \"line\": {\"color\": \"#4D5663\", \"width\": 1.3}}, \"name\": \"course_difficulty\", \"opacity\": 0.8, \"orientation\": \"v\", \"type\": \"histogram\", \"x\": [\"Beginner\", \"Intermediate\", \"Mixed\", \"Mixed\", \"Mixed\", \"Beginner\", \"Beginner\", \"Intermediate\", \"Beginner\", \"Intermediate\", \"Intermediate\", \"Intermediate\", \"Beginner\", \"Beginner\", \"Beginner\", \"Beginner\", \"Intermediate\", \"Mixed\", \"Beginner\", \"Intermediate\", \"Beginner\", \"Mixed\", \"Intermediate\", \"Beginner\", \"Mixed\", \"Beginner\", \"Intermediate\", \"Advanced\", \"Advanced\", \"Advanced\", \"Advanced\", \"Mixed\", \"Beginner\", \"Beginner\", \"Beginner\", \"Beginner\", \"Beginner\", \"Intermediate\", \"Intermediate\", \"Intermediate\", \"Beginner\", \"Beginner\", \"Beginner\", \"Beginner\", \"Beginner\", \"Beginner\", \"Intermediate\", \"Beginner\", \"Mixed\", \"Beginner\", \"Mixed\", \"Advanced\", \"Beginner\", \"Intermediate\", \"Beginner\", \"Intermediate\", \"Intermediate\", \"Intermediate\", \"Intermediate\", \"Beginner\", \"Mixed\", \"Beginner\", \"Intermediate\", \"Intermediate\", \"Beginner\", \"Beginner\", \"Mixed\", \"Mixed\", \"Mixed\", \"Mixed\", \"Beginner\", \"Mixed\", \"Intermediate\", \"Mixed\", \"Intermediate\", \"Intermediate\", \"Advanced\", \"Advanced\", \"Beginner\", \"Beginner\", \"Intermediate\", \"Intermediate\", \"Mixed\", \"Beginner\", \"Intermediate\", \"Beginner\", \"Beginner\", \"Mixed\", \"Mixed\", \"Beginner\", \"Beginner\", \"Beginner\", \"Beginner\", \"Intermediate\", \"Intermediate\", \"Beginner\", \"Beginner\", \"Beginner\", \"Beginner\", \"Beginner\", \"Beginner\", \"Mixed\", \"Beginner\", \"Mixed\", \"Intermediate\", \"Beginner\", \"Intermediate\", \"Intermediate\", \"Mixed\", \"Beginner\", \"Intermediate\", \"Intermediate\", \"Intermediate\", \"Beginner\", \"Mixed\", \"Beginner\", \"Beginner\", \"Beginner\", \"Beginner\", \"Beginner\", \"Beginner\", \"Beginner\", \"Beginner\", \"Beginner\", \"Beginner\", \"Beginner\", \"Mixed\", \"Beginner\", \"Mixed\", \"Beginner\", \"Beginner\", \"Beginner\", \"Mixed\", \"Beginner\", \"Beginner\", \"Beginner\", \"Mixed\", \"Beginner\", \"Beginner\", \"Beginner\", \"Intermediate\", \"Beginner\", \"Intermediate\", \"Intermediate\", \"Beginner\", \"Beginner\", \"Beginner\", \"Beginner\", \"Beginner\", \"Intermediate\", \"Beginner\", \"Beginner\", \"Beginner\", \"Beginner\", \"Beginner\", \"Beginner\", \"Beginner\", \"Beginner\", \"Beginner\", \"Beginner\", \"Beginner\", \"Mixed\", \"Intermediate\", \"Intermediate\", \"Intermediate\", \"Mixed\", \"Beginner\", \"Mixed\", \"Beginner\", \"Beginner\", \"Intermediate\", \"Beginner\", \"Mixed\", \"Beginner\", \"Mixed\", \"Beginner\", \"Intermediate\", \"Intermediate\", \"Beginner\", \"Beginner\", \"Beginner\", \"Intermediate\", \"Beginner\", \"Beginner\", \"Beginner\", \"Mixed\", \"Beginner\", \"Beginner\", \"Beginner\", \"Beginner\", \"Intermediate\", \"Intermediate\", \"Intermediate\", \"Intermediate\", \"Beginner\", \"Intermediate\", \"Beginner\", \"Beginner\", \"Beginner\", \"Beginner\", \"Intermediate\", \"Mixed\", \"Beginner\", \"Intermediate\", \"Beginner\", \"Advanced\", \"Beginner\", \"Beginner\", \"Beginner\", \"Beginner\", \"Mixed\", \"Intermediate\", \"Beginner\", \"Beginner\", \"Beginner\", \"Beginner\", \"Beginner\", \"Mixed\", \"Mixed\", \"Intermediate\", \"Intermediate\", \"Intermediate\", \"Intermediate\", \"Intermediate\", \"Mixed\", \"Beginner\", \"Mixed\", \"Beginner\", \"Beginner\", \"Beginner\", \"Beginner\", \"Mixed\", \"Beginner\", \"Beginner\", \"Beginner\", \"Intermediate\", \"Beginner\", \"Beginner\", \"Intermediate\", \"Mixed\", \"Beginner\", \"Beginner\", \"Beginner\", \"Beginner\", \"Beginner\", \"Intermediate\", \"Mixed\", \"Mixed\", \"Intermediate\", \"Mixed\", \"Beginner\", \"Beginner\", \"Intermediate\", \"Beginner\", \"Intermediate\", \"Beginner\", \"Beginner\", \"Beginner\", \"Beginner\", \"Beginner\", \"Beginner\", \"Mixed\", \"Mixed\", \"Intermediate\", \"Beginner\", \"Beginner\", \"Intermediate\", \"Beginner\", \"Mixed\", \"Mixed\", \"Beginner\", \"Beginner\", \"Beginner\", \"Mixed\", \"Mixed\", \"Beginner\", \"Beginner\", \"Mixed\", \"Mixed\", \"Beginner\", \"Beginner\", \"Beginner\", \"Intermediate\", \"Intermediate\", \"Intermediate\", \"Intermediate\", \"Mixed\", \"Beginner\", \"Beginner\", \"Beginner\", \"Beginner\", \"Beginner\", \"Intermediate\", \"Beginner\", \"Intermediate\", \"Intermediate\", \"Beginner\", \"Beginner\", \"Beginner\", \"Beginner\", \"Beginner\", \"Beginner\", \"Beginner\", \"Beginner\", \"Beginner\", \"Beginner\", \"Beginner\", \"Beginner\", \"Intermediate\", \"Beginner\", \"Beginner\", \"Mixed\", \"Intermediate\", \"Beginner\", \"Beginner\", \"Intermediate\", \"Beginner\", \"Mixed\", \"Intermediate\", \"Mixed\", \"Beginner\", \"Beginner\", \"Beginner\", \"Mixed\", \"Mixed\", \"Intermediate\", \"Beginner\", \"Beginner\", \"Mixed\", \"Beginner\", \"Beginner\", \"Intermediate\", \"Beginner\", \"Beginner\", \"Beginner\", \"Beginner\", \"Intermediate\", \"Intermediate\", \"Intermediate\", \"Intermediate\", \"Intermediate\", \"Intermediate\", \"Beginner\", \"Beginner\", \"Beginner\", \"Mixed\", \"Beginner\", \"Beginner\", \"Intermediate\", \"Intermediate\", \"Beginner\", \"Beginner\", \"Mixed\", \"Intermediate\", \"Beginner\", \"Beginner\", \"Beginner\", \"Beginner\", \"Beginner\", \"Beginner\", \"Beginner\", \"Beginner\", \"Beginner\", \"Beginner\", \"Intermediate\", \"Beginner\", \"Mixed\", \"Beginner\", \"Intermediate\", \"Beginner\", \"Mixed\", \"Mixed\", \"Mixed\", \"Beginner\", \"Beginner\", \"Intermediate\", \"Intermediate\", \"Intermediate\", \"Beginner\", \"Beginner\", \"Mixed\", \"Beginner\", \"Beginner\", \"Intermediate\", \"Mixed\", \"Intermediate\", \"Mixed\", \"Intermediate\", \"Beginner\", \"Intermediate\", \"Intermediate\", \"Beginner\", \"Beginner\", \"Mixed\", \"Beginner\", \"Mixed\", \"Beginner\", \"Mixed\", \"Mixed\", \"Mixed\", \"Beginner\", \"Mixed\", \"Intermediate\", \"Mixed\", \"Beginner\", \"Intermediate\", \"Intermediate\", \"Beginner\", \"Beginner\", \"Mixed\", \"Beginner\", \"Beginner\", \"Intermediate\", \"Mixed\", \"Beginner\", \"Beginner\", \"Intermediate\", \"Advanced\", \"Beginner\", \"Beginner\", \"Beginner\", \"Beginner\", \"Beginner\", \"Beginner\", \"Beginner\", \"Beginner\", \"Beginner\", \"Beginner\", \"Beginner\", \"Beginner\", \"Mixed\", \"Beginner\", \"Intermediate\", \"Intermediate\", \"Beginner\", \"Beginner\", \"Beginner\", \"Beginner\", \"Mixed\", \"Beginner\", \"Beginner\", \"Beginner\", \"Beginner\", \"Intermediate\", \"Mixed\", \"Mixed\", \"Intermediate\", \"Beginner\", \"Intermediate\", \"Intermediate\", \"Beginner\", \"Intermediate\", \"Mixed\", \"Beginner\", \"Mixed\", \"Mixed\", \"Mixed\", \"Beginner\", \"Beginner\", \"Beginner\", \"Beginner\", \"Beginner\", \"Beginner\", \"Mixed\", \"Intermediate\", \"Beginner\", \"Beginner\", \"Mixed\", \"Mixed\", \"Beginner\", \"Mixed\", \"Beginner\", \"Mixed\", \"Intermediate\", \"Mixed\", \"Intermediate\", \"Beginner\", \"Mixed\", \"Beginner\", \"Beginner\", \"Beginner\", \"Mixed\", \"Beginner\", \"Beginner\", \"Beginner\", \"Mixed\", \"Beginner\", \"Intermediate\", \"Beginner\", \"Beginner\", \"Mixed\", \"Intermediate\", \"Mixed\", \"Mixed\", \"Mixed\", \"Mixed\", \"Mixed\", \"Mixed\", \"Mixed\", \"Mixed\", \"Beginner\", \"Beginner\", \"Mixed\", \"Mixed\", \"Intermediate\", \"Mixed\", \"Beginner\", \"Mixed\", \"Mixed\", \"Beginner\", \"Beginner\", \"Beginner\", \"Beginner\", \"Beginner\", \"Advanced\", \"Mixed\", \"Beginner\", \"Mixed\", \"Mixed\", \"Mixed\", \"Intermediate\", \"Beginner\", \"Intermediate\", \"Beginner\", \"Beginner\", \"Beginner\", \"Beginner\", \"Beginner\", \"Mixed\", \"Beginner\", \"Beginner\", \"Beginner\", \"Beginner\", \"Beginner\", \"Beginner\", \"Beginner\", \"Beginner\", \"Beginner\", \"Intermediate\", \"Beginner\", \"Beginner\", \"Beginner\", \"Mixed\", \"Beginner\", \"Beginner\", \"Intermediate\", \"Intermediate\", \"Beginner\", \"Beginner\", \"Intermediate\", \"Advanced\", \"Intermediate\", \"Beginner\", \"Beginner\", \"Beginner\", \"Beginner\", \"Beginner\", \"Beginner\", \"Intermediate\", \"Beginner\", \"Intermediate\", \"Mixed\", \"Beginner\", \"Intermediate\", \"Mixed\", \"Mixed\", \"Intermediate\", \"Beginner\", \"Intermediate\", \"Intermediate\", \"Intermediate\", \"Intermediate\", \"Beginner\", \"Beginner\", \"Mixed\", \"Beginner\", \"Beginner\", \"Beginner\", \"Mixed\", \"Beginner\", \"Beginner\", \"Beginner\", \"Beginner\", \"Beginner\", \"Intermediate\", \"Beginner\", \"Beginner\", \"Mixed\", \"Intermediate\", \"Beginner\", \"Mixed\", \"Beginner\", \"Beginner\", \"Mixed\", \"Beginner\", \"Beginner\", \"Beginner\", \"Beginner\", \"Intermediate\", \"Beginner\", \"Advanced\", \"Beginner\", \"Beginner\", \"Beginner\", \"Mixed\", \"Beginner\", \"Beginner\", \"Mixed\", \"Mixed\", \"Beginner\", \"Beginner\", \"Intermediate\", \"Intermediate\", \"Mixed\", \"Mixed\", \"Mixed\", \"Intermediate\", \"Beginner\", \"Mixed\", \"Beginner\", \"Mixed\", \"Intermediate\", \"Mixed\", \"Beginner\", \"Intermediate\", \"Intermediate\", \"Intermediate\", \"Mixed\", \"Beginner\", \"Beginner\", \"Beginner\", \"Intermediate\", \"Intermediate\", \"Beginner\", \"Intermediate\", \"Intermediate\", \"Mixed\", \"Beginner\", \"Beginner\", \"Mixed\", \"Advanced\", \"Intermediate\", \"Beginner\", \"Beginner\", \"Beginner\", \"Intermediate\", \"Mixed\", \"Beginner\", \"Beginner\", \"Mixed\", \"Intermediate\", \"Beginner\", \"Beginner\", \"Beginner\", \"Beginner\", \"Mixed\", \"Mixed\", \"Beginner\", \"Beginner\", \"Beginner\", \"Intermediate\", \"Beginner\", \"Intermediate\", \"Beginner\", \"Mixed\", \"Beginner\", \"Beginner\", \"Mixed\", \"Mixed\", \"Advanced\", \"Beginner\", \"Intermediate\", \"Beginner\", \"Beginner\", \"Mixed\", \"Intermediate\", \"Beginner\", \"Beginner\", \"Beginner\", \"Beginner\", \"Mixed\", \"Beginner\", \"Beginner\", \"Intermediate\", \"Mixed\", \"Beginner\", \"Intermediate\", \"Beginner\", \"Beginner\", \"Mixed\", \"Beginner\", \"Intermediate\", \"Beginner\", \"Intermediate\", \"Mixed\", \"Intermediate\", \"Beginner\", \"Beginner\", \"Beginner\", \"Mixed\", \"Mixed\", \"Beginner\", \"Mixed\", \"Intermediate\", \"Beginner\", \"Beginner\", \"Beginner\", \"Beginner\", \"Mixed\", \"Beginner\", \"Beginner\", \"Beginner\", \"Beginner\", \"Beginner\", \"Intermediate\", \"Mixed\", \"Beginner\", \"Beginner\", \"Mixed\", \"Intermediate\", \"Beginner\", \"Intermediate\", \"Advanced\", \"Intermediate\", \"Beginner\", \"Beginner\", \"Advanced\", \"Intermediate\", \"Intermediate\", \"Beginner\", \"Beginner\", \"Beginner\", \"Beginner\", \"Beginner\", \"Beginner\", \"Beginner\", \"Advanced\", \"Beginner\", \"Intermediate\", \"Mixed\", \"Beginner\", \"Beginner\", \"Beginner\", \"Beginner\", \"Advanced\", \"Beginner\", \"Mixed\", \"Intermediate\", \"Mixed\", \"Beginner\", \"Beginner\", \"Beginner\", \"Beginner\", \"Beginner\", \"Intermediate\", \"Advanced\", \"Beginner\", \"Beginner\", \"Mixed\", \"Beginner\", \"Intermediate\", \"Intermediate\", \"Beginner\", \"Beginner\", \"Beginner\", \"Mixed\", \"Beginner\", \"Beginner\", \"Intermediate\", \"Beginner\", \"Beginner\", \"Beginner\", \"Mixed\", \"Mixed\", \"Beginner\", \"Beginner\", \"Beginner\", \"Beginner\", \"Intermediate\", \"Mixed\", \"Beginner\", \"Beginner\", \"Mixed\", \"Intermediate\", \"Mixed\", \"Beginner\", \"Beginner\", \"Intermediate\", \"Intermediate\", \"Beginner\", \"Beginner\", \"Intermediate\", \"Beginner\", \"Beginner\", \"Beginner\", \"Beginner\", \"Beginner\", \"Intermediate\", \"Beginner\", \"Beginner\", \"Mixed\", \"Mixed\", \"Mixed\", \"Mixed\", \"Mixed\", \"Beginner\", \"Beginner\", \"Intermediate\", \"Mixed\", \"Mixed\", \"Beginner\", \"Mixed\", \"Intermediate\", \"Beginner\", \"Beginner\", \"Mixed\", \"Beginner\", \"Mixed\", \"Intermediate\", \"Beginner\", \"Beginner\", \"Beginner\", \"Mixed\", \"Beginner\", \"Beginner\", \"Beginner\", \"Beginner\", \"Mixed\", \"Beginner\", \"Intermediate\", \"Intermediate\", \"Beginner\", \"Beginner\", \"Beginner\", \"Beginner\", \"Mixed\", \"Beginner\", \"Beginner\", \"Intermediate\", \"Beginner\", \"Mixed\", \"Beginner\", \"Beginner\", \"Intermediate\", \"Beginner\", \"Beginner\", \"Intermediate\", \"Beginner\", \"Intermediate\", \"Mixed\", \"Mixed\", \"Beginner\", \"Intermediate\", \"Mixed\", \"Mixed\", \"Beginner\", \"Beginner\", \"Mixed\", \"Intermediate\", \"Beginner\", \"Beginner\", \"Beginner\", \"Mixed\", \"Mixed\", \"Beginner\", \"Mixed\", \"Beginner\", \"Intermediate\", \"Beginner\", \"Mixed\", \"Beginner\", \"Beginner\", \"Mixed\", \"Intermediate\", \"Beginner\", \"Intermediate\", \"Beginner\", \"Beginner\", \"Intermediate\", \"Beginner\", \"Beginner\", \"Intermediate\", \"Intermediate\", \"Beginner\", \"Intermediate\", \"Intermediate\", \"Intermediate\", \"Mixed\", \"Intermediate\", \"Intermediate\", \"Beginner\"]}],\n",
       "                        {\"barmode\": \"overlay\", \"legend\": {\"bgcolor\": \"#F5F6F9\", \"font\": {\"color\": \"#4D5663\"}}, \"paper_bgcolor\": \"#F5F6F9\", \"plot_bgcolor\": \"#F5F6F9\", \"template\": {\"data\": {\"bar\": [{\"error_x\": {\"color\": \"#2a3f5f\"}, \"error_y\": {\"color\": \"#2a3f5f\"}, \"marker\": {\"line\": {\"color\": \"#E5ECF6\", \"width\": 0.5}}, \"type\": \"bar\"}], \"barpolar\": [{\"marker\": {\"line\": {\"color\": \"#E5ECF6\", \"width\": 0.5}}, \"type\": \"barpolar\"}], \"carpet\": [{\"aaxis\": {\"endlinecolor\": \"#2a3f5f\", \"gridcolor\": \"white\", \"linecolor\": \"white\", \"minorgridcolor\": \"white\", \"startlinecolor\": \"#2a3f5f\"}, \"baxis\": {\"endlinecolor\": \"#2a3f5f\", \"gridcolor\": \"white\", \"linecolor\": \"white\", \"minorgridcolor\": \"white\", \"startlinecolor\": \"#2a3f5f\"}, \"type\": \"carpet\"}], \"choropleth\": [{\"colorbar\": {\"outlinewidth\": 0, \"ticks\": \"\"}, \"type\": \"choropleth\"}], \"contour\": [{\"colorbar\": {\"outlinewidth\": 0, \"ticks\": \"\"}, \"colorscale\": [[0.0, \"#0d0887\"], [0.1111111111111111, \"#46039f\"], [0.2222222222222222, \"#7201a8\"], [0.3333333333333333, \"#9c179e\"], [0.4444444444444444, \"#bd3786\"], [0.5555555555555556, \"#d8576b\"], [0.6666666666666666, \"#ed7953\"], [0.7777777777777778, \"#fb9f3a\"], [0.8888888888888888, \"#fdca26\"], [1.0, \"#f0f921\"]], \"type\": \"contour\"}], \"contourcarpet\": [{\"colorbar\": {\"outlinewidth\": 0, \"ticks\": \"\"}, \"type\": \"contourcarpet\"}], \"heatmap\": [{\"colorbar\": {\"outlinewidth\": 0, \"ticks\": \"\"}, \"colorscale\": [[0.0, \"#0d0887\"], [0.1111111111111111, \"#46039f\"], [0.2222222222222222, \"#7201a8\"], [0.3333333333333333, \"#9c179e\"], [0.4444444444444444, \"#bd3786\"], [0.5555555555555556, \"#d8576b\"], [0.6666666666666666, \"#ed7953\"], [0.7777777777777778, \"#fb9f3a\"], [0.8888888888888888, \"#fdca26\"], [1.0, \"#f0f921\"]], \"type\": \"heatmap\"}], \"heatmapgl\": [{\"colorbar\": {\"outlinewidth\": 0, \"ticks\": \"\"}, \"colorscale\": [[0.0, \"#0d0887\"], [0.1111111111111111, \"#46039f\"], [0.2222222222222222, \"#7201a8\"], [0.3333333333333333, \"#9c179e\"], [0.4444444444444444, \"#bd3786\"], [0.5555555555555556, \"#d8576b\"], [0.6666666666666666, \"#ed7953\"], [0.7777777777777778, \"#fb9f3a\"], [0.8888888888888888, \"#fdca26\"], [1.0, \"#f0f921\"]], \"type\": \"heatmapgl\"}], \"histogram\": [{\"marker\": {\"colorbar\": {\"outlinewidth\": 0, \"ticks\": \"\"}}, \"type\": \"histogram\"}], \"histogram2d\": [{\"colorbar\": {\"outlinewidth\": 0, \"ticks\": \"\"}, \"colorscale\": [[0.0, \"#0d0887\"], [0.1111111111111111, \"#46039f\"], [0.2222222222222222, \"#7201a8\"], [0.3333333333333333, \"#9c179e\"], [0.4444444444444444, \"#bd3786\"], [0.5555555555555556, \"#d8576b\"], [0.6666666666666666, \"#ed7953\"], [0.7777777777777778, \"#fb9f3a\"], [0.8888888888888888, \"#fdca26\"], [1.0, \"#f0f921\"]], \"type\": \"histogram2d\"}], \"histogram2dcontour\": [{\"colorbar\": {\"outlinewidth\": 0, \"ticks\": \"\"}, \"colorscale\": [[0.0, \"#0d0887\"], [0.1111111111111111, \"#46039f\"], [0.2222222222222222, \"#7201a8\"], [0.3333333333333333, \"#9c179e\"], [0.4444444444444444, \"#bd3786\"], [0.5555555555555556, \"#d8576b\"], [0.6666666666666666, \"#ed7953\"], [0.7777777777777778, \"#fb9f3a\"], [0.8888888888888888, \"#fdca26\"], [1.0, \"#f0f921\"]], \"type\": \"histogram2dcontour\"}], \"mesh3d\": [{\"colorbar\": {\"outlinewidth\": 0, \"ticks\": \"\"}, \"type\": \"mesh3d\"}], \"parcoords\": [{\"line\": {\"colorbar\": {\"outlinewidth\": 0, \"ticks\": \"\"}}, \"type\": \"parcoords\"}], \"pie\": [{\"automargin\": true, \"type\": \"pie\"}], \"scatter\": [{\"marker\": {\"colorbar\": {\"outlinewidth\": 0, \"ticks\": \"\"}}, \"type\": \"scatter\"}], \"scatter3d\": [{\"line\": {\"colorbar\": {\"outlinewidth\": 0, \"ticks\": \"\"}}, \"marker\": {\"colorbar\": {\"outlinewidth\": 0, \"ticks\": \"\"}}, \"type\": \"scatter3d\"}], \"scattercarpet\": [{\"marker\": {\"colorbar\": {\"outlinewidth\": 0, \"ticks\": \"\"}}, \"type\": \"scattercarpet\"}], \"scattergeo\": [{\"marker\": {\"colorbar\": {\"outlinewidth\": 0, \"ticks\": \"\"}}, \"type\": \"scattergeo\"}], \"scattergl\": [{\"marker\": {\"colorbar\": {\"outlinewidth\": 0, \"ticks\": \"\"}}, \"type\": \"scattergl\"}], \"scattermapbox\": [{\"marker\": {\"colorbar\": {\"outlinewidth\": 0, \"ticks\": \"\"}}, \"type\": \"scattermapbox\"}], \"scatterpolar\": [{\"marker\": {\"colorbar\": {\"outlinewidth\": 0, \"ticks\": \"\"}}, \"type\": \"scatterpolar\"}], \"scatterpolargl\": [{\"marker\": {\"colorbar\": {\"outlinewidth\": 0, \"ticks\": \"\"}}, \"type\": \"scatterpolargl\"}], \"scatterternary\": [{\"marker\": {\"colorbar\": {\"outlinewidth\": 0, \"ticks\": \"\"}}, \"type\": \"scatterternary\"}], \"surface\": [{\"colorbar\": {\"outlinewidth\": 0, \"ticks\": \"\"}, \"colorscale\": [[0.0, \"#0d0887\"], [0.1111111111111111, \"#46039f\"], [0.2222222222222222, \"#7201a8\"], [0.3333333333333333, \"#9c179e\"], [0.4444444444444444, \"#bd3786\"], [0.5555555555555556, \"#d8576b\"], [0.6666666666666666, \"#ed7953\"], [0.7777777777777778, \"#fb9f3a\"], [0.8888888888888888, \"#fdca26\"], [1.0, \"#f0f921\"]], \"type\": \"surface\"}], \"table\": [{\"cells\": {\"fill\": {\"color\": \"#EBF0F8\"}, \"line\": {\"color\": \"white\"}}, \"header\": {\"fill\": {\"color\": \"#C8D4E3\"}, \"line\": {\"color\": \"white\"}}, \"type\": \"table\"}]}, \"layout\": {\"annotationdefaults\": {\"arrowcolor\": \"#2a3f5f\", \"arrowhead\": 0, \"arrowwidth\": 1}, \"coloraxis\": {\"colorbar\": {\"outlinewidth\": 0, \"ticks\": \"\"}}, \"colorscale\": {\"diverging\": [[0, \"#8e0152\"], [0.1, \"#c51b7d\"], [0.2, \"#de77ae\"], [0.3, \"#f1b6da\"], [0.4, \"#fde0ef\"], [0.5, \"#f7f7f7\"], [0.6, \"#e6f5d0\"], [0.7, \"#b8e186\"], [0.8, \"#7fbc41\"], [0.9, \"#4d9221\"], [1, \"#276419\"]], \"sequential\": [[0.0, \"#0d0887\"], [0.1111111111111111, \"#46039f\"], [0.2222222222222222, \"#7201a8\"], [0.3333333333333333, \"#9c179e\"], [0.4444444444444444, \"#bd3786\"], [0.5555555555555556, \"#d8576b\"], [0.6666666666666666, \"#ed7953\"], [0.7777777777777778, \"#fb9f3a\"], [0.8888888888888888, \"#fdca26\"], [1.0, \"#f0f921\"]], \"sequentialminus\": [[0.0, \"#0d0887\"], [0.1111111111111111, \"#46039f\"], [0.2222222222222222, \"#7201a8\"], [0.3333333333333333, \"#9c179e\"], [0.4444444444444444, \"#bd3786\"], [0.5555555555555556, \"#d8576b\"], [0.6666666666666666, \"#ed7953\"], [0.7777777777777778, \"#fb9f3a\"], [0.8888888888888888, \"#fdca26\"], [1.0, \"#f0f921\"]]}, \"colorway\": [\"#636efa\", \"#EF553B\", \"#00cc96\", \"#ab63fa\", \"#FFA15A\", \"#19d3f3\", \"#FF6692\", \"#B6E880\", \"#FF97FF\", \"#FECB52\"], \"font\": {\"color\": \"#2a3f5f\"}, \"geo\": {\"bgcolor\": \"white\", \"lakecolor\": \"white\", \"landcolor\": \"#E5ECF6\", \"showlakes\": true, \"showland\": true, \"subunitcolor\": \"white\"}, \"hoverlabel\": {\"align\": \"left\"}, \"hovermode\": \"closest\", \"mapbox\": {\"style\": \"light\"}, \"paper_bgcolor\": \"white\", \"plot_bgcolor\": \"#E5ECF6\", \"polar\": {\"angularaxis\": {\"gridcolor\": \"white\", \"linecolor\": \"white\", \"ticks\": \"\"}, \"bgcolor\": \"#E5ECF6\", \"radialaxis\": {\"gridcolor\": \"white\", \"linecolor\": \"white\", \"ticks\": \"\"}}, \"scene\": {\"xaxis\": {\"backgroundcolor\": \"#E5ECF6\", \"gridcolor\": \"white\", \"gridwidth\": 2, \"linecolor\": \"white\", \"showbackground\": true, \"ticks\": \"\", \"zerolinecolor\": \"white\"}, \"yaxis\": {\"backgroundcolor\": \"#E5ECF6\", \"gridcolor\": \"white\", \"gridwidth\": 2, \"linecolor\": \"white\", \"showbackground\": true, \"ticks\": \"\", \"zerolinecolor\": \"white\"}, \"zaxis\": {\"backgroundcolor\": \"#E5ECF6\", \"gridcolor\": \"white\", \"gridwidth\": 2, \"linecolor\": \"white\", \"showbackground\": true, \"ticks\": \"\", \"zerolinecolor\": \"white\"}}, \"shapedefaults\": {\"line\": {\"color\": \"#2a3f5f\"}}, \"ternary\": {\"aaxis\": {\"gridcolor\": \"white\", \"linecolor\": \"white\", \"ticks\": \"\"}, \"baxis\": {\"gridcolor\": \"white\", \"linecolor\": \"white\", \"ticks\": \"\"}, \"bgcolor\": \"#E5ECF6\", \"caxis\": {\"gridcolor\": \"white\", \"linecolor\": \"white\", \"ticks\": \"\"}}, \"title\": {\"x\": 0.05}, \"xaxis\": {\"automargin\": true, \"gridcolor\": \"white\", \"linecolor\": \"white\", \"ticks\": \"\", \"title\": {\"standoff\": 15}, \"zerolinecolor\": \"white\", \"zerolinewidth\": 2}, \"yaxis\": {\"automargin\": true, \"gridcolor\": \"white\", \"linecolor\": \"white\", \"ticks\": \"\", \"title\": {\"standoff\": 15}, \"zerolinecolor\": \"white\", \"zerolinewidth\": 2}}}, \"title\": {\"font\": {\"color\": \"#4D5663\"}, \"text\": \"Course Difficulty\"}, \"xaxis\": {\"gridcolor\": \"#E1E5ED\", \"showgrid\": true, \"tickfont\": {\"color\": \"#4D5663\"}, \"title\": {\"font\": {\"color\": \"#4D5663\"}, \"text\": \"Course Type\"}, \"zerolinecolor\": \"#E1E5ED\"}, \"yaxis\": {\"gridcolor\": \"#E1E5ED\", \"showgrid\": true, \"tickfont\": {\"color\": \"#4D5663\"}, \"title\": {\"font\": {\"color\": \"#4D5663\"}, \"text\": \"Count\"}, \"zerolinecolor\": \"#E1E5ED\"}},\n",
       "                        {\"showLink\": true, \"linkText\": \"Export to plot.ly\", \"plotlyServerURL\": \"https://plot.ly\", \"responsive\": true}\n",
       "                    ).then(function(){\n",
       "                            \n",
       "var gd = document.getElementById('1754f2d3-0705-4dd3-ab20-9ec8e86a2a41');\n",
       "var x = new MutationObserver(function (mutations, observer) {{\n",
       "        var display = window.getComputedStyle(gd).display;\n",
       "        if (!display || display === 'none') {{\n",
       "            console.log([gd, 'removed!']);\n",
       "            Plotly.purge(gd);\n",
       "            observer.disconnect();\n",
       "        }}\n",
       "}});\n",
       "\n",
       "// Listen for the removal of the full notebook cells\n",
       "var notebookContainer = gd.closest('#notebook-container');\n",
       "if (notebookContainer) {{\n",
       "    x.observe(notebookContainer, {childList: true});\n",
       "}}\n",
       "\n",
       "// Listen for the clearing of the current output cell\n",
       "var outputEl = gd.closest('.output');\n",
       "if (outputEl) {{\n",
       "    x.observe(outputEl, {childList: true});\n",
       "}}\n",
       "\n",
       "                        })\n",
       "                };\n",
       "                });\n",
       "            </script>\n",
       "        </div>"
      ]
     },
     "metadata": {},
     "output_type": "display_data"
    }
   ],
   "source": [
    "cf.set_config_file(theme='pearl')\n",
    "ds['course_difficulty'].iplot(kind='hist',title='Course Difficulty',\n",
    "                             xTitle='Course Type',yTitle='Count')"
   ]
  },
  {
   "cell_type": "code",
   "execution_count": 91,
   "metadata": {},
   "outputs": [
    {
     "data": {
      "application/vnd.plotly.v1+json": {
       "config": {
        "linkText": "Export to plot.ly",
        "plotlyServerURL": "https://plot.ly",
        "showLink": false
       },
       "data": [
        {
         "labels": [
          "(ISC)²",
          "Amazon Web Services",
          "American Institute of Business and Economics",
          "American Museum of Natural History",
          "Arizona State University",
          "Atlassian",
          "Autodesk",
          "Automation Anywhere",
          "BCG",
          "Berklee College of Music",
          "Birkbeck, University of London",
          "Bloomsbury Learning Exchange",
          "California Institute of the Arts",
          "Case Western Reserve University",
          "Cisco",
          "Cloudera",
          "Columbia University",
          "ConsenSys Academy",
          "Copenhagen Business School",
          "Crece con Google",
          "Duke University",
          "E-Learning Development Fund",
          "EDHEC Business School",
          "ESADE Business and Law School",
          "ESCP Business School",
          "ESSEC Business School",
          "Eindhoven University of Technology",
          "Emory University",
          "Erasmus University Rotterdam",
          "Fundação Instituto de Administração",
          "Georgia Institute of Technology",
          "Goldsmiths, University of London",
          "Google",
          "Google - Spectrum Sharing",
          "Google Cloud",
          "HEC Paris",
          "Hebrew University of Jerusalem",
          "HubSpot Academy",
          "IBM",
          "IE Business School",
          "IE School of Architecture & Design",
          "IESE Business School",
          "INSEAD",
          "Icahn School of Medicine at Mount Sinai",
          "Imperial College London",
          "Indian School of Business",
          "Institute for the Future",
          "JetBrains",
          "Johns Hopkins University",
          "Kalshoven-Gieskes Forum",
          "LearnQuest",
          "London Business School",
          "Ludwig-Maximilians-Universität München (LMU)",
          "Lund University",
          "Luther College at the University of Regina",
          "Macquarie University",
          "Mail.Ru Group",
          "MathWorks",
          "McMaster University",
          "Michigan State University",
          "Moscow Institute of Physics and Technology",
          "Nanyang Technological University, Singapore",
          "National Arts Strategies",
          "National Research University Higher School of Economics",
          "National Taiwan University",
          "New York Institute of Finance",
          "New York University",
          "Northwestern University",
          "Novosibirsk State University ",
          "Osmosis",
          "Palo Alto Networks",
          "Peking University",
          "Peter the Great St. Petersburg Polytechnic University",
          "Pontificia Universidad Católica de Chile",
          "PwC",
          "Relay Graduate School of Education",
          "Rice University",
          "Royal Holloway, University of London",
          "Rutgers the State University of New Jersey",
          "SAS",
          "SOAS University of London",
          "Saint Petersburg State University",
          "Sciences Po",
          "ScrumTrek",
          "Shanghai Jiao Tong University",
          "Stanford University",
          "Technical University of Denmark (DTU)",
          "Tecnológico de Monterrey",
          "Tel Aviv University",
          "The George Washington University",
          "The Hong Kong University of Science and Technology",
          "The Linux Foundation",
          "The Museum of Modern Art",
          "The Pennsylvania State University",
          "The State University of New York",
          "The University of Chicago",
          "The University of Edinburgh",
          "The University of Hong Kong",
          "The University of Melbourne",
          "The University of North Carolina at Chapel Hill",
          "The University of Sydney",
          "The University of Tokyo",
          "Ticket for Change",
          "Tsinghua University",
          "UCL Institute of Education",
          "UCL School of Management",
          "UNSW Sydney (The University of New South Wales)",
          "Unity",
          "Universidad Austral",
          "Universidad Nacional Autónoma de México",
          "Universidad de Chile",
          "Universidad de los Andes",
          "Universidade Estadual de Campinas",
          "Universidade de São Paulo",
          "Universitat Autònoma de Barcelona",
          "Universitat de Barcelona",
          "Universiteit Leiden",
          "University System of Georgia",
          "University at Buffalo",
          "University of Alberta",
          "University of Amsterdam",
          "University of California San Diego",
          "University of California, Davis",
          "University of California, Irvine",
          "University of California, Santa Cruz",
          "University of Cape Town",
          "University of Colorado Boulder",
          "University of Colorado System",
          "University of Copenhagen",
          "University of Florida",
          "University of Geneva",
          "University of Illinois at Urbana-Champaign",
          "University of Lausanne",
          "University of London",
          "University of Maryland, College Park",
          "University of Michigan",
          "University of Minnesota",
          "University of New Mexico",
          "University of Pennsylvania",
          "University of Pittsburgh",
          "University of Toronto",
          "University of Virginia",
          "University of Washington",
          "Università Bocconi",
          "VMware",
          "Vanderbilt University",
          "Wesleyan University",
          "West Virginia University",
          "Yale University",
          "Yonsei University",
          "deeplearning.ai",
          "École Polytechnique",
          "École Polytechnique Fédérale de Lausanne",
          "École des Ponts ParisTech"
         ],
         "type": "pie",
         "values": [
          3,
          6,
          1,
          2,
          7,
          2,
          4,
          1,
          1,
          14,
          1,
          1,
          6,
          3,
          2,
          1,
          7,
          1,
          5,
          1,
          28,
          6,
          3,
          1,
          1,
          8,
          1,
          5,
          5,
          1,
          10,
          4,
          9,
          1,
          34,
          6,
          1,
          1,
          22,
          6,
          1,
          5,
          3,
          1,
          9,
          4,
          2,
          1,
          28,
          1,
          3,
          1,
          2,
          2,
          1,
          9,
          1,
          1,
          1,
          10,
          2,
          1,
          1,
          7,
          1,
          2,
          5,
          10,
          1,
          1,
          1,
          2,
          1,
          7,
          3,
          1,
          13,
          1,
          6,
          3,
          4,
          7,
          3,
          1,
          1,
          16,
          2,
          3,
          1,
          2,
          7,
          1,
          6,
          2,
          4,
          2,
          8,
          1,
          3,
          3,
          4,
          1,
          1,
          1,
          2,
          1,
          3,
          2,
          4,
          14,
          3,
          5,
          1,
          3,
          8,
          1,
          9,
          3,
          4,
          11,
          6,
          9,
          21,
          27,
          4,
          3,
          19,
          13,
          2,
          3,
          6,
          22,
          1,
          3,
          6,
          41,
          11,
          1,
          59,
          3,
          11,
          19,
          5,
          7,
          1,
          3,
          5,
          2,
          17,
          4,
          16,
          1,
          4,
          1
         ]
        }
       ],
       "layout": {
        "template": {
         "data": {
          "bar": [
           {
            "error_x": {
             "color": "#2a3f5f"
            },
            "error_y": {
             "color": "#2a3f5f"
            },
            "marker": {
             "line": {
              "color": "#E5ECF6",
              "width": 0.5
             }
            },
            "type": "bar"
           }
          ],
          "barpolar": [
           {
            "marker": {
             "line": {
              "color": "#E5ECF6",
              "width": 0.5
             }
            },
            "type": "barpolar"
           }
          ],
          "carpet": [
           {
            "aaxis": {
             "endlinecolor": "#2a3f5f",
             "gridcolor": "white",
             "linecolor": "white",
             "minorgridcolor": "white",
             "startlinecolor": "#2a3f5f"
            },
            "baxis": {
             "endlinecolor": "#2a3f5f",
             "gridcolor": "white",
             "linecolor": "white",
             "minorgridcolor": "white",
             "startlinecolor": "#2a3f5f"
            },
            "type": "carpet"
           }
          ],
          "choropleth": [
           {
            "colorbar": {
             "outlinewidth": 0,
             "ticks": ""
            },
            "type": "choropleth"
           }
          ],
          "contour": [
           {
            "colorbar": {
             "outlinewidth": 0,
             "ticks": ""
            },
            "colorscale": [
             [
              0,
              "#0d0887"
             ],
             [
              0.1111111111111111,
              "#46039f"
             ],
             [
              0.2222222222222222,
              "#7201a8"
             ],
             [
              0.3333333333333333,
              "#9c179e"
             ],
             [
              0.4444444444444444,
              "#bd3786"
             ],
             [
              0.5555555555555556,
              "#d8576b"
             ],
             [
              0.6666666666666666,
              "#ed7953"
             ],
             [
              0.7777777777777778,
              "#fb9f3a"
             ],
             [
              0.8888888888888888,
              "#fdca26"
             ],
             [
              1,
              "#f0f921"
             ]
            ],
            "type": "contour"
           }
          ],
          "contourcarpet": [
           {
            "colorbar": {
             "outlinewidth": 0,
             "ticks": ""
            },
            "type": "contourcarpet"
           }
          ],
          "heatmap": [
           {
            "colorbar": {
             "outlinewidth": 0,
             "ticks": ""
            },
            "colorscale": [
             [
              0,
              "#0d0887"
             ],
             [
              0.1111111111111111,
              "#46039f"
             ],
             [
              0.2222222222222222,
              "#7201a8"
             ],
             [
              0.3333333333333333,
              "#9c179e"
             ],
             [
              0.4444444444444444,
              "#bd3786"
             ],
             [
              0.5555555555555556,
              "#d8576b"
             ],
             [
              0.6666666666666666,
              "#ed7953"
             ],
             [
              0.7777777777777778,
              "#fb9f3a"
             ],
             [
              0.8888888888888888,
              "#fdca26"
             ],
             [
              1,
              "#f0f921"
             ]
            ],
            "type": "heatmap"
           }
          ],
          "heatmapgl": [
           {
            "colorbar": {
             "outlinewidth": 0,
             "ticks": ""
            },
            "colorscale": [
             [
              0,
              "#0d0887"
             ],
             [
              0.1111111111111111,
              "#46039f"
             ],
             [
              0.2222222222222222,
              "#7201a8"
             ],
             [
              0.3333333333333333,
              "#9c179e"
             ],
             [
              0.4444444444444444,
              "#bd3786"
             ],
             [
              0.5555555555555556,
              "#d8576b"
             ],
             [
              0.6666666666666666,
              "#ed7953"
             ],
             [
              0.7777777777777778,
              "#fb9f3a"
             ],
             [
              0.8888888888888888,
              "#fdca26"
             ],
             [
              1,
              "#f0f921"
             ]
            ],
            "type": "heatmapgl"
           }
          ],
          "histogram": [
           {
            "marker": {
             "colorbar": {
              "outlinewidth": 0,
              "ticks": ""
             }
            },
            "type": "histogram"
           }
          ],
          "histogram2d": [
           {
            "colorbar": {
             "outlinewidth": 0,
             "ticks": ""
            },
            "colorscale": [
             [
              0,
              "#0d0887"
             ],
             [
              0.1111111111111111,
              "#46039f"
             ],
             [
              0.2222222222222222,
              "#7201a8"
             ],
             [
              0.3333333333333333,
              "#9c179e"
             ],
             [
              0.4444444444444444,
              "#bd3786"
             ],
             [
              0.5555555555555556,
              "#d8576b"
             ],
             [
              0.6666666666666666,
              "#ed7953"
             ],
             [
              0.7777777777777778,
              "#fb9f3a"
             ],
             [
              0.8888888888888888,
              "#fdca26"
             ],
             [
              1,
              "#f0f921"
             ]
            ],
            "type": "histogram2d"
           }
          ],
          "histogram2dcontour": [
           {
            "colorbar": {
             "outlinewidth": 0,
             "ticks": ""
            },
            "colorscale": [
             [
              0,
              "#0d0887"
             ],
             [
              0.1111111111111111,
              "#46039f"
             ],
             [
              0.2222222222222222,
              "#7201a8"
             ],
             [
              0.3333333333333333,
              "#9c179e"
             ],
             [
              0.4444444444444444,
              "#bd3786"
             ],
             [
              0.5555555555555556,
              "#d8576b"
             ],
             [
              0.6666666666666666,
              "#ed7953"
             ],
             [
              0.7777777777777778,
              "#fb9f3a"
             ],
             [
              0.8888888888888888,
              "#fdca26"
             ],
             [
              1,
              "#f0f921"
             ]
            ],
            "type": "histogram2dcontour"
           }
          ],
          "mesh3d": [
           {
            "colorbar": {
             "outlinewidth": 0,
             "ticks": ""
            },
            "type": "mesh3d"
           }
          ],
          "parcoords": [
           {
            "line": {
             "colorbar": {
              "outlinewidth": 0,
              "ticks": ""
             }
            },
            "type": "parcoords"
           }
          ],
          "pie": [
           {
            "automargin": true,
            "type": "pie"
           }
          ],
          "scatter": [
           {
            "marker": {
             "colorbar": {
              "outlinewidth": 0,
              "ticks": ""
             }
            },
            "type": "scatter"
           }
          ],
          "scatter3d": [
           {
            "line": {
             "colorbar": {
              "outlinewidth": 0,
              "ticks": ""
             }
            },
            "marker": {
             "colorbar": {
              "outlinewidth": 0,
              "ticks": ""
             }
            },
            "type": "scatter3d"
           }
          ],
          "scattercarpet": [
           {
            "marker": {
             "colorbar": {
              "outlinewidth": 0,
              "ticks": ""
             }
            },
            "type": "scattercarpet"
           }
          ],
          "scattergeo": [
           {
            "marker": {
             "colorbar": {
              "outlinewidth": 0,
              "ticks": ""
             }
            },
            "type": "scattergeo"
           }
          ],
          "scattergl": [
           {
            "marker": {
             "colorbar": {
              "outlinewidth": 0,
              "ticks": ""
             }
            },
            "type": "scattergl"
           }
          ],
          "scattermapbox": [
           {
            "marker": {
             "colorbar": {
              "outlinewidth": 0,
              "ticks": ""
             }
            },
            "type": "scattermapbox"
           }
          ],
          "scatterpolar": [
           {
            "marker": {
             "colorbar": {
              "outlinewidth": 0,
              "ticks": ""
             }
            },
            "type": "scatterpolar"
           }
          ],
          "scatterpolargl": [
           {
            "marker": {
             "colorbar": {
              "outlinewidth": 0,
              "ticks": ""
             }
            },
            "type": "scatterpolargl"
           }
          ],
          "scatterternary": [
           {
            "marker": {
             "colorbar": {
              "outlinewidth": 0,
              "ticks": ""
             }
            },
            "type": "scatterternary"
           }
          ],
          "surface": [
           {
            "colorbar": {
             "outlinewidth": 0,
             "ticks": ""
            },
            "colorscale": [
             [
              0,
              "#0d0887"
             ],
             [
              0.1111111111111111,
              "#46039f"
             ],
             [
              0.2222222222222222,
              "#7201a8"
             ],
             [
              0.3333333333333333,
              "#9c179e"
             ],
             [
              0.4444444444444444,
              "#bd3786"
             ],
             [
              0.5555555555555556,
              "#d8576b"
             ],
             [
              0.6666666666666666,
              "#ed7953"
             ],
             [
              0.7777777777777778,
              "#fb9f3a"
             ],
             [
              0.8888888888888888,
              "#fdca26"
             ],
             [
              1,
              "#f0f921"
             ]
            ],
            "type": "surface"
           }
          ],
          "table": [
           {
            "cells": {
             "fill": {
              "color": "#EBF0F8"
             },
             "line": {
              "color": "white"
             }
            },
            "header": {
             "fill": {
              "color": "#C8D4E3"
             },
             "line": {
              "color": "white"
             }
            },
            "type": "table"
           }
          ]
         },
         "layout": {
          "annotationdefaults": {
           "arrowcolor": "#2a3f5f",
           "arrowhead": 0,
           "arrowwidth": 1
          },
          "coloraxis": {
           "colorbar": {
            "outlinewidth": 0,
            "ticks": ""
           }
          },
          "colorscale": {
           "diverging": [
            [
             0,
             "#8e0152"
            ],
            [
             0.1,
             "#c51b7d"
            ],
            [
             0.2,
             "#de77ae"
            ],
            [
             0.3,
             "#f1b6da"
            ],
            [
             0.4,
             "#fde0ef"
            ],
            [
             0.5,
             "#f7f7f7"
            ],
            [
             0.6,
             "#e6f5d0"
            ],
            [
             0.7,
             "#b8e186"
            ],
            [
             0.8,
             "#7fbc41"
            ],
            [
             0.9,
             "#4d9221"
            ],
            [
             1,
             "#276419"
            ]
           ],
           "sequential": [
            [
             0,
             "#0d0887"
            ],
            [
             0.1111111111111111,
             "#46039f"
            ],
            [
             0.2222222222222222,
             "#7201a8"
            ],
            [
             0.3333333333333333,
             "#9c179e"
            ],
            [
             0.4444444444444444,
             "#bd3786"
            ],
            [
             0.5555555555555556,
             "#d8576b"
            ],
            [
             0.6666666666666666,
             "#ed7953"
            ],
            [
             0.7777777777777778,
             "#fb9f3a"
            ],
            [
             0.8888888888888888,
             "#fdca26"
            ],
            [
             1,
             "#f0f921"
            ]
           ],
           "sequentialminus": [
            [
             0,
             "#0d0887"
            ],
            [
             0.1111111111111111,
             "#46039f"
            ],
            [
             0.2222222222222222,
             "#7201a8"
            ],
            [
             0.3333333333333333,
             "#9c179e"
            ],
            [
             0.4444444444444444,
             "#bd3786"
            ],
            [
             0.5555555555555556,
             "#d8576b"
            ],
            [
             0.6666666666666666,
             "#ed7953"
            ],
            [
             0.7777777777777778,
             "#fb9f3a"
            ],
            [
             0.8888888888888888,
             "#fdca26"
            ],
            [
             1,
             "#f0f921"
            ]
           ]
          },
          "colorway": [
           "#636efa",
           "#EF553B",
           "#00cc96",
           "#ab63fa",
           "#FFA15A",
           "#19d3f3",
           "#FF6692",
           "#B6E880",
           "#FF97FF",
           "#FECB52"
          ],
          "font": {
           "color": "#2a3f5f"
          },
          "geo": {
           "bgcolor": "white",
           "lakecolor": "white",
           "landcolor": "#E5ECF6",
           "showlakes": true,
           "showland": true,
           "subunitcolor": "white"
          },
          "hoverlabel": {
           "align": "left"
          },
          "hovermode": "closest",
          "mapbox": {
           "style": "light"
          },
          "paper_bgcolor": "white",
          "plot_bgcolor": "#E5ECF6",
          "polar": {
           "angularaxis": {
            "gridcolor": "white",
            "linecolor": "white",
            "ticks": ""
           },
           "bgcolor": "#E5ECF6",
           "radialaxis": {
            "gridcolor": "white",
            "linecolor": "white",
            "ticks": ""
           }
          },
          "scene": {
           "xaxis": {
            "backgroundcolor": "#E5ECF6",
            "gridcolor": "white",
            "gridwidth": 2,
            "linecolor": "white",
            "showbackground": true,
            "ticks": "",
            "zerolinecolor": "white"
           },
           "yaxis": {
            "backgroundcolor": "#E5ECF6",
            "gridcolor": "white",
            "gridwidth": 2,
            "linecolor": "white",
            "showbackground": true,
            "ticks": "",
            "zerolinecolor": "white"
           },
           "zaxis": {
            "backgroundcolor": "#E5ECF6",
            "gridcolor": "white",
            "gridwidth": 2,
            "linecolor": "white",
            "showbackground": true,
            "ticks": "",
            "zerolinecolor": "white"
           }
          },
          "shapedefaults": {
           "line": {
            "color": "#2a3f5f"
           }
          },
          "ternary": {
           "aaxis": {
            "gridcolor": "white",
            "linecolor": "white",
            "ticks": ""
           },
           "baxis": {
            "gridcolor": "white",
            "linecolor": "white",
            "ticks": ""
           },
           "bgcolor": "#E5ECF6",
           "caxis": {
            "gridcolor": "white",
            "linecolor": "white",
            "ticks": ""
           }
          },
          "title": {
           "x": 0.05
          },
          "xaxis": {
           "automargin": true,
           "gridcolor": "white",
           "linecolor": "white",
           "ticks": "",
           "title": {
            "standoff": 15
           },
           "zerolinecolor": "white",
           "zerolinewidth": 2
          },
          "yaxis": {
           "automargin": true,
           "gridcolor": "white",
           "linecolor": "white",
           "ticks": "",
           "title": {
            "standoff": 15
           },
           "zerolinecolor": "white",
           "zerolinewidth": 2
          }
         }
        }
       }
      },
      "text/html": [
       "<div>\n",
       "        \n",
       "        \n",
       "            <div id=\"60bdd498-bbc8-4b31-972e-fc9fce9dfd61\" class=\"plotly-graph-div\" style=\"height:525px; width:100%;\"></div>\n",
       "            <script type=\"text/javascript\">\n",
       "                require([\"plotly\"], function(Plotly) {\n",
       "                    window.PLOTLYENV=window.PLOTLYENV || {};\n",
       "                    \n",
       "                if (document.getElementById(\"60bdd498-bbc8-4b31-972e-fc9fce9dfd61\")) {\n",
       "                    Plotly.newPlot(\n",
       "                        '60bdd498-bbc8-4b31-972e-fc9fce9dfd61',\n",
       "                        [{\"labels\": [\"(ISC)\\u00b2\", \"Amazon Web Services\", \"American Institute of Business and Economics\", \"American Museum of Natural History\", \"Arizona State University\", \"Atlassian\", \"Autodesk\", \"Automation Anywhere\", \"BCG\", \"Berklee College of Music\", \"Birkbeck, University of London\", \"Bloomsbury Learning Exchange\", \"California Institute of the Arts\", \"Case Western Reserve University\", \"Cisco\", \"Cloudera\", \"Columbia University\", \"ConsenSys Academy\", \"Copenhagen Business School\", \"Crece con Google\", \"Duke University\", \"E-Learning Development Fund\", \"EDHEC Business School\", \"ESADE Business and Law School\", \"ESCP Business School\", \"ESSEC Business School\", \"Eindhoven University of Technology\", \"Emory University\", \"Erasmus University Rotterdam\", \"Funda\\u00e7\\u00e3o Instituto de Administra\\u00e7\\u00e3o\", \"Georgia Institute of Technology\", \"Goldsmiths, University of London\", \"Google\", \"Google - Spectrum Sharing\", \"Google Cloud\", \"HEC Paris\", \"Hebrew University of Jerusalem\", \"HubSpot Academy\", \"IBM\", \"IE Business School\", \"IE School of Architecture & Design\", \"IESE Business School\", \"INSEAD\", \"Icahn School of Medicine at Mount Sinai\", \"Imperial College London\", \"Indian School of Business\", \"Institute for the Future\", \"JetBrains\", \"Johns Hopkins University\", \"Kalshoven-Gieskes Forum\", \"LearnQuest\", \"London Business School\", \"Ludwig-Maximilians-Universit\\u00e4t M\\u00fcnchen (LMU)\", \"Lund University\", \"Luther College at the University of Regina\", \"Macquarie University\", \"Mail.Ru Group\", \"MathWorks\", \"McMaster University\", \"Michigan State University\", \"Moscow Institute of Physics and Technology\", \"Nanyang Technological University, Singapore\", \"National Arts Strategies\", \"National Research University Higher School of Economics\", \"National Taiwan University\", \"New York Institute of Finance\", \"New York University\", \"Northwestern University\", \"Novosibirsk State University \", \"Osmosis\", \"Palo Alto Networks\", \"Peking University\", \"Peter the Great St. Petersburg Polytechnic University\", \"Pontificia Universidad Cat\\u00f3lica de Chile\", \"PwC\", \"Relay Graduate School of Education\", \"Rice University\", \"Royal Holloway, University of London\", \"Rutgers the State University of New Jersey\", \"SAS\", \"SOAS University of London\", \"Saint Petersburg State University\", \"Sciences Po\", \"ScrumTrek\", \"Shanghai Jiao Tong University\", \"Stanford University\", \"Technical University of Denmark (DTU)\", \"Tecnol\\u00f3gico de Monterrey\", \"Tel Aviv University\", \"The George Washington University\", \"The Hong Kong University of Science and Technology\", \"The Linux Foundation\", \"The Museum of Modern Art\", \"The Pennsylvania State University\", \"The State University of New York\", \"The University of Chicago\", \"The University of Edinburgh\", \"The University of Hong Kong\", \"The University of Melbourne\", \"The University of North Carolina at Chapel Hill\", \"The University of Sydney\", \"The University of Tokyo\", \"Ticket for Change\", \"Tsinghua University\", \"UCL Institute of Education\", \"UCL School of Management\", \"UNSW Sydney (The University of New South Wales)\", \"Unity\", \"Universidad Austral\", \"Universidad Nacional Aut\\u00f3noma de M\\u00e9xico\", \"Universidad de Chile\", \"Universidad de los Andes\", \"Universidade Estadual de Campinas\", \"Universidade de S\\u00e3o Paulo\", \"Universitat Aut\\u00f2noma de Barcelona\", \"Universitat de Barcelona\", \"Universiteit Leiden\", \"University System of Georgia\", \"University at Buffalo\", \"University of Alberta\", \"University of Amsterdam\", \"University of California San Diego\", \"University of California, Davis\", \"University of California, Irvine\", \"University of California, Santa Cruz\", \"University of Cape Town\", \"University of Colorado Boulder\", \"University of Colorado System\", \"University of Copenhagen\", \"University of Florida\", \"University of Geneva\", \"University of Illinois at Urbana-Champaign\", \"University of Lausanne\", \"University of London\", \"University of Maryland, College Park\", \"University of Michigan\", \"University of Minnesota\", \"University of New Mexico\", \"University of Pennsylvania\", \"University of Pittsburgh\", \"University of Toronto\", \"University of Virginia\", \"University of Washington\", \"Universit\\u00e0 Bocconi\", \"VMware\", \"Vanderbilt University\", \"Wesleyan University\", \"West Virginia University\", \"Yale University\", \"Yonsei University\", \"deeplearning.ai\", \"\\u00c9cole Polytechnique\", \"\\u00c9cole Polytechnique F\\u00e9d\\u00e9rale de Lausanne\", \"\\u00c9cole des Ponts ParisTech\"], \"type\": \"pie\", \"values\": [3, 6, 1, 2, 7, 2, 4, 1, 1, 14, 1, 1, 6, 3, 2, 1, 7, 1, 5, 1, 28, 6, 3, 1, 1, 8, 1, 5, 5, 1, 10, 4, 9, 1, 34, 6, 1, 1, 22, 6, 1, 5, 3, 1, 9, 4, 2, 1, 28, 1, 3, 1, 2, 2, 1, 9, 1, 1, 1, 10, 2, 1, 1, 7, 1, 2, 5, 10, 1, 1, 1, 2, 1, 7, 3, 1, 13, 1, 6, 3, 4, 7, 3, 1, 1, 16, 2, 3, 1, 2, 7, 1, 6, 2, 4, 2, 8, 1, 3, 3, 4, 1, 1, 1, 2, 1, 3, 2, 4, 14, 3, 5, 1, 3, 8, 1, 9, 3, 4, 11, 6, 9, 21, 27, 4, 3, 19, 13, 2, 3, 6, 22, 1, 3, 6, 41, 11, 1, 59, 3, 11, 19, 5, 7, 1, 3, 5, 2, 17, 4, 16, 1, 4, 1]}],\n",
       "                        {\"template\": {\"data\": {\"bar\": [{\"error_x\": {\"color\": \"#2a3f5f\"}, \"error_y\": {\"color\": \"#2a3f5f\"}, \"marker\": {\"line\": {\"color\": \"#E5ECF6\", \"width\": 0.5}}, \"type\": \"bar\"}], \"barpolar\": [{\"marker\": {\"line\": {\"color\": \"#E5ECF6\", \"width\": 0.5}}, \"type\": \"barpolar\"}], \"carpet\": [{\"aaxis\": {\"endlinecolor\": \"#2a3f5f\", \"gridcolor\": \"white\", \"linecolor\": \"white\", \"minorgridcolor\": \"white\", \"startlinecolor\": \"#2a3f5f\"}, \"baxis\": {\"endlinecolor\": \"#2a3f5f\", \"gridcolor\": \"white\", \"linecolor\": \"white\", \"minorgridcolor\": \"white\", \"startlinecolor\": \"#2a3f5f\"}, \"type\": \"carpet\"}], \"choropleth\": [{\"colorbar\": {\"outlinewidth\": 0, \"ticks\": \"\"}, \"type\": \"choropleth\"}], \"contour\": [{\"colorbar\": {\"outlinewidth\": 0, \"ticks\": \"\"}, \"colorscale\": [[0.0, \"#0d0887\"], [0.1111111111111111, \"#46039f\"], [0.2222222222222222, \"#7201a8\"], [0.3333333333333333, \"#9c179e\"], [0.4444444444444444, \"#bd3786\"], [0.5555555555555556, \"#d8576b\"], [0.6666666666666666, \"#ed7953\"], [0.7777777777777778, \"#fb9f3a\"], [0.8888888888888888, \"#fdca26\"], [1.0, \"#f0f921\"]], \"type\": \"contour\"}], \"contourcarpet\": [{\"colorbar\": {\"outlinewidth\": 0, \"ticks\": \"\"}, \"type\": \"contourcarpet\"}], \"heatmap\": [{\"colorbar\": {\"outlinewidth\": 0, \"ticks\": \"\"}, \"colorscale\": [[0.0, \"#0d0887\"], [0.1111111111111111, \"#46039f\"], [0.2222222222222222, \"#7201a8\"], [0.3333333333333333, \"#9c179e\"], [0.4444444444444444, \"#bd3786\"], [0.5555555555555556, \"#d8576b\"], [0.6666666666666666, \"#ed7953\"], [0.7777777777777778, \"#fb9f3a\"], [0.8888888888888888, \"#fdca26\"], [1.0, \"#f0f921\"]], \"type\": \"heatmap\"}], \"heatmapgl\": [{\"colorbar\": {\"outlinewidth\": 0, \"ticks\": \"\"}, \"colorscale\": [[0.0, \"#0d0887\"], [0.1111111111111111, \"#46039f\"], [0.2222222222222222, \"#7201a8\"], [0.3333333333333333, \"#9c179e\"], [0.4444444444444444, \"#bd3786\"], [0.5555555555555556, \"#d8576b\"], [0.6666666666666666, \"#ed7953\"], [0.7777777777777778, \"#fb9f3a\"], [0.8888888888888888, \"#fdca26\"], [1.0, \"#f0f921\"]], \"type\": \"heatmapgl\"}], \"histogram\": [{\"marker\": {\"colorbar\": {\"outlinewidth\": 0, \"ticks\": \"\"}}, \"type\": \"histogram\"}], \"histogram2d\": [{\"colorbar\": {\"outlinewidth\": 0, \"ticks\": \"\"}, \"colorscale\": [[0.0, \"#0d0887\"], [0.1111111111111111, \"#46039f\"], [0.2222222222222222, \"#7201a8\"], [0.3333333333333333, \"#9c179e\"], [0.4444444444444444, \"#bd3786\"], [0.5555555555555556, \"#d8576b\"], [0.6666666666666666, \"#ed7953\"], [0.7777777777777778, \"#fb9f3a\"], [0.8888888888888888, \"#fdca26\"], [1.0, \"#f0f921\"]], \"type\": \"histogram2d\"}], \"histogram2dcontour\": [{\"colorbar\": {\"outlinewidth\": 0, \"ticks\": \"\"}, \"colorscale\": [[0.0, \"#0d0887\"], [0.1111111111111111, \"#46039f\"], [0.2222222222222222, \"#7201a8\"], [0.3333333333333333, \"#9c179e\"], [0.4444444444444444, \"#bd3786\"], [0.5555555555555556, \"#d8576b\"], [0.6666666666666666, \"#ed7953\"], [0.7777777777777778, \"#fb9f3a\"], [0.8888888888888888, \"#fdca26\"], [1.0, \"#f0f921\"]], \"type\": \"histogram2dcontour\"}], \"mesh3d\": [{\"colorbar\": {\"outlinewidth\": 0, \"ticks\": \"\"}, \"type\": \"mesh3d\"}], \"parcoords\": [{\"line\": {\"colorbar\": {\"outlinewidth\": 0, \"ticks\": \"\"}}, \"type\": \"parcoords\"}], \"pie\": [{\"automargin\": true, \"type\": \"pie\"}], \"scatter\": [{\"marker\": {\"colorbar\": {\"outlinewidth\": 0, \"ticks\": \"\"}}, \"type\": \"scatter\"}], \"scatter3d\": [{\"line\": {\"colorbar\": {\"outlinewidth\": 0, \"ticks\": \"\"}}, \"marker\": {\"colorbar\": {\"outlinewidth\": 0, \"ticks\": \"\"}}, \"type\": \"scatter3d\"}], \"scattercarpet\": [{\"marker\": {\"colorbar\": {\"outlinewidth\": 0, \"ticks\": \"\"}}, \"type\": \"scattercarpet\"}], \"scattergeo\": [{\"marker\": {\"colorbar\": {\"outlinewidth\": 0, \"ticks\": \"\"}}, \"type\": \"scattergeo\"}], \"scattergl\": [{\"marker\": {\"colorbar\": {\"outlinewidth\": 0, \"ticks\": \"\"}}, \"type\": \"scattergl\"}], \"scattermapbox\": [{\"marker\": {\"colorbar\": {\"outlinewidth\": 0, \"ticks\": \"\"}}, \"type\": \"scattermapbox\"}], \"scatterpolar\": [{\"marker\": {\"colorbar\": {\"outlinewidth\": 0, \"ticks\": \"\"}}, \"type\": \"scatterpolar\"}], \"scatterpolargl\": [{\"marker\": {\"colorbar\": {\"outlinewidth\": 0, \"ticks\": \"\"}}, \"type\": \"scatterpolargl\"}], \"scatterternary\": [{\"marker\": {\"colorbar\": {\"outlinewidth\": 0, \"ticks\": \"\"}}, \"type\": \"scatterternary\"}], \"surface\": [{\"colorbar\": {\"outlinewidth\": 0, \"ticks\": \"\"}, \"colorscale\": [[0.0, \"#0d0887\"], [0.1111111111111111, \"#46039f\"], [0.2222222222222222, \"#7201a8\"], [0.3333333333333333, \"#9c179e\"], [0.4444444444444444, \"#bd3786\"], [0.5555555555555556, \"#d8576b\"], [0.6666666666666666, \"#ed7953\"], [0.7777777777777778, \"#fb9f3a\"], [0.8888888888888888, \"#fdca26\"], [1.0, \"#f0f921\"]], \"type\": \"surface\"}], \"table\": [{\"cells\": {\"fill\": {\"color\": \"#EBF0F8\"}, \"line\": {\"color\": \"white\"}}, \"header\": {\"fill\": {\"color\": \"#C8D4E3\"}, \"line\": {\"color\": \"white\"}}, \"type\": \"table\"}]}, \"layout\": {\"annotationdefaults\": {\"arrowcolor\": \"#2a3f5f\", \"arrowhead\": 0, \"arrowwidth\": 1}, \"coloraxis\": {\"colorbar\": {\"outlinewidth\": 0, \"ticks\": \"\"}}, \"colorscale\": {\"diverging\": [[0, \"#8e0152\"], [0.1, \"#c51b7d\"], [0.2, \"#de77ae\"], [0.3, \"#f1b6da\"], [0.4, \"#fde0ef\"], [0.5, \"#f7f7f7\"], [0.6, \"#e6f5d0\"], [0.7, \"#b8e186\"], [0.8, \"#7fbc41\"], [0.9, \"#4d9221\"], [1, \"#276419\"]], \"sequential\": [[0.0, \"#0d0887\"], [0.1111111111111111, \"#46039f\"], [0.2222222222222222, \"#7201a8\"], [0.3333333333333333, \"#9c179e\"], [0.4444444444444444, \"#bd3786\"], [0.5555555555555556, \"#d8576b\"], [0.6666666666666666, \"#ed7953\"], [0.7777777777777778, \"#fb9f3a\"], [0.8888888888888888, \"#fdca26\"], [1.0, \"#f0f921\"]], \"sequentialminus\": [[0.0, \"#0d0887\"], [0.1111111111111111, \"#46039f\"], [0.2222222222222222, \"#7201a8\"], [0.3333333333333333, \"#9c179e\"], [0.4444444444444444, \"#bd3786\"], [0.5555555555555556, \"#d8576b\"], [0.6666666666666666, \"#ed7953\"], [0.7777777777777778, \"#fb9f3a\"], [0.8888888888888888, \"#fdca26\"], [1.0, \"#f0f921\"]]}, \"colorway\": [\"#636efa\", \"#EF553B\", \"#00cc96\", \"#ab63fa\", \"#FFA15A\", \"#19d3f3\", \"#FF6692\", \"#B6E880\", \"#FF97FF\", \"#FECB52\"], \"font\": {\"color\": \"#2a3f5f\"}, \"geo\": {\"bgcolor\": \"white\", \"lakecolor\": \"white\", \"landcolor\": \"#E5ECF6\", \"showlakes\": true, \"showland\": true, \"subunitcolor\": \"white\"}, \"hoverlabel\": {\"align\": \"left\"}, \"hovermode\": \"closest\", \"mapbox\": {\"style\": \"light\"}, \"paper_bgcolor\": \"white\", \"plot_bgcolor\": \"#E5ECF6\", \"polar\": {\"angularaxis\": {\"gridcolor\": \"white\", \"linecolor\": \"white\", \"ticks\": \"\"}, \"bgcolor\": \"#E5ECF6\", \"radialaxis\": {\"gridcolor\": \"white\", \"linecolor\": \"white\", \"ticks\": \"\"}}, \"scene\": {\"xaxis\": {\"backgroundcolor\": \"#E5ECF6\", \"gridcolor\": \"white\", \"gridwidth\": 2, \"linecolor\": \"white\", \"showbackground\": true, \"ticks\": \"\", \"zerolinecolor\": \"white\"}, \"yaxis\": {\"backgroundcolor\": \"#E5ECF6\", \"gridcolor\": \"white\", \"gridwidth\": 2, \"linecolor\": \"white\", \"showbackground\": true, \"ticks\": \"\", \"zerolinecolor\": \"white\"}, \"zaxis\": {\"backgroundcolor\": \"#E5ECF6\", \"gridcolor\": \"white\", \"gridwidth\": 2, \"linecolor\": \"white\", \"showbackground\": true, \"ticks\": \"\", \"zerolinecolor\": \"white\"}}, \"shapedefaults\": {\"line\": {\"color\": \"#2a3f5f\"}}, \"ternary\": {\"aaxis\": {\"gridcolor\": \"white\", \"linecolor\": \"white\", \"ticks\": \"\"}, \"baxis\": {\"gridcolor\": \"white\", \"linecolor\": \"white\", \"ticks\": \"\"}, \"bgcolor\": \"#E5ECF6\", \"caxis\": {\"gridcolor\": \"white\", \"linecolor\": \"white\", \"ticks\": \"\"}}, \"title\": {\"x\": 0.05}, \"xaxis\": {\"automargin\": true, \"gridcolor\": \"white\", \"linecolor\": \"white\", \"ticks\": \"\", \"title\": {\"standoff\": 15}, \"zerolinecolor\": \"white\", \"zerolinewidth\": 2}, \"yaxis\": {\"automargin\": true, \"gridcolor\": \"white\", \"linecolor\": \"white\", \"ticks\": \"\", \"title\": {\"standoff\": 15}, \"zerolinecolor\": \"white\", \"zerolinewidth\": 2}}}},\n",
       "                        {\"responsive\": true}\n",
       "                    ).then(function(){\n",
       "                            \n",
       "var gd = document.getElementById('60bdd498-bbc8-4b31-972e-fc9fce9dfd61');\n",
       "var x = new MutationObserver(function (mutations, observer) {{\n",
       "        var display = window.getComputedStyle(gd).display;\n",
       "        if (!display || display === 'none') {{\n",
       "            console.log([gd, 'removed!']);\n",
       "            Plotly.purge(gd);\n",
       "            observer.disconnect();\n",
       "        }}\n",
       "}});\n",
       "\n",
       "// Listen for the removal of the full notebook cells\n",
       "var notebookContainer = gd.closest('#notebook-container');\n",
       "if (notebookContainer) {{\n",
       "    x.observe(notebookContainer, {childList: true});\n",
       "}}\n",
       "\n",
       "// Listen for the clearing of the current output cell\n",
       "var outputEl = gd.closest('.output');\n",
       "if (outputEl) {{\n",
       "    x.observe(outputEl, {childList: true});\n",
       "}}\n",
       "\n",
       "                        })\n",
       "                };\n",
       "                });\n",
       "            </script>\n",
       "        </div>"
      ]
     },
     "metadata": {},
     "output_type": "display_data"
    }
   ],
   "source": [
    "course_org = ds.groupby('course_organization').count().reset_index()\n",
    "\n",
    "trace = go.Pie(labels = course_org['course_organization'], values =course_org['course_students_enrolled'] )\n",
    "data = [trace]\n",
    "fig = go.Figure(data = data)\n",
    "iplot(fig)"
   ]
  },
  {
   "cell_type": "code",
   "execution_count": null,
   "metadata": {},
   "outputs": [],
   "source": []
  }
 ],
 "metadata": {
  "kernelspec": {
   "display_name": "Python 3",
   "language": "python",
   "name": "python3"
  },
  "language_info": {
   "codemirror_mode": {
    "name": "ipython",
    "version": 3
   },
   "file_extension": ".py",
   "mimetype": "text/x-python",
   "name": "python",
   "nbconvert_exporter": "python",
   "pygments_lexer": "ipython3",
   "version": "3.7.6"
  }
 },
 "nbformat": 4,
 "nbformat_minor": 4
}
